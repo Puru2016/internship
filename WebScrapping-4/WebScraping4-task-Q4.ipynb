{
 "cells": [
  {
   "cell_type": "markdown",
   "id": "49ebe4db",
   "metadata": {},
   "source": [
    "# Q4: Scrape the details of trending repositories on Github.com."
   ]
  },
  {
   "cell_type": "code",
   "execution_count": 1,
   "id": "b1d92da1",
   "metadata": {},
   "outputs": [
    {
     "name": "stdout",
     "output_type": "stream",
     "text": [
      "Requirement already satisfied: pandas in ./anaconda3/lib/python3.10/site-packages (2.0.3)\n",
      "Requirement already satisfied: python-dateutil>=2.8.2 in ./anaconda3/lib/python3.10/site-packages (from pandas) (2.8.2)\n",
      "Requirement already satisfied: numpy>=1.21.0 in ./anaconda3/lib/python3.10/site-packages (from pandas) (1.25.2)\n",
      "Requirement already satisfied: pytz>=2020.1 in ./anaconda3/lib/python3.10/site-packages (from pandas) (2022.7)\n",
      "Requirement already satisfied: tzdata>=2022.1 in ./anaconda3/lib/python3.10/site-packages (from pandas) (2023.3)\n",
      "Requirement already satisfied: six>=1.5 in ./anaconda3/lib/python3.10/site-packages (from python-dateutil>=2.8.2->pandas) (1.16.0)\n",
      "Requirement already satisfied: selenium in ./anaconda3/lib/python3.10/site-packages (4.14.0)\n",
      "Requirement already satisfied: certifi>=2021.10.8 in ./anaconda3/lib/python3.10/site-packages (from selenium) (2023.7.22)\n",
      "Requirement already satisfied: trio~=0.17 in ./anaconda3/lib/python3.10/site-packages (from selenium) (0.22.2)\n",
      "Requirement already satisfied: urllib3[socks]<3,>=1.26 in ./anaconda3/lib/python3.10/site-packages (from selenium) (1.26.15)\n",
      "Requirement already satisfied: trio-websocket~=0.9 in ./anaconda3/lib/python3.10/site-packages (from selenium) (0.10.4)\n",
      "Requirement already satisfied: outcome in ./anaconda3/lib/python3.10/site-packages (from trio~=0.17->selenium) (1.2.0)\n",
      "Requirement already satisfied: attrs>=20.1.0 in ./anaconda3/lib/python3.10/site-packages (from trio~=0.17->selenium) (22.1.0)\n",
      "Requirement already satisfied: exceptiongroup>=1.0.0rc9 in ./anaconda3/lib/python3.10/site-packages (from trio~=0.17->selenium) (1.1.3)\n",
      "Requirement already satisfied: sniffio in ./anaconda3/lib/python3.10/site-packages (from trio~=0.17->selenium) (1.2.0)\n",
      "Requirement already satisfied: idna in ./anaconda3/lib/python3.10/site-packages (from trio~=0.17->selenium) (3.4)\n",
      "Requirement already satisfied: sortedcontainers in ./anaconda3/lib/python3.10/site-packages (from trio~=0.17->selenium) (2.4.0)\n",
      "Requirement already satisfied: wsproto>=0.14 in ./anaconda3/lib/python3.10/site-packages (from trio-websocket~=0.9->selenium) (1.2.0)\n",
      "Requirement already satisfied: PySocks!=1.5.7,<2.0,>=1.5.6 in ./anaconda3/lib/python3.10/site-packages (from urllib3[socks]<3,>=1.26->selenium) (1.7.1)\n",
      "Requirement already satisfied: h11<1,>=0.9.0 in ./anaconda3/lib/python3.10/site-packages (from wsproto>=0.14->trio-websocket~=0.9->selenium) (0.14.0)\n"
     ]
    }
   ],
   "source": [
    "!pip install pandas\n",
    "!pip install --upgrade selenium"
   ]
  },
  {
   "cell_type": "code",
   "execution_count": 54,
   "id": "ea217da3",
   "metadata": {},
   "outputs": [],
   "source": [
    "import selenium\n",
    "import pandas as pd\n",
    "from selenium import webdriver\n",
    "import warnings\n",
    "warnings.filterwarnings('ignore')\n",
    "from selenium.webdriver.common.by import By\n",
    "import time"
   ]
  },
  {
   "cell_type": "code",
   "execution_count": 71,
   "id": "60263094",
   "metadata": {},
   "outputs": [],
   "source": [
    "driver = webdriver.Chrome()\n",
    "driver.get(\"https://github.com/\")"
   ]
  },
  {
   "cell_type": "code",
   "execution_count": 72,
   "id": "e689a2f6",
   "metadata": {},
   "outputs": [],
   "source": [
    "time.sleep(5)\n",
    "\n",
    "closepopup = driver.find_element(By.XPATH,'/html/body/div[1]/div[1]/header/div/div[2]/div/nav/ul/li[3]/button')\n",
    "closepopup.click()\n",
    "\n",
    "time.sleep(3)\n",
    "clickoncategory = driver.find_element(By.XPATH, '/html/body/div[1]/div[1]/header/div/div[2]/div/nav/ul/li[3]/div/div[3]/ul/li[2]/a')\n",
    "clickoncategory.click()"
   ]
  },
  {
   "cell_type": "code",
   "execution_count": 73,
   "id": "c7edf84e",
   "metadata": {},
   "outputs": [
    {
     "data": {
      "text/html": [
       "<div>\n",
       "<style scoped>\n",
       "    .dataframe tbody tr th:only-of-type {\n",
       "        vertical-align: middle;\n",
       "    }\n",
       "\n",
       "    .dataframe tbody tr th {\n",
       "        vertical-align: top;\n",
       "    }\n",
       "\n",
       "    .dataframe thead th {\n",
       "        text-align: right;\n",
       "    }\n",
       "</style>\n",
       "<table border=\"1\" class=\"dataframe\">\n",
       "  <thead>\n",
       "    <tr style=\"text-align: right;\">\n",
       "      <th></th>\n",
       "      <th>0</th>\n",
       "    </tr>\n",
       "  </thead>\n",
       "  <tbody>\n",
       "    <tr>\n",
       "      <th>0</th>\n",
       "      <td>https://github.com/NVIDIA/TensorRT-LLM</td>\n",
       "    </tr>\n",
       "    <tr>\n",
       "      <th>1</th>\n",
       "      <td>https://github.com/localsend/localsend</td>\n",
       "    </tr>\n",
       "    <tr>\n",
       "      <th>2</th>\n",
       "      <td>https://github.com/OpenBMB/XAgent</td>\n",
       "    </tr>\n",
       "    <tr>\n",
       "      <th>3</th>\n",
       "      <td>https://github.com/WisdomShell/codeshell</td>\n",
       "    </tr>\n",
       "    <tr>\n",
       "      <th>4</th>\n",
       "      <td>https://github.com/WisdomShell/codeshell-vscode</td>\n",
       "    </tr>\n",
       "    <tr>\n",
       "      <th>5</th>\n",
       "      <td>https://github.com/neuralmagic/deepsparse</td>\n",
       "    </tr>\n",
       "    <tr>\n",
       "      <th>6</th>\n",
       "      <td>https://github.com/Planetary-Computers/autotab...</td>\n",
       "    </tr>\n",
       "    <tr>\n",
       "      <th>7</th>\n",
       "      <td>https://github.com/ByteByteGoHq/system-design-101</td>\n",
       "    </tr>\n",
       "    <tr>\n",
       "      <th>8</th>\n",
       "      <td>https://github.com/cloudcommunity/Free-Certifi...</td>\n",
       "    </tr>\n",
       "    <tr>\n",
       "      <th>9</th>\n",
       "      <td>https://github.com/danieldonda/Cybersecurity101</td>\n",
       "    </tr>\n",
       "    <tr>\n",
       "      <th>10</th>\n",
       "      <td>https://github.com/imartinez/privateGPT</td>\n",
       "    </tr>\n",
       "    <tr>\n",
       "      <th>11</th>\n",
       "      <td>https://github.com/radius-project/radius</td>\n",
       "    </tr>\n",
       "    <tr>\n",
       "      <th>12</th>\n",
       "      <td>https://github.com/ionic-team/ionic-framework</td>\n",
       "    </tr>\n",
       "    <tr>\n",
       "      <th>13</th>\n",
       "      <td>https://github.com/slowmist/SlowMist-Learning-...</td>\n",
       "    </tr>\n",
       "    <tr>\n",
       "      <th>14</th>\n",
       "      <td>https://github.com/e2b-dev/awesome-ai-agents</td>\n",
       "    </tr>\n",
       "    <tr>\n",
       "      <th>15</th>\n",
       "      <td>https://github.com/felipemotarocha/fullstackwe...</td>\n",
       "    </tr>\n",
       "    <tr>\n",
       "      <th>16</th>\n",
       "      <td>https://github.com/AntonOsika/gpt-engineer</td>\n",
       "    </tr>\n",
       "    <tr>\n",
       "      <th>17</th>\n",
       "      <td>https://github.com/commaai/openpilot</td>\n",
       "    </tr>\n",
       "    <tr>\n",
       "      <th>18</th>\n",
       "      <td>https://github.com/apexcharts/apexcharts.js</td>\n",
       "    </tr>\n",
       "    <tr>\n",
       "      <th>19</th>\n",
       "      <td>https://github.com/TheRealJoelmatic/RemoveAdbl...</td>\n",
       "    </tr>\n",
       "    <tr>\n",
       "      <th>20</th>\n",
       "      <td>https://github.com/thuml/Time-Series-Library</td>\n",
       "    </tr>\n",
       "    <tr>\n",
       "      <th>21</th>\n",
       "      <td>https://github.com/danielgross/localpilot</td>\n",
       "    </tr>\n",
       "    <tr>\n",
       "      <th>22</th>\n",
       "      <td>https://github.com/babysor/MockingBird</td>\n",
       "    </tr>\n",
       "    <tr>\n",
       "      <th>23</th>\n",
       "      <td>https://github.com/cloudflare/workers-sdk</td>\n",
       "    </tr>\n",
       "    <tr>\n",
       "      <th>24</th>\n",
       "      <td>https://github.com/hashicorp/terraform-provide...</td>\n",
       "    </tr>\n",
       "  </tbody>\n",
       "</table>\n",
       "</div>"
      ],
      "text/plain": [
       "                                                    0\n",
       "0              https://github.com/NVIDIA/TensorRT-LLM\n",
       "1              https://github.com/localsend/localsend\n",
       "2                   https://github.com/OpenBMB/XAgent\n",
       "3            https://github.com/WisdomShell/codeshell\n",
       "4     https://github.com/WisdomShell/codeshell-vscode\n",
       "5           https://github.com/neuralmagic/deepsparse\n",
       "6   https://github.com/Planetary-Computers/autotab...\n",
       "7   https://github.com/ByteByteGoHq/system-design-101\n",
       "8   https://github.com/cloudcommunity/Free-Certifi...\n",
       "9     https://github.com/danieldonda/Cybersecurity101\n",
       "10            https://github.com/imartinez/privateGPT\n",
       "11           https://github.com/radius-project/radius\n",
       "12      https://github.com/ionic-team/ionic-framework\n",
       "13  https://github.com/slowmist/SlowMist-Learning-...\n",
       "14       https://github.com/e2b-dev/awesome-ai-agents\n",
       "15  https://github.com/felipemotarocha/fullstackwe...\n",
       "16         https://github.com/AntonOsika/gpt-engineer\n",
       "17               https://github.com/commaai/openpilot\n",
       "18        https://github.com/apexcharts/apexcharts.js\n",
       "19  https://github.com/TheRealJoelmatic/RemoveAdbl...\n",
       "20       https://github.com/thuml/Time-Series-Library\n",
       "21          https://github.com/danielgross/localpilot\n",
       "22             https://github.com/babysor/MockingBird\n",
       "23          https://github.com/cloudflare/workers-sdk\n",
       "24  https://github.com/hashicorp/terraform-provide..."
      ]
     },
     "execution_count": 73,
     "metadata": {},
     "output_type": "execute_result"
    }
   ],
   "source": [
    "repo_urls =[]\n",
    "\n",
    "urls = driver.find_elements(By.XPATH,'//a[@class=\"Link\"]')\n",
    "\n",
    "for url in urls:\n",
    "    #print(url.get_attribute(\"href\"))    \n",
    "    repo_urls.append(url.get_attribute(\"href\"))\n",
    "    \n",
    "repo_urls\n",
    "    \n",
    "df = pd.DataFrame(repo_urls)\n",
    "df"
   ]
  },
  {
   "cell_type": "code",
   "execution_count": 77,
   "id": "56997115",
   "metadata": {},
   "outputs": [
    {
     "data": {
      "text/plain": [
       "[]"
      ]
     },
     "execution_count": 77,
     "metadata": {},
     "output_type": "execute_result"
    }
   ],
   "source": [
    "repo_title = []\n",
    "repo_desc = []\n",
    "repo_contu = []\n",
    "repo_lang = []\n",
    "\n",
    "for oneurl in repo_urls[0:5]:\n",
    "    driver.get(oneurl)    \n",
    "    \n",
    "    title = driver.find_elements(By.XPATH,'//div[@class=\" d-flex flex-wrap flex-items-center wb-break-word f3 text-normal\"]')\n",
    "\n",
    "    for i in title:\n",
    "        title_value = i.text.strip()\n",
    "        repo_title.append(title_value)\n",
    "        \n",
    "    description = driver.find_elements(By.XPATH,'//p[@class=\"f4 my-3\"]')\n",
    "\n",
    "    for i in description:\n",
    "        description_value = i.text\n",
    "        repo_desc.append(description_value)\n",
    "        \n",
    "    contributers = driver.find_elements(By.XPATH,'/html/body/div[1]/div[4]/div/main/turbo-frame/div/div/div/div[2]/div[2]/div/div[5]/div/h2/a/span')\n",
    "\n",
    "    for i in contributers:\n",
    "        conti_value = i.text\n",
    "        repo_contu.append(conti_value) if conti_value == '' else repo_contu.append(\"-\")\n",
    "        \n",
    "    language = driver.find_elements(By.XPATH,'/html/body/div[1]/div[4]/div/main/turbo-frame/div/div/div/div[2]/div[2]/div/div[5]/div/h2/a/span')\n",
    "\n",
    "    for i in language:\n",
    "        lang_value = i.text\n",
    "        repo_lang.append(lang_value) if lang_value == '' else repo_contu.append(\"-\") \n",
    "        \n",
    "#repo_title\n",
    "#repo_desc\n",
    "#repo_contu\n",
    "repo_lang"
   ]
  },
  {
   "cell_type": "code",
   "execution_count": 75,
   "id": "b64c38ed",
   "metadata": {},
   "outputs": [
    {
     "name": "stdout",
     "output_type": "stream",
     "text": [
      "5 5 4\n"
     ]
    }
   ],
   "source": [
    "print(len(repo_title),len(repo_desc),len(repo_contu))"
   ]
  },
  {
   "cell_type": "code",
   "execution_count": 65,
   "id": "40774fe3",
   "metadata": {},
   "outputs": [],
   "source": [
    "driver = webdriver.Chrome()\n",
    "driver.get(\"https://github.com/ByteByteGoHq/system-design-101\")"
   ]
  },
  {
   "cell_type": "code",
   "execution_count": 68,
   "id": "14a87cc0",
   "metadata": {},
   "outputs": [
    {
     "data": {
      "text/plain": [
       "['ByteByteGoHq\\n/\\nsystem-design-101\\nPublic']"
      ]
     },
     "execution_count": 68,
     "metadata": {},
     "output_type": "execute_result"
    }
   ],
   "source": [
    "repo_contu = []\n",
    "\n",
    "contributers = driver.find_elements(By.XPATH,'//div[@class=\" d-flex flex-wrap flex-items-center wb-break-word f3 text-normal\"]')\n",
    "\n",
    "for i in contributers:\n",
    "    conti_value = i.text\n",
    "    repo_contu.append(conti_value)\n",
    "    \n",
    "repo_contu"
   ]
  },
  {
   "cell_type": "code",
   "execution_count": null,
   "id": "5dd39ee5",
   "metadata": {},
   "outputs": [],
   "source": []
  }
 ],
 "metadata": {
  "kernelspec": {
   "display_name": "Python 3 (ipykernel)",
   "language": "python",
   "name": "python3"
  },
  "language_info": {
   "codemirror_mode": {
    "name": "ipython",
    "version": 3
   },
   "file_extension": ".py",
   "mimetype": "text/x-python",
   "name": "python",
   "nbconvert_exporter": "python",
   "pygments_lexer": "ipython3",
   "version": "3.10.11"
  }
 },
 "nbformat": 4,
 "nbformat_minor": 5
}
