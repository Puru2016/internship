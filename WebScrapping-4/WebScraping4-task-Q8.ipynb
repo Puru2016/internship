{
 "cells": [
  {
   "cell_type": "markdown",
   "id": "49ebe4db",
   "metadata": {},
   "source": [
    "# Q: Details of Datasets from UCI machine learning repositories. Url = https://archive.ics.uci.edu/ You have to find the following details:"
   ]
  },
  {
   "cell_type": "code",
   "execution_count": 1,
   "id": "b1d92da1",
   "metadata": {},
   "outputs": [
    {
     "name": "stdout",
     "output_type": "stream",
     "text": [
      "Requirement already satisfied: pandas in ./anaconda3/lib/python3.10/site-packages (2.0.3)\n",
      "Requirement already satisfied: numpy>=1.21.0 in ./anaconda3/lib/python3.10/site-packages (from pandas) (1.25.2)\n",
      "Requirement already satisfied: tzdata>=2022.1 in ./anaconda3/lib/python3.10/site-packages (from pandas) (2023.3)\n",
      "Requirement already satisfied: pytz>=2020.1 in ./anaconda3/lib/python3.10/site-packages (from pandas) (2022.7)\n",
      "Requirement already satisfied: python-dateutil>=2.8.2 in ./anaconda3/lib/python3.10/site-packages (from pandas) (2.8.2)\n",
      "Requirement already satisfied: six>=1.5 in ./anaconda3/lib/python3.10/site-packages (from python-dateutil>=2.8.2->pandas) (1.16.0)\n",
      "Requirement already satisfied: selenium in ./anaconda3/lib/python3.10/site-packages (4.14.0)\n",
      "Requirement already satisfied: trio~=0.17 in ./anaconda3/lib/python3.10/site-packages (from selenium) (0.22.2)\n",
      "Requirement already satisfied: certifi>=2021.10.8 in ./anaconda3/lib/python3.10/site-packages (from selenium) (2023.7.22)\n",
      "Requirement already satisfied: trio-websocket~=0.9 in ./anaconda3/lib/python3.10/site-packages (from selenium) (0.10.4)\n",
      "Requirement already satisfied: urllib3[socks]<3,>=1.26 in ./anaconda3/lib/python3.10/site-packages (from selenium) (1.26.15)\n",
      "Requirement already satisfied: sniffio in ./anaconda3/lib/python3.10/site-packages (from trio~=0.17->selenium) (1.2.0)\n",
      "Requirement already satisfied: attrs>=20.1.0 in ./anaconda3/lib/python3.10/site-packages (from trio~=0.17->selenium) (22.1.0)\n",
      "Requirement already satisfied: idna in ./anaconda3/lib/python3.10/site-packages (from trio~=0.17->selenium) (3.4)\n",
      "Requirement already satisfied: exceptiongroup>=1.0.0rc9 in ./anaconda3/lib/python3.10/site-packages (from trio~=0.17->selenium) (1.1.3)\n",
      "Requirement already satisfied: outcome in ./anaconda3/lib/python3.10/site-packages (from trio~=0.17->selenium) (1.2.0)\n",
      "Requirement already satisfied: sortedcontainers in ./anaconda3/lib/python3.10/site-packages (from trio~=0.17->selenium) (2.4.0)\n",
      "Requirement already satisfied: wsproto>=0.14 in ./anaconda3/lib/python3.10/site-packages (from trio-websocket~=0.9->selenium) (1.2.0)\n",
      "Requirement already satisfied: PySocks!=1.5.7,<2.0,>=1.5.6 in ./anaconda3/lib/python3.10/site-packages (from urllib3[socks]<3,>=1.26->selenium) (1.7.1)\n",
      "Requirement already satisfied: h11<1,>=0.9.0 in ./anaconda3/lib/python3.10/site-packages (from wsproto>=0.14->trio-websocket~=0.9->selenium) (0.14.0)\n"
     ]
    }
   ],
   "source": [
    "!pip install pandas\n",
    "!pip install --upgrade selenium"
   ]
  },
  {
   "cell_type": "code",
   "execution_count": 2,
   "id": "ea217da3",
   "metadata": {},
   "outputs": [],
   "source": [
    "import selenium\n",
    "import pandas as pd\n",
    "from selenium import webdriver\n",
    "import warnings\n",
    "warnings.filterwarnings('ignore')\n",
    "from selenium.webdriver.common.by import By\n",
    "import time\n",
    "import re"
   ]
  },
  {
   "cell_type": "code",
   "execution_count": 3,
   "id": "60263094",
   "metadata": {},
   "outputs": [],
   "source": [
    "driver = webdriver.Chrome()\n",
    "driver.get(\"https://archive.ics.uci.edu/\")"
   ]
  },
  {
   "cell_type": "code",
   "execution_count": 4,
   "id": "e689a2f6",
   "metadata": {},
   "outputs": [],
   "source": [
    "time.sleep(5)\n",
    "\n",
    "hum_menu = driver.find_element(By.XPATH,'/html/body/div/div[1]/div[1]/header/nav/ul/li[1]/a')\n",
    "hum_menu.click()"
   ]
  },
  {
   "cell_type": "code",
   "execution_count": 22,
   "id": "c7edf84e",
   "metadata": {},
   "outputs": [
    {
     "data": {
      "text/plain": [
       "[['Classification', 'Tabular', '150 Instances', '4 Features'],\n",
       " ['Classification', 'Tabular', '150 Instances', '4 Features'],\n",
       " ['Classification', 'Multivariate', '303 Instances', '13 Features'],\n",
       " ['Classification', 'Tabular', '150 Instances', '4 Features'],\n",
       " ['Classification', 'Multivariate', '303 Instances', '13 Features'],\n",
       " ['Classification', 'Multivariate', '48.84K Instances', '14 Features'],\n",
       " ['Classification', 'Tabular', '150 Instances', '4 Features'],\n",
       " ['Classification', 'Multivariate', '303 Instances', '13 Features'],\n",
       " ['Classification', 'Multivariate', '48.84K Instances', '14 Features'],\n",
       " ['Classification', 'Tabular', '178 Instances', '13 Features'],\n",
       " ['Classification', 'Tabular', '150 Instances', '4 Features'],\n",
       " ['Classification', 'Multivariate', '303 Instances', '13 Features'],\n",
       " ['Classification', 'Multivariate', '48.84K Instances', '14 Features'],\n",
       " ['Classification', 'Tabular', '178 Instances', '13 Features'],\n",
       " ['Classification', 'Multivariate', '569 Instances', '30 Features'],\n",
       " ['Classification', 'Tabular', '150 Instances', '4 Features'],\n",
       " ['Classification', 'Multivariate', '303 Instances', '13 Features'],\n",
       " ['Classification', 'Multivariate', '48.84K Instances', '14 Features'],\n",
       " ['Classification', 'Tabular', '178 Instances', '13 Features'],\n",
       " ['Classification', 'Multivariate', '569 Instances', '30 Features'],\n",
       " ['20 Features'],\n",
       " ['Classification', 'Tabular', '150 Instances', '4 Features'],\n",
       " ['Classification', 'Multivariate', '303 Instances', '13 Features'],\n",
       " ['Classification', 'Multivariate', '48.84K Instances', '14 Features'],\n",
       " ['Classification', 'Tabular', '178 Instances', '13 Features'],\n",
       " ['Classification', 'Multivariate', '569 Instances', '30 Features'],\n",
       " ['20 Features'],\n",
       " ['Classification', 'Multivariate', '13.61K Instances', '16 Features'],\n",
       " ['Classification', 'Tabular', '150 Instances', '4 Features'],\n",
       " ['Classification', 'Multivariate', '303 Instances', '13 Features'],\n",
       " ['Classification', 'Multivariate', '48.84K Instances', '14 Features'],\n",
       " ['Classification', 'Tabular', '178 Instances', '13 Features'],\n",
       " ['Classification', 'Multivariate', '569 Instances', '30 Features'],\n",
       " ['20 Features'],\n",
       " ['Classification', 'Multivariate', '13.61K Instances', '16 Features'],\n",
       " ['Classification', 'Multivariate', '1.73K Instances', '6 Features'],\n",
       " ['Classification', 'Tabular', '150 Instances', '4 Features'],\n",
       " ['Classification', 'Multivariate', '303 Instances', '13 Features'],\n",
       " ['Classification', 'Multivariate', '48.84K Instances', '14 Features'],\n",
       " ['Classification', 'Tabular', '178 Instances', '13 Features'],\n",
       " ['Classification', 'Multivariate', '569 Instances', '30 Features'],\n",
       " ['20 Features'],\n",
       " ['Classification', 'Multivariate', '13.61K Instances', '16 Features'],\n",
       " ['Classification', 'Multivariate', '1.73K Instances', '6 Features'],\n",
       " ['Classification', 'Multivariate', '3.81K Instances', '8 Features'],\n",
       " ['Classification', 'Tabular', '150 Instances', '4 Features'],\n",
       " ['Classification', 'Multivariate', '303 Instances', '13 Features'],\n",
       " ['Classification', 'Multivariate', '48.84K Instances', '14 Features'],\n",
       " ['Classification', 'Tabular', '178 Instances', '13 Features'],\n",
       " ['Classification', 'Multivariate', '569 Instances', '30 Features'],\n",
       " ['20 Features'],\n",
       " ['Classification', 'Multivariate', '13.61K Instances', '16 Features'],\n",
       " ['Classification', 'Multivariate', '1.73K Instances', '6 Features'],\n",
       " ['Classification', 'Multivariate', '3.81K Instances', '8 Features'],\n",
       " ['Classification, Regression',\n",
       "  'Multivariate',\n",
       "  '4.9K Instances',\n",
       "  '12 Features']]"
      ]
     },
     "execution_count": 22,
     "metadata": {},
     "output_type": "execute_result"
    }
   ],
   "source": [
    "dataset_name = []\n",
    "dataset_type = []\n",
    "dataset_task = []\n",
    "dataset_attr_type = []\n",
    "dataset_instance = []\n",
    "dataset_no_attribute = []\n",
    "dataset_year = []\n",
    "\n",
    "dataset_attri = []\n",
    "\n",
    "name = driver.find_elements(By.XPATH,'//h2[@class=\"truncate text-primary\"]')\n",
    "\n",
    "for i in name:\n",
    "    name_value = i.text\n",
    "    dataset_name.append(name_value)\n",
    "    \n",
    "    \n",
    "attri = driver.find_elements(By.XPATH,'//div[@class=\"my-2 hidden gap-4 md:grid grid-cols-12\"]')\n",
    "\n",
    "for i in attri:\n",
    "    name_value = i.text\n",
    "    dataset_attri.append(name_value)\n",
    "    for j in dataset_attri:\n",
    "        #tttt = j.splitlines()\n",
    "        tttt = j.split('\\n')\n",
    "        #dataset_type.append(tttt[0])\n",
    "        dataset_task.append(tttt)\n",
    "    \n",
    "\n",
    "#dataset_type\n",
    "dataset_task"
   ]
  },
  {
   "cell_type": "code",
   "execution_count": 104,
   "id": "b64c38ed",
   "metadata": {},
   "outputs": [
    {
     "name": "stdout",
     "output_type": "stream",
     "text": [
      "5 5\n"
     ]
    }
   ],
   "source": [
    "print(len(repo_title),len(repo_desc))"
   ]
  },
  {
   "cell_type": "code",
   "execution_count": 105,
   "id": "40774fe3",
   "metadata": {},
   "outputs": [
    {
     "data": {
      "text/html": [
       "<div>\n",
       "<style scoped>\n",
       "    .dataframe tbody tr th:only-of-type {\n",
       "        vertical-align: middle;\n",
       "    }\n",
       "\n",
       "    .dataframe tbody tr th {\n",
       "        vertical-align: top;\n",
       "    }\n",
       "\n",
       "    .dataframe thead th {\n",
       "        text-align: right;\n",
       "    }\n",
       "</style>\n",
       "<table border=\"1\" class=\"dataframe\">\n",
       "  <thead>\n",
       "    <tr style=\"text-align: right;\">\n",
       "      <th></th>\n",
       "      <th>Repo Title</th>\n",
       "      <th>Repo Desc</th>\n",
       "    </tr>\n",
       "  </thead>\n",
       "  <tbody>\n",
       "    <tr>\n",
       "      <th>0</th>\n",
       "      <td>NVIDIA\\n/\\nTensorRT-LLM\\nPublic</td>\n",
       "      <td>TensorRT-LLM provides users with an easy-to-us...</td>\n",
       "    </tr>\n",
       "    <tr>\n",
       "      <th>1</th>\n",
       "      <td>localsend\\n/\\nlocalsend\\nPublic</td>\n",
       "      <td>An open source cross-platform alternative to A...</td>\n",
       "    </tr>\n",
       "    <tr>\n",
       "      <th>2</th>\n",
       "      <td>OpenBMB\\n/\\nXAgent\\nPublic</td>\n",
       "      <td>An Autonomous LLM Agent for Complex Task Solving</td>\n",
       "    </tr>\n",
       "    <tr>\n",
       "      <th>3</th>\n",
       "      <td>WisdomShell\\n/\\ncodeshell\\nPublic</td>\n",
       "      <td>A series of code large language models develop...</td>\n",
       "    </tr>\n",
       "    <tr>\n",
       "      <th>4</th>\n",
       "      <td>WisdomShell\\n/\\ncodeshell-vscode\\nPublic</td>\n",
       "      <td>An intelligent coding assistant plugin for Vis...</td>\n",
       "    </tr>\n",
       "  </tbody>\n",
       "</table>\n",
       "</div>"
      ],
      "text/plain": [
       "                                 Repo Title  \\\n",
       "0           NVIDIA\\n/\\nTensorRT-LLM\\nPublic   \n",
       "1           localsend\\n/\\nlocalsend\\nPublic   \n",
       "2                OpenBMB\\n/\\nXAgent\\nPublic   \n",
       "3         WisdomShell\\n/\\ncodeshell\\nPublic   \n",
       "4  WisdomShell\\n/\\ncodeshell-vscode\\nPublic   \n",
       "\n",
       "                                           Repo Desc  \n",
       "0  TensorRT-LLM provides users with an easy-to-us...  \n",
       "1  An open source cross-platform alternative to A...  \n",
       "2   An Autonomous LLM Agent for Complex Task Solving  \n",
       "3  A series of code large language models develop...  \n",
       "4  An intelligent coding assistant plugin for Vis...  "
      ]
     },
     "execution_count": 105,
     "metadata": {},
     "output_type": "execute_result"
    }
   ],
   "source": [
    "# Making Dataframe\n",
    "df = pd.DataFrame({'Repo Title':repo_title, 'Repo Desc':repo_desc})\n",
    "df"
   ]
  },
  {
   "cell_type": "code",
   "execution_count": null,
   "id": "bc4e4adc",
   "metadata": {},
   "outputs": [],
   "source": []
  }
 ],
 "metadata": {
  "kernelspec": {
   "display_name": "Python 3 (ipykernel)",
   "language": "python",
   "name": "python3"
  },
  "language_info": {
   "codemirror_mode": {
    "name": "ipython",
    "version": 3
   },
   "file_extension": ".py",
   "mimetype": "text/x-python",
   "name": "python",
   "nbconvert_exporter": "python",
   "pygments_lexer": "ipython3",
   "version": "3.10.11"
  }
 },
 "nbformat": 4,
 "nbformat_minor": 5
}
