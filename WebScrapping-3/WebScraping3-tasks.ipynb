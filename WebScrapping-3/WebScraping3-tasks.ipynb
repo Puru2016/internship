{
 "cells": [
  {
   "cell_type": "markdown",
   "id": "fdacf01e",
   "metadata": {},
   "source": [
    "# Q1. Write a python program which searches all the product under a particular product from www.amazon.in. The product to be searched will be taken as input from user. For e.g. If user input is ‘guitar’. Then search for guitars."
   ]
  },
  {
   "cell_type": "code",
   "execution_count": 1,
   "id": "29b935e1",
   "metadata": {},
   "outputs": [
    {
     "name": "stdout",
     "output_type": "stream",
     "text": [
      "Requirement already satisfied: pandas in ./anaconda3/lib/python3.10/site-packages (2.0.3)\n",
      "Requirement already satisfied: pytz>=2020.1 in ./anaconda3/lib/python3.10/site-packages (from pandas) (2022.7)\n",
      "Requirement already satisfied: tzdata>=2022.1 in ./anaconda3/lib/python3.10/site-packages (from pandas) (2023.3)\n",
      "Requirement already satisfied: numpy>=1.21.0 in ./anaconda3/lib/python3.10/site-packages (from pandas) (1.25.2)\n",
      "Requirement already satisfied: python-dateutil>=2.8.2 in ./anaconda3/lib/python3.10/site-packages (from pandas) (2.8.2)\n",
      "Requirement already satisfied: six>=1.5 in ./anaconda3/lib/python3.10/site-packages (from python-dateutil>=2.8.2->pandas) (1.16.0)\n",
      "Note: you may need to restart the kernel to use updated packages.\n"
     ]
    }
   ],
   "source": [
    "pip install pandas"
   ]
  },
  {
   "cell_type": "code",
   "execution_count": 2,
   "id": "560be9ac",
   "metadata": {},
   "outputs": [
    {
     "name": "stdout",
     "output_type": "stream",
     "text": [
      "Requirement already satisfied: selenium in ./anaconda3/lib/python3.10/site-packages (4.13.0)\n",
      "Requirement already satisfied: certifi>=2021.10.8 in ./anaconda3/lib/python3.10/site-packages (from selenium) (2023.7.22)\n",
      "Requirement already satisfied: urllib3[socks]<3,>=1.26 in ./anaconda3/lib/python3.10/site-packages (from selenium) (1.26.15)\n",
      "Requirement already satisfied: trio-websocket~=0.9 in ./anaconda3/lib/python3.10/site-packages (from selenium) (0.10.4)\n",
      "Requirement already satisfied: trio~=0.17 in ./anaconda3/lib/python3.10/site-packages (from selenium) (0.22.2)\n",
      "Requirement already satisfied: sortedcontainers in ./anaconda3/lib/python3.10/site-packages (from trio~=0.17->selenium) (2.4.0)\n",
      "Requirement already satisfied: sniffio in ./anaconda3/lib/python3.10/site-packages (from trio~=0.17->selenium) (1.2.0)\n",
      "Requirement already satisfied: outcome in ./anaconda3/lib/python3.10/site-packages (from trio~=0.17->selenium) (1.2.0)\n",
      "Requirement already satisfied: exceptiongroup>=1.0.0rc9 in ./anaconda3/lib/python3.10/site-packages (from trio~=0.17->selenium) (1.1.3)\n",
      "Requirement already satisfied: idna in ./anaconda3/lib/python3.10/site-packages (from trio~=0.17->selenium) (3.4)\n",
      "Requirement already satisfied: attrs>=20.1.0 in ./anaconda3/lib/python3.10/site-packages (from trio~=0.17->selenium) (22.1.0)\n",
      "Requirement already satisfied: wsproto>=0.14 in ./anaconda3/lib/python3.10/site-packages (from trio-websocket~=0.9->selenium) (1.2.0)\n",
      "Requirement already satisfied: PySocks!=1.5.7,<2.0,>=1.5.6 in ./anaconda3/lib/python3.10/site-packages (from urllib3[socks]<3,>=1.26->selenium) (1.7.1)\n",
      "Requirement already satisfied: h11<1,>=0.9.0 in ./anaconda3/lib/python3.10/site-packages (from wsproto>=0.14->trio-websocket~=0.9->selenium) (0.14.0)\n",
      "Note: you may need to restart the kernel to use updated packages.\n"
     ]
    }
   ],
   "source": [
    "pip install --upgrade selenium"
   ]
  },
  {
   "cell_type": "code",
   "execution_count": 3,
   "id": "b1d92da1",
   "metadata": {},
   "outputs": [],
   "source": [
    "import selenium\n",
    "import pandas as pd\n",
    "from selenium import webdriver\n",
    "import warnings\n",
    "warnings.filterwarnings('ignore')\n",
    "from selenium.webdriver.common.by import By\n",
    "import urllib\n",
    "import time"
   ]
  },
  {
   "cell_type": "code",
   "execution_count": 5,
   "id": "42469bd6",
   "metadata": {},
   "outputs": [],
   "source": [
    "driver = webdriver.Chrome()\n",
    "driver.get(\"https://www.amazon.in/\")"
   ]
  },
  {
   "cell_type": "code",
   "execution_count": 6,
   "id": "adf7669b",
   "metadata": {},
   "outputs": [
    {
     "name": "stdout",
     "output_type": "stream",
     "text": [
      "Search Product here....guitars\n"
     ]
    }
   ],
   "source": [
    "val = input('Search Product here....')\n",
    "time.sleep(5)\n",
    "searchterms = driver.find_element(By.ID,\"twotabsearchtextbox\")\n",
    "searchterms.send_keys(val)"
   ]
  },
  {
   "cell_type": "code",
   "execution_count": 7,
   "id": "22496d68",
   "metadata": {},
   "outputs": [],
   "source": [
    "search = driver.find_element(By.ID,\"nav-search-submit-button\")\n",
    "search.click()"
   ]
  },
  {
   "cell_type": "markdown",
   "id": "dd46df69",
   "metadata": {},
   "source": [
    "# Q2"
   ]
  },
  {
   "cell_type": "code",
   "execution_count": 20,
   "id": "c1052bec",
   "metadata": {},
   "outputs": [
    {
     "data": {
      "text/html": [
       "<div>\n",
       "<style scoped>\n",
       "    .dataframe tbody tr th:only-of-type {\n",
       "        vertical-align: middle;\n",
       "    }\n",
       "\n",
       "    .dataframe tbody tr th {\n",
       "        vertical-align: top;\n",
       "    }\n",
       "\n",
       "    .dataframe thead th {\n",
       "        text-align: right;\n",
       "    }\n",
       "</style>\n",
       "<table border=\"1\" class=\"dataframe\">\n",
       "  <thead>\n",
       "    <tr style=\"text-align: right;\">\n",
       "      <th></th>\n",
       "      <th>0</th>\n",
       "    </tr>\n",
       "  </thead>\n",
       "  <tbody>\n",
       "    <tr>\n",
       "      <th>0</th>\n",
       "      <td>https://www.amazon.in/sspa/click?ie=UTF8&amp;spc=M...</td>\n",
       "    </tr>\n",
       "    <tr>\n",
       "      <th>1</th>\n",
       "      <td>https://www.amazon.in/sspa/click?ie=UTF8&amp;spc=M...</td>\n",
       "    </tr>\n",
       "    <tr>\n",
       "      <th>2</th>\n",
       "      <td>https://www.amazon.in/sspa/click?ie=UTF8&amp;spc=M...</td>\n",
       "    </tr>\n",
       "    <tr>\n",
       "      <th>3</th>\n",
       "      <td>https://www.amazon.in/sspa/click?ie=UTF8&amp;spc=M...</td>\n",
       "    </tr>\n",
       "    <tr>\n",
       "      <th>4</th>\n",
       "      <td>https://www.amazon.in/Juarez-Acoustic-Cutaway-...</td>\n",
       "    </tr>\n",
       "  </tbody>\n",
       "</table>\n",
       "</div>"
      ],
      "text/plain": [
       "                                                   0\n",
       "0  https://www.amazon.in/sspa/click?ie=UTF8&spc=M...\n",
       "1  https://www.amazon.in/sspa/click?ie=UTF8&spc=M...\n",
       "2  https://www.amazon.in/sspa/click?ie=UTF8&spc=M...\n",
       "3  https://www.amazon.in/sspa/click?ie=UTF8&spc=M...\n",
       "4  https://www.amazon.in/Juarez-Acoustic-Cutaway-..."
      ]
     },
     "execution_count": 20,
     "metadata": {},
     "output_type": "execute_result"
    }
   ],
   "source": [
    "product_urls =[]\n",
    "\n",
    "urls = driver.find_elements(By.XPATH,'//a[@class=\"a-link-normal s-underline-text s-underline-link-text s-link-style a-text-normal\"]')\n",
    "\n",
    "for url in urls[0:5]:\n",
    "    #print(url.get_attribute(\"href\"))    \n",
    "    product_urls.append(url.get_attribute(\"href\"))\n",
    "    \n",
    "product_urls\n",
    "    \n",
    "    #time.sleep(5)\n",
    "    #driver.get(url.get_attribute(\"href\"))\n",
    "    \n",
    "    #guitars_brand = []\n",
    "\n",
    "    #brand = driver.find_elements(By.XPATH,'//span[@class=\"a-size-large product-title-word-break\"]')\n",
    "\n",
    "    #for i in brand:\n",
    "    #    brandvalue = i.text\n",
    "    #    guitars_brand.append(brandvalue)\n",
    "\n",
    "\n",
    "    #guitars_brand\n",
    "    \n",
    "df = pd.DataFrame(product_urls)\n",
    "df"
   ]
  },
  {
   "cell_type": "code",
   "execution_count": 19,
   "id": "fe7e75ab",
   "metadata": {},
   "outputs": [
    {
     "data": {
      "text/plain": [
       "['https://www.amazon.in/sspa/click?ie=UTF8&spc=MTo4Nzg5Mzk0MTM5NjkyNjQ0OjE2OTY2NjI0MTE6c3BfYXRmOjMwMDAzMTMyOTU5MDczMjo6MDo6&url=%2FKadence-A281BK-Professional-Acoustic-Rosewood%2Fdp%2FB0CD7D6C6R%2Fref%3Dsr_1_1_sspa%3Fcrid%3D2A0M7RGRCKEYM%26keywords%3Dguitars%26qid%3D1696662411%26sprefix%3Dguitars%252Caps%252C373%26sr%3D8-1-spons%26sp_csd%3Dd2lkZ2V0TmFtZT1zcF9hdGY%26psc%3D1',\n",
       " 'https://www.amazon.in/sspa/click?ie=UTF8&spc=MTo4Nzg5Mzk0MTM5NjkyNjQ0OjE2OTY2NjI0MTE6c3BfYXRmOjMwMDAxNTUzNzk3OTIzMjo6MDo6&url=%2FKadence-Frontier-Acoustic-Guitar-Strings%2Fdp%2FB078GTJP5Y%2Fref%3Dsr_1_2_sspa%3Fcrid%3D2A0M7RGRCKEYM%26keywords%3Dguitars%26qid%3D1696662411%26sprefix%3Dguitars%252Caps%252C373%26sr%3D8-2-spons%26sp_csd%3Dd2lkZ2V0TmFtZT1zcF9hdGY%26psc%3D1',\n",
       " 'https://www.amazon.in/sspa/click?ie=UTF8&spc=MTo4Nzg5Mzk0MTM5NjkyNjQ0OjE2OTY2NjI0MTE6c3BfYXRmOjIwMDU3MTkzMDU2MjA0OjowOjo&url=%2FKadence-Slowhand-Premium-Acoustic-Instrument%2Fdp%2FB077SZ667X%2Fref%3Dsr_1_3_sspa%3Fcrid%3D2A0M7RGRCKEYM%26keywords%3Dguitars%26qid%3D1696662411%26sprefix%3Dguitars%252Caps%252C373%26sr%3D8-3-spons%26sp_csd%3Dd2lkZ2V0TmFtZT1zcF9hdGY%26psc%3D1',\n",
       " 'https://www.amazon.in/sspa/click?ie=UTF8&spc=MTo4Nzg5Mzk0MTM5NjkyNjQ0OjE2OTY2NjI0MTE6c3BfYXRmOjIwMDk2NjA4NzUwNDk4OjowOjo&url=%2FKadence-Frontier-Acoustic-Guitar-Strings%2Fdp%2FB01GDZ46AA%2Fref%3Dsr_1_4_sspa%3Fcrid%3D2A0M7RGRCKEYM%26keywords%3Dguitars%26qid%3D1696662411%26sprefix%3Dguitars%252Caps%252C373%26sr%3D8-4-spons%26sp_csd%3Dd2lkZ2V0TmFtZT1zcF9hdGY%26psc%3D1',\n",
       " 'https://www.amazon.in/Juarez-Acoustic-Cutaway-038C-Strings/dp/B017NPCSLI/ref=sr_1_5?crid=2A0M7RGRCKEYM&keywords=guitars&qid=1696662411&sprefix=guitars%2Caps%2C373&sr=8-5',\n",
       " 'https://www.amazon.in/Intern-INT-38C-Acoustic-Guitar-Blue/dp/B073B5RZBV/ref=sr_1_6?crid=2A0M7RGRCKEYM&keywords=guitars&qid=1696662411&sprefix=guitars%2Caps%2C373&sr=8-6',\n",
       " 'https://www.amazon.in/Yamaha-F280-Acoustic-Guitar-Natural/dp/B08317Y4VP/ref=sr_1_7?crid=2A0M7RGRCKEYM&keywords=guitars&qid=1696662411&sprefix=guitars%2Caps%2C373&sr=8-7',\n",
       " 'https://www.amazon.in/Lindenwood-Cutaway-Acoustic-Plectrums-sunburst/dp/B085HV4YW7/ref=sr_1_8?crid=2A0M7RGRCKEYM&keywords=guitars&qid=1696662411&sprefix=guitars%2Caps%2C373&sr=8-8',\n",
       " 'https://www.amazon.in/JUAREZ-JRZ38C-Acoustic-Sunburst-Strings/dp/B01FYYTDTU/ref=sr_1_9?crid=2A0M7RGRCKEYM&keywords=guitars&qid=1696662411&sprefix=guitars%2Caps%2C373&sr=8-9',\n",
       " 'https://www.amazon.in/Kadence-Astro-Electric-Guitar-FRETS/dp/B09YHPH1MZ/ref=sr_1_10?crid=2A0M7RGRCKEYM&keywords=guitars&qid=1696662411&sprefix=guitars%2Caps%2C373&sr=8-10']"
      ]
     },
     "execution_count": 19,
     "metadata": {},
     "output_type": "execute_result"
    }
   ],
   "source": [
    "product_urls"
   ]
  },
  {
   "cell_type": "code",
   "execution_count": 21,
   "id": "e148c4e3",
   "metadata": {},
   "outputs": [
    {
     "data": {
      "text/plain": [
       "['7 days Replacement',\n",
       " '7 days Replacement',\n",
       " '',\n",
       " '7 days Replacement',\n",
       " '',\n",
       " '7 days Replacement',\n",
       " '',\n",
       " '7 days Replacement',\n",
       " '']"
      ]
     },
     "execution_count": 21,
     "metadata": {},
     "output_type": "execute_result"
    }
   ],
   "source": [
    "guitars_brand = []\n",
    "guitars_name = []\n",
    "guitars_price = []\n",
    "guitars_availibility = []\n",
    "expected_delivery = []\n",
    "guitar_urls = []\n",
    "guitars_exchange = []\n",
    "\n",
    "delivery = None\n",
    "\n",
    "for oneurl in product_urls:\n",
    "    driver.get(oneurl)    \n",
    "    \n",
    "    brand = driver.find_elements(By.XPATH,'//*[@id=\"productOverview_feature_div\"]/div/table/tbody/tr[1]/td[2]/span')\n",
    "\n",
    "    for i in brand:\n",
    "        brandvalue = i.text\n",
    "        guitars_brand.append(brandvalue)\n",
    "        \n",
    "    description = driver.find_elements(By.XPATH,'//h1[@class=\"a-size-large a-spacing-none\"]')\n",
    "\n",
    "    for i in description:\n",
    "        descvalue = i.text\n",
    "        guitars_name.append(descvalue)\n",
    "    \n",
    "    price = driver.find_elements(By.XPATH,'/html/body/div[2]/div/div[5]/div[3]/div[4]/div[13]/div/div[1]/div[4]/div[1]/span[2]/span[2]/span[2]')\n",
    "\n",
    "    for i in price:\n",
    "        pricevalue = i.text\n",
    "        guitars_price.append(pricevalue)\n",
    "        \n",
    "    avaibility = driver.find_elements(By.XPATH,'//span[@class=\"a-size-medium a-color-success\"]')\n",
    "\n",
    "    for i in avaibility:\n",
    "        avaibilityvalue = i.text\n",
    "        guitars_availibility.append(avaibilityvalue)\n",
    "        \n",
    "        \n",
    "    delivery = driver.find_elements(By.XPATH,'//*[@id=\"mir-layout-DELIVERY_BLOCK-slot-SECONDARY_DELIVERY_MESSAGE_LARGE\"]/span/span[1]')\n",
    "\n",
    "    if delivery is not None:\n",
    "        for i in delivery:\n",
    "            deliveryvalue = i.text\n",
    "            expected_delivery.append(deliveryvalue)\n",
    "            \n",
    "    p_url = driver.find_elements(By.XPATH,'//span[@class=\"a-size-large product-title-word-break\"]')\n",
    "    \n",
    "    #for i in p_url:\n",
    "    #    pUrlvalue = oneurl\n",
    "    #    guitar_urls.append(pUrlvalue) \n",
    "    guitar_urls.append(oneurl)\n",
    "\n",
    "    exchange = driver.find_elements(By.XPATH,'//*[@id=\"RETURNS_POLICY\"]/span/div[2]/span')\n",
    "\n",
    "    for i in exchange:\n",
    "        excvalue = i.text\n",
    "        guitars_exchange.append(excvalue)\n",
    "\n",
    "guitars_brand\n",
    "guitars_name\n",
    "guitars_price\n",
    "guitars_availibility\n",
    "expected_delivery\n",
    "guitar_urls\n",
    "guitars_exchange"
   ]
  },
  {
   "cell_type": "code",
   "execution_count": 22,
   "id": "6dc32e72",
   "metadata": {},
   "outputs": [
    {
     "name": "stdout",
     "output_type": "stream",
     "text": [
      "5 5 4 7 7 5 9\n"
     ]
    }
   ],
   "source": [
    "print(len(guitars_brand),len(guitars_name),len(guitars_price),len(guitars_availibility),len(expected_delivery),len(guitar_urls),len(guitars_exchange))"
   ]
  },
  {
   "cell_type": "code",
   "execution_count": 12,
   "id": "c3d806da",
   "metadata": {},
   "outputs": [
    {
     "ename": "ValueError",
     "evalue": "All arrays must be of the same length",
     "output_type": "error",
     "traceback": [
      "\u001b[0;31m---------------------------------------------------------------------------\u001b[0m",
      "\u001b[0;31mValueError\u001b[0m                                Traceback (most recent call last)",
      "Cell \u001b[0;32mIn[12], line 2\u001b[0m\n\u001b[1;32m      1\u001b[0m \u001b[38;5;66;03m# Making Dataframe\u001b[39;00m\n\u001b[0;32m----> 2\u001b[0m df \u001b[38;5;241m=\u001b[39m \u001b[43mpd\u001b[49m\u001b[38;5;241;43m.\u001b[39;49m\u001b[43mDataFrame\u001b[49m\u001b[43m(\u001b[49m\u001b[43m{\u001b[49m\u001b[38;5;124;43m'\u001b[39;49m\u001b[38;5;124;43mBrand\u001b[39;49m\u001b[38;5;124;43m'\u001b[39;49m\u001b[43m:\u001b[49m\u001b[43mguitars_brand\u001b[49m\u001b[43m,\u001b[49m\u001b[43m \u001b[49m\u001b[38;5;124;43m'\u001b[39;49m\u001b[38;5;124;43mName\u001b[39;49m\u001b[38;5;124;43m'\u001b[39;49m\u001b[43m:\u001b[49m\u001b[43mguitars_name\u001b[49m\u001b[43m,\u001b[49m\u001b[43m \u001b[49m\u001b[38;5;124;43m'\u001b[39;49m\u001b[38;5;124;43mPrice\u001b[39;49m\u001b[38;5;124;43m'\u001b[39;49m\u001b[43m:\u001b[49m\u001b[43mguitars_price\u001b[49m\u001b[43m,\u001b[49m\u001b[43m \u001b[49m\u001b[38;5;124;43m'\u001b[39;49m\u001b[38;5;124;43mStock\u001b[39;49m\u001b[38;5;124;43m'\u001b[39;49m\u001b[43m:\u001b[49m\u001b[43mguitars_availibility\u001b[49m\u001b[43m,\u001b[49m\u001b[43m \u001b[49m\u001b[38;5;124;43m'\u001b[39;49m\u001b[38;5;124;43mExp Delivery\u001b[39;49m\u001b[38;5;124;43m'\u001b[39;49m\u001b[43m:\u001b[49m\u001b[43mexpected_delivery\u001b[49m\u001b[43m,\u001b[49m\u001b[43m \u001b[49m\u001b[38;5;124;43m'\u001b[39;49m\u001b[38;5;124;43mProduct URLs\u001b[39;49m\u001b[38;5;124;43m'\u001b[39;49m\u001b[43m:\u001b[49m\u001b[43mguitar_urls\u001b[49m\u001b[43m,\u001b[49m\u001b[43m \u001b[49m\u001b[38;5;124;43m'\u001b[39;49m\u001b[38;5;124;43mExchange\u001b[39;49m\u001b[38;5;124;43m'\u001b[39;49m\u001b[43m:\u001b[49m\u001b[43mguitars_exchange\u001b[49m\u001b[43m}\u001b[49m\u001b[43m)\u001b[49m\n\u001b[1;32m      3\u001b[0m \u001b[38;5;66;03m#df = df.head(10)\u001b[39;00m\n\u001b[1;32m      5\u001b[0m df\u001b[38;5;241m.\u001b[39mset_index(\u001b[38;5;124m\"\u001b[39m\u001b[38;5;124mguitars_brand\u001b[39m\u001b[38;5;124m\"\u001b[39m)\u001b[38;5;241m.\u001b[39mhead(\u001b[38;5;241m10\u001b[39m)\n",
      "File \u001b[0;32m~/anaconda3/lib/python3.10/site-packages/pandas/core/frame.py:709\u001b[0m, in \u001b[0;36mDataFrame.__init__\u001b[0;34m(self, data, index, columns, dtype, copy)\u001b[0m\n\u001b[1;32m    703\u001b[0m     mgr \u001b[38;5;241m=\u001b[39m \u001b[38;5;28mself\u001b[39m\u001b[38;5;241m.\u001b[39m_init_mgr(\n\u001b[1;32m    704\u001b[0m         data, axes\u001b[38;5;241m=\u001b[39m{\u001b[38;5;124m\"\u001b[39m\u001b[38;5;124mindex\u001b[39m\u001b[38;5;124m\"\u001b[39m: index, \u001b[38;5;124m\"\u001b[39m\u001b[38;5;124mcolumns\u001b[39m\u001b[38;5;124m\"\u001b[39m: columns}, dtype\u001b[38;5;241m=\u001b[39mdtype, copy\u001b[38;5;241m=\u001b[39mcopy\n\u001b[1;32m    705\u001b[0m     )\n\u001b[1;32m    707\u001b[0m \u001b[38;5;28;01melif\u001b[39;00m \u001b[38;5;28misinstance\u001b[39m(data, \u001b[38;5;28mdict\u001b[39m):\n\u001b[1;32m    708\u001b[0m     \u001b[38;5;66;03m# GH#38939 de facto copy defaults to False only in non-dict cases\u001b[39;00m\n\u001b[0;32m--> 709\u001b[0m     mgr \u001b[38;5;241m=\u001b[39m \u001b[43mdict_to_mgr\u001b[49m\u001b[43m(\u001b[49m\u001b[43mdata\u001b[49m\u001b[43m,\u001b[49m\u001b[43m \u001b[49m\u001b[43mindex\u001b[49m\u001b[43m,\u001b[49m\u001b[43m \u001b[49m\u001b[43mcolumns\u001b[49m\u001b[43m,\u001b[49m\u001b[43m \u001b[49m\u001b[43mdtype\u001b[49m\u001b[38;5;241;43m=\u001b[39;49m\u001b[43mdtype\u001b[49m\u001b[43m,\u001b[49m\u001b[43m \u001b[49m\u001b[43mcopy\u001b[49m\u001b[38;5;241;43m=\u001b[39;49m\u001b[43mcopy\u001b[49m\u001b[43m,\u001b[49m\u001b[43m \u001b[49m\u001b[43mtyp\u001b[49m\u001b[38;5;241;43m=\u001b[39;49m\u001b[43mmanager\u001b[49m\u001b[43m)\u001b[49m\n\u001b[1;32m    710\u001b[0m \u001b[38;5;28;01melif\u001b[39;00m \u001b[38;5;28misinstance\u001b[39m(data, ma\u001b[38;5;241m.\u001b[39mMaskedArray):\n\u001b[1;32m    711\u001b[0m     \u001b[38;5;28;01mfrom\u001b[39;00m \u001b[38;5;21;01mnumpy\u001b[39;00m\u001b[38;5;21;01m.\u001b[39;00m\u001b[38;5;21;01mma\u001b[39;00m \u001b[38;5;28;01mimport\u001b[39;00m mrecords\n",
      "File \u001b[0;32m~/anaconda3/lib/python3.10/site-packages/pandas/core/internals/construction.py:481\u001b[0m, in \u001b[0;36mdict_to_mgr\u001b[0;34m(data, index, columns, dtype, typ, copy)\u001b[0m\n\u001b[1;32m    477\u001b[0m     \u001b[38;5;28;01melse\u001b[39;00m:\n\u001b[1;32m    478\u001b[0m         \u001b[38;5;66;03m# dtype check to exclude e.g. range objects, scalars\u001b[39;00m\n\u001b[1;32m    479\u001b[0m         arrays \u001b[38;5;241m=\u001b[39m [x\u001b[38;5;241m.\u001b[39mcopy() \u001b[38;5;28;01mif\u001b[39;00m \u001b[38;5;28mhasattr\u001b[39m(x, \u001b[38;5;124m\"\u001b[39m\u001b[38;5;124mdtype\u001b[39m\u001b[38;5;124m\"\u001b[39m) \u001b[38;5;28;01melse\u001b[39;00m x \u001b[38;5;28;01mfor\u001b[39;00m x \u001b[38;5;129;01min\u001b[39;00m arrays]\n\u001b[0;32m--> 481\u001b[0m \u001b[38;5;28;01mreturn\u001b[39;00m \u001b[43marrays_to_mgr\u001b[49m\u001b[43m(\u001b[49m\u001b[43marrays\u001b[49m\u001b[43m,\u001b[49m\u001b[43m \u001b[49m\u001b[43mcolumns\u001b[49m\u001b[43m,\u001b[49m\u001b[43m \u001b[49m\u001b[43mindex\u001b[49m\u001b[43m,\u001b[49m\u001b[43m \u001b[49m\u001b[43mdtype\u001b[49m\u001b[38;5;241;43m=\u001b[39;49m\u001b[43mdtype\u001b[49m\u001b[43m,\u001b[49m\u001b[43m \u001b[49m\u001b[43mtyp\u001b[49m\u001b[38;5;241;43m=\u001b[39;49m\u001b[43mtyp\u001b[49m\u001b[43m,\u001b[49m\u001b[43m \u001b[49m\u001b[43mconsolidate\u001b[49m\u001b[38;5;241;43m=\u001b[39;49m\u001b[43mcopy\u001b[49m\u001b[43m)\u001b[49m\n",
      "File \u001b[0;32m~/anaconda3/lib/python3.10/site-packages/pandas/core/internals/construction.py:115\u001b[0m, in \u001b[0;36marrays_to_mgr\u001b[0;34m(arrays, columns, index, dtype, verify_integrity, typ, consolidate)\u001b[0m\n\u001b[1;32m    112\u001b[0m \u001b[38;5;28;01mif\u001b[39;00m verify_integrity:\n\u001b[1;32m    113\u001b[0m     \u001b[38;5;66;03m# figure out the index, if necessary\u001b[39;00m\n\u001b[1;32m    114\u001b[0m     \u001b[38;5;28;01mif\u001b[39;00m index \u001b[38;5;129;01mis\u001b[39;00m \u001b[38;5;28;01mNone\u001b[39;00m:\n\u001b[0;32m--> 115\u001b[0m         index \u001b[38;5;241m=\u001b[39m \u001b[43m_extract_index\u001b[49m\u001b[43m(\u001b[49m\u001b[43marrays\u001b[49m\u001b[43m)\u001b[49m\n\u001b[1;32m    116\u001b[0m     \u001b[38;5;28;01melse\u001b[39;00m:\n\u001b[1;32m    117\u001b[0m         index \u001b[38;5;241m=\u001b[39m ensure_index(index)\n",
      "File \u001b[0;32m~/anaconda3/lib/python3.10/site-packages/pandas/core/internals/construction.py:655\u001b[0m, in \u001b[0;36m_extract_index\u001b[0;34m(data)\u001b[0m\n\u001b[1;32m    653\u001b[0m lengths \u001b[38;5;241m=\u001b[39m \u001b[38;5;28mlist\u001b[39m(\u001b[38;5;28mset\u001b[39m(raw_lengths))\n\u001b[1;32m    654\u001b[0m \u001b[38;5;28;01mif\u001b[39;00m \u001b[38;5;28mlen\u001b[39m(lengths) \u001b[38;5;241m>\u001b[39m \u001b[38;5;241m1\u001b[39m:\n\u001b[0;32m--> 655\u001b[0m     \u001b[38;5;28;01mraise\u001b[39;00m \u001b[38;5;167;01mValueError\u001b[39;00m(\u001b[38;5;124m\"\u001b[39m\u001b[38;5;124mAll arrays must be of the same length\u001b[39m\u001b[38;5;124m\"\u001b[39m)\n\u001b[1;32m    657\u001b[0m \u001b[38;5;28;01mif\u001b[39;00m have_dicts:\n\u001b[1;32m    658\u001b[0m     \u001b[38;5;28;01mraise\u001b[39;00m \u001b[38;5;167;01mValueError\u001b[39;00m(\n\u001b[1;32m    659\u001b[0m         \u001b[38;5;124m\"\u001b[39m\u001b[38;5;124mMixing dicts with non-Series may lead to ambiguous ordering.\u001b[39m\u001b[38;5;124m\"\u001b[39m\n\u001b[1;32m    660\u001b[0m     )\n",
      "\u001b[0;31mValueError\u001b[0m: All arrays must be of the same length"
     ]
    }
   ],
   "source": [
    "# Making Dataframe\n",
    "df = pd.DataFrame({'Brand':guitars_brand, 'Name':guitars_name, 'Price':guitars_price, 'Stock':guitars_availibility, 'Exp Delivery':expected_delivery, 'Product URLs':guitar_urls, 'Exchange':guitars_exchange}\n",
    "df.set_index(\"guitars_brand\").head(10)\n",
    "df"
   ]
  },
  {
   "cell_type": "markdown",
   "id": "3b956b82",
   "metadata": {},
   "source": [
    "# Q3"
   ]
  },
  {
   "cell_type": "code",
   "execution_count": 5,
   "id": "6d2f6362",
   "metadata": {},
   "outputs": [
    {
     "name": "stdout",
     "output_type": "stream",
     "text": [
      "Search Product here....fruits\n"
     ]
    }
   ],
   "source": [
    "driver = webdriver.Chrome()\n",
    "driver.get(\"https://images.google.com/\")\n",
    "\n",
    "val = input('Enter your search term here...')\n",
    "time.sleep(5)\n",
    "searchterms = driver.find_element(By.XPATH,'//textarea[@class=\"gLFyf\"]')\n",
    "searchterms.send_keys(val)"
   ]
  },
  {
   "cell_type": "code",
   "execution_count": 6,
   "id": "fe08c772",
   "metadata": {},
   "outputs": [],
   "source": [
    "search = driver.find_element(By.XPATH,'//button[@class=\"Tg7LZd\"]')\n",
    "search.click()"
   ]
  },
  {
   "cell_type": "code",
   "execution_count": 7,
   "id": "7e2f163a",
   "metadata": {},
   "outputs": [
    {
     "data": {
      "text/html": [
       "<div>\n",
       "<style scoped>\n",
       "    .dataframe tbody tr th:only-of-type {\n",
       "        vertical-align: middle;\n",
       "    }\n",
       "\n",
       "    .dataframe tbody tr th {\n",
       "        vertical-align: top;\n",
       "    }\n",
       "\n",
       "    .dataframe thead th {\n",
       "        text-align: right;\n",
       "    }\n",
       "</style>\n",
       "<table border=\"1\" class=\"dataframe\">\n",
       "  <thead>\n",
       "    <tr style=\"text-align: right;\">\n",
       "      <th></th>\n",
       "      <th>Brand</th>\n",
       "    </tr>\n",
       "  </thead>\n",
       "  <tbody>\n",
       "    <tr>\n",
       "      <th>0</th>\n",
       "      <td>data:image/jpeg;base64,/9j/4AAQSkZJRgABAQAAAQA...</td>\n",
       "    </tr>\n",
       "    <tr>\n",
       "      <th>1</th>\n",
       "      <td>data:image/jpeg;base64,/9j/4AAQSkZJRgABAQAAAQA...</td>\n",
       "    </tr>\n",
       "    <tr>\n",
       "      <th>2</th>\n",
       "      <td>data:image/jpeg;base64,/9j/4AAQSkZJRgABAQAAAQA...</td>\n",
       "    </tr>\n",
       "    <tr>\n",
       "      <th>3</th>\n",
       "      <td>data:image/jpeg;base64,/9j/4AAQSkZJRgABAQAAAQA...</td>\n",
       "    </tr>\n",
       "    <tr>\n",
       "      <th>4</th>\n",
       "      <td>data:image/jpeg;base64,/9j/4AAQSkZJRgABAQAAAQA...</td>\n",
       "    </tr>\n",
       "    <tr>\n",
       "      <th>5</th>\n",
       "      <td>data:image/png;base64,iVBORw0KGgoAAAANSUhEUgAA...</td>\n",
       "    </tr>\n",
       "    <tr>\n",
       "      <th>6</th>\n",
       "      <td>data:image/jpeg;base64,/9j/4AAQSkZJRgABAQAAAQA...</td>\n",
       "    </tr>\n",
       "    <tr>\n",
       "      <th>7</th>\n",
       "      <td>data:image/jpeg;base64,/9j/4AAQSkZJRgABAQAAAQA...</td>\n",
       "    </tr>\n",
       "    <tr>\n",
       "      <th>8</th>\n",
       "      <td>data:image/jpeg;base64,/9j/4AAQSkZJRgABAQAAAQA...</td>\n",
       "    </tr>\n",
       "    <tr>\n",
       "      <th>9</th>\n",
       "      <td>data:image/jpeg;base64,/9j/4AAQSkZJRgABAQAAAQA...</td>\n",
       "    </tr>\n",
       "  </tbody>\n",
       "</table>\n",
       "</div>"
      ],
      "text/plain": [
       "                                               Brand\n",
       "0  data:image/jpeg;base64,/9j/4AAQSkZJRgABAQAAAQA...\n",
       "1  data:image/jpeg;base64,/9j/4AAQSkZJRgABAQAAAQA...\n",
       "2  data:image/jpeg;base64,/9j/4AAQSkZJRgABAQAAAQA...\n",
       "3  data:image/jpeg;base64,/9j/4AAQSkZJRgABAQAAAQA...\n",
       "4  data:image/jpeg;base64,/9j/4AAQSkZJRgABAQAAAQA...\n",
       "5  data:image/png;base64,iVBORw0KGgoAAAANSUhEUgAA...\n",
       "6  data:image/jpeg;base64,/9j/4AAQSkZJRgABAQAAAQA...\n",
       "7  data:image/jpeg;base64,/9j/4AAQSkZJRgABAQAAAQA...\n",
       "8  data:image/jpeg;base64,/9j/4AAQSkZJRgABAQAAAQA...\n",
       "9  data:image/jpeg;base64,/9j/4AAQSkZJRgABAQAAAQA..."
      ]
     },
     "execution_count": 7,
     "metadata": {},
     "output_type": "execute_result"
    }
   ],
   "source": [
    "img_urls = []\n",
    "\n",
    "image = driver.find_elements(By.XPATH,'//img[@class=\"rg_i Q4LuWd\"]')\n",
    "\n",
    "for i in image[0:10]:\n",
    "    brandvalue = i.get_attribute(\"src\")\n",
    "    img_urls.append(brandvalue)\n",
    "\n",
    "#img_urls\n",
    "\n",
    "# Making Dataframe\n",
    "df = pd.DataFrame({'Brand':img_urls})\n",
    "df"
   ]
  },
  {
   "cell_type": "code",
   "execution_count": 8,
   "id": "1b3ed80a",
   "metadata": {},
   "outputs": [],
   "source": [
    "for i in range(10):\n",
    "    urllib.request.urlretrieve(str(img_urls[i]),\"/home/webepower/Downloads/DataTrained/sample_data/cakes{}.jpg\".format(i))"
   ]
  },
  {
   "cell_type": "markdown",
   "id": "f16fedfc",
   "metadata": {},
   "source": [
    "# Q4:"
   ]
  },
  {
   "cell_type": "code",
   "execution_count": 24,
   "id": "4257187a",
   "metadata": {},
   "outputs": [],
   "source": [
    "driver = webdriver.Chrome()\n",
    "driver.get(\"http://www.flipkart.com/\")\n",
    "\n",
    "time.sleep(5)\n",
    "closepopup = driver.find_element(By.CLASS_NAME,\"_30XB9F\")\n",
    "closepopup.click()\n",
    "\n",
    "searchterms = driver.find_element(By.CLASS_NAME,\"Pke_EE\")\n",
    "searchterms.send_keys('pixel 4A')\n",
    "\n",
    "search = driver.find_element(By.CLASS_NAME,\"_2iLD__\")\n",
    "search.click()"
   ]
  },
  {
   "cell_type": "code",
   "execution_count": 35,
   "id": "5c8579f7",
   "metadata": {},
   "outputs": [
    {
     "data": {
      "text/html": [
       "<div>\n",
       "<style scoped>\n",
       "    .dataframe tbody tr th:only-of-type {\n",
       "        vertical-align: middle;\n",
       "    }\n",
       "\n",
       "    .dataframe tbody tr th {\n",
       "        vertical-align: top;\n",
       "    }\n",
       "\n",
       "    .dataframe thead th {\n",
       "        text-align: right;\n",
       "    }\n",
       "</style>\n",
       "<table border=\"1\" class=\"dataframe\">\n",
       "  <thead>\n",
       "    <tr style=\"text-align: right;\">\n",
       "      <th></th>\n",
       "      <th>0</th>\n",
       "    </tr>\n",
       "  </thead>\n",
       "  <tbody>\n",
       "    <tr>\n",
       "      <th>0</th>\n",
       "      <td>https://www.flipkart.com/google-pixel-8-pro-ba...</td>\n",
       "    </tr>\n",
       "    <tr>\n",
       "      <th>1</th>\n",
       "      <td>https://www.flipkart.com/google-pixel-8-pro-ob...</td>\n",
       "    </tr>\n",
       "    <tr>\n",
       "      <th>2</th>\n",
       "      <td>https://www.flipkart.com/google-pixel-7-lemong...</td>\n",
       "    </tr>\n",
       "    <tr>\n",
       "      <th>3</th>\n",
       "      <td>https://www.flipkart.com/google-pixel-7-snow-1...</td>\n",
       "    </tr>\n",
       "    <tr>\n",
       "      <th>4</th>\n",
       "      <td>https://www.flipkart.com/motorola-edge-40-ecli...</td>\n",
       "    </tr>\n",
       "  </tbody>\n",
       "</table>\n",
       "</div>"
      ],
      "text/plain": [
       "                                                   0\n",
       "0  https://www.flipkart.com/google-pixel-8-pro-ba...\n",
       "1  https://www.flipkart.com/google-pixel-8-pro-ob...\n",
       "2  https://www.flipkart.com/google-pixel-7-lemong...\n",
       "3  https://www.flipkart.com/google-pixel-7-snow-1...\n",
       "4  https://www.flipkart.com/motorola-edge-40-ecli..."
      ]
     },
     "execution_count": 35,
     "metadata": {},
     "output_type": "execute_result"
    }
   ],
   "source": [
    "#Smartphone name\n",
    "#Colour\n",
    "#RAM\n",
    "#Storage(ROM)\n",
    "#Primary Camera\n",
    "#Secondary Camera\n",
    "#Display Size\n",
    "#Price\n",
    "\n",
    "\n",
    "#Brand Name\n",
    "#Battery Capacity\n",
    "#Product URL\n",
    "\n",
    "product_urls =[]\n",
    "\n",
    "urls = driver.find_elements(By.XPATH,'//a[@class=\"_1fQZEK\"]')\n",
    "\n",
    "for url in urls[0:5]:\n",
    "    #print(url.get_attribute(\"href\"))    \n",
    "    product_urls.append(url.get_attribute(\"href\"))\n",
    "    \n",
    "product_urls\n",
    "    \n",
    "df = pd.DataFrame(product_urls)\n",
    "df"
   ]
  },
  {
   "cell_type": "code",
   "execution_count": 57,
   "id": "9afa8115",
   "metadata": {},
   "outputs": [
    {
     "data": {
      "text/plain": [
       "['https://www.flipkart.com/google-pixel-8-pro-bay-128-gb/p/itm51f9522df8e95?pid=MOBGT5F2YUW93AB3&lid=LSTMOBGT5F2YUW93AB3V6ZEI4&marketplace=FLIPKART&q=pixel+4A&store=tyy%2F4io&srno=s_1_1&otracker=search&otracker1=search&fm=organic&iid=47fb50a0-88a0-4b52-a35f-5826068ea173.MOBGT5F2YUW93AB3.SEARCH&ppt=pp&ppn=pp&ssid=mp1ymksye80000001696668226801&qH=9b26a23b2cff510d',\n",
       " 'https://www.flipkart.com/google-pixel-8-pro-obsidian-128-gb/p/itm51f9522df8e95?pid=MOBGT5F2S5RHTV6A&lid=LSTMOBGT5F2S5RHTV6A3VTZN7&marketplace=FLIPKART&q=pixel+4A&store=tyy%2F4io&srno=s_1_2&otracker=search&otracker1=search&fm=organic&iid=47fb50a0-88a0-4b52-a35f-5826068ea173.MOBGT5F2S5RHTV6A.SEARCH&ppt=pp&ppn=pp&ssid=mp1ymksye80000001696668226801&qH=9b26a23b2cff510d',\n",
       " 'https://www.flipkart.com/google-pixel-7-lemongrass-128-gb/p/itm45d75002be0e7?pid=MOBGHW44ZSN5EPGU&lid=LSTMOBGHW44ZSN5EPGUVDQE3A&marketplace=FLIPKART&q=pixel+4A&store=tyy%2F4io&srno=s_1_3&otracker=search&otracker1=search&fm=organic&iid=47fb50a0-88a0-4b52-a35f-5826068ea173.MOBGHW44ZSN5EPGU.SEARCH&ppt=pp&ppn=pp&ssid=mp1ymksye80000001696668226801&qH=9b26a23b2cff510d',\n",
       " 'https://www.flipkart.com/google-pixel-7-snow-128-gb/p/itm45d75002be0e7?pid=MOBGHW44PRZ8WP2M&lid=LSTMOBGHW44PRZ8WP2MEGIXNO&marketplace=FLIPKART&q=pixel+4A&store=tyy%2F4io&srno=s_1_4&otracker=search&otracker1=search&fm=organic&iid=47fb50a0-88a0-4b52-a35f-5826068ea173.MOBGHW44PRZ8WP2M.SEARCH&ppt=pp&ppn=pp&ssid=mp1ymksye80000001696668226801&qH=9b26a23b2cff510d',\n",
       " 'https://www.flipkart.com/motorola-edge-40-eclipse-black-256-gb/p/itmbe5b18bf1f229?pid=MOBGKHNBY3JZJHTB&lid=LSTMOBGKHNBY3JZJHTBAAOHOJ&marketplace=FLIPKART&q=pixel+4A&store=tyy%2F4io&srno=s_1_5&otracker=search&otracker1=search&fm=organic&iid=47fb50a0-88a0-4b52-a35f-5826068ea173.MOBGKHNBY3JZJHTB.SEARCH&ppt=pp&ppn=pp&ssid=mp1ymksye80000001696668226801&qH=9b26a23b2cff510d']"
      ]
     },
     "execution_count": 57,
     "metadata": {},
     "output_type": "execute_result"
    }
   ],
   "source": [
    "product_urls"
   ]
  },
  {
   "cell_type": "code",
   "execution_count": 71,
   "id": "1ab8a54f",
   "metadata": {},
   "outputs": [
    {
     "data": {
      "text/plain": [
       "['https://www.flipkart.com/google-pixel-8-pro-bay-128-gb/p/itm51f9522df8e95?pid=MOBGT5F2YUW93AB3&lid=LSTMOBGT5F2YUW93AB3V6ZEI4&marketplace=FLIPKART&q=pixel+4A&store=tyy%2F4io&srno=s_1_1&otracker=search&otracker1=search&fm=organic&iid=47fb50a0-88a0-4b52-a35f-5826068ea173.MOBGT5F2YUW93AB3.SEARCH&ppt=pp&ppn=pp&ssid=mp1ymksye80000001696668226801&qH=9b26a23b2cff510d',\n",
       " 'https://www.flipkart.com/google-pixel-8-pro-obsidian-128-gb/p/itm51f9522df8e95?pid=MOBGT5F2S5RHTV6A&lid=LSTMOBGT5F2S5RHTV6A3VTZN7&marketplace=FLIPKART&q=pixel+4A&store=tyy%2F4io&srno=s_1_2&otracker=search&otracker1=search&fm=organic&iid=47fb50a0-88a0-4b52-a35f-5826068ea173.MOBGT5F2S5RHTV6A.SEARCH&ppt=pp&ppn=pp&ssid=mp1ymksye80000001696668226801&qH=9b26a23b2cff510d',\n",
       " 'https://www.flipkart.com/google-pixel-7-lemongrass-128-gb/p/itm45d75002be0e7?pid=MOBGHW44ZSN5EPGU&lid=LSTMOBGHW44ZSN5EPGUVDQE3A&marketplace=FLIPKART&q=pixel+4A&store=tyy%2F4io&srno=s_1_3&otracker=search&otracker1=search&fm=organic&iid=47fb50a0-88a0-4b52-a35f-5826068ea173.MOBGHW44ZSN5EPGU.SEARCH&ppt=pp&ppn=pp&ssid=mp1ymksye80000001696668226801&qH=9b26a23b2cff510d',\n",
       " 'https://www.flipkart.com/google-pixel-7-snow-128-gb/p/itm45d75002be0e7?pid=MOBGHW44PRZ8WP2M&lid=LSTMOBGHW44PRZ8WP2MEGIXNO&marketplace=FLIPKART&q=pixel+4A&store=tyy%2F4io&srno=s_1_4&otracker=search&otracker1=search&fm=organic&iid=47fb50a0-88a0-4b52-a35f-5826068ea173.MOBGHW44PRZ8WP2M.SEARCH&ppt=pp&ppn=pp&ssid=mp1ymksye80000001696668226801&qH=9b26a23b2cff510d',\n",
       " 'https://www.flipkart.com/motorola-edge-40-eclipse-black-256-gb/p/itmbe5b18bf1f229?pid=MOBGKHNBY3JZJHTB&lid=LSTMOBGKHNBY3JZJHTBAAOHOJ&marketplace=FLIPKART&q=pixel+4A&store=tyy%2F4io&srno=s_1_5&otracker=search&otracker1=search&fm=organic&iid=47fb50a0-88a0-4b52-a35f-5826068ea173.MOBGKHNBY3JZJHTB.SEARCH&ppt=pp&ppn=pp&ssid=mp1ymksye80000001696668226801&qH=9b26a23b2cff510d']"
      ]
     },
     "execution_count": 71,
     "metadata": {},
     "output_type": "execute_result"
    }
   ],
   "source": [
    "sm_name = []\n",
    "sm_color = []\n",
    "sm_ram = []\n",
    "sm_rom = []\n",
    "p_camera = []\n",
    "s_camera = []\n",
    "display_size = []\n",
    "battery_capacity = []\n",
    "sm_price = []\n",
    "sm_urls = []\n",
    "\n",
    "for oneurl in product_urls:\n",
    "    driver.get(oneurl)\n",
    "    \n",
    "    time.sleep(2)\n",
    "    \n",
    "    search = driver.find_element(By.XPATH, '/html/body/div[1]/div/div[3]/div[1]/div[2]/div[10]/div[5]/div/div[2]/button')\n",
    "    search.click()\n",
    "    \n",
    "    time.sleep(2)\n",
    "    \n",
    "    name = driver.find_elements(By.XPATH,'//span[@class=\"B_NuCI\"]')\n",
    "\n",
    "    for i in name:\n",
    "        namevalue = i.text\n",
    "        sm_name.append(namevalue)\n",
    "        \n",
    "    color = driver.find_elements(By.XPATH,'/html/body/div[1]/div/div[3]/div[1]/div[2]/div[10]/div[5]/div/div[2]/div/div[1]/table/tbody/tr[4]/td[2]/ul/li')\n",
    "\n",
    "    for i in color:\n",
    "        colorvalue = i.text\n",
    "        sm_color.append(colorvalue)   \n",
    "    \n",
    "    \n",
    "    ram = driver.find_elements(By.XPATH,'/html/body/div[1]/div/div[3]/div[1]/div[2]/div[10]/div[5]/div/div[2]/div[1]/div[4]/table/tbody/tr[2]/td[2]/ul/li')\n",
    "\n",
    "    for i in ram:\n",
    "        ramvalue = i.text\n",
    "        sm_ram.append(ramvalue)\n",
    "        \n",
    "        \n",
    "    rom = driver.find_elements(By.XPATH,'//*[@id=\"container\"]/div/div[3]/div[1]/div[2]/div[10]/div[5]/div/div[2]/div[1]/div[4]/table/tbody/tr[1]/td[2]/ul/li')\n",
    "\n",
    "    for i in rom:\n",
    "        romvalue = i.text\n",
    "        sm_rom.append(romvalue)\n",
    "        \n",
    "    pcamera = driver.find_elements(By.XPATH,'/html/body/div[1]/div/div[3]/div[1]/div[2]/div[10]/div[5]/div/div[2]/div[1]/div[5]/table/tbody/tr[2]/td[2]/ul/li')\n",
    "\n",
    "    for i in pcamera:\n",
    "        pcameravalue = i.text\n",
    "        p_camera.append(pcameravalue)\n",
    "        \n",
    "    scamera = driver.find_elements(By.XPATH,'/html/body/div[1]/div/div[3]/div[1]/div[2]/div[10]/div[5]/div/div[2]/div[1]/div[5]/table/tbody/tr[5]/td[2]/ul/li')\n",
    "\n",
    "    for i in scamera:\n",
    "        scameravalue = i.text\n",
    "        s_camera.append(scameravalue)\n",
    "        \n",
    "    display = driver.find_elements(By.XPATH,'/html/body/div[1]/div/div[3]/div[1]/div[2]/div[10]/div[5]/div/div[2]/div[1]/div[2]/table/tbody/tr[1]/td[2]/ul/li')\n",
    "\n",
    "    for i in display:\n",
    "        displayvalue = i.text\n",
    "        display_size.append(displayvalue)\n",
    "        \n",
    "        \n",
    "    p_price = driver.find_elements(By.XPATH,'//div[@class=\"_30jeq3 _16Jk6d\"]')\n",
    "\n",
    "    for i in p_price:\n",
    "        ppricevalue = i.text\n",
    "        sm_price.append(ppricevalue)\n",
    "        \n",
    "    capicity = driver.find_elements(By.XPATH,'/html/body/div[1]/div/div[3]/div[1]/div[2]/div[10]/div[5]/div/div[2]/div[1]/div[8]/table/tbody/tr/td[2]/ul/li')\n",
    "\n",
    "    for i in capicity:\n",
    "        capicityvalue = i.text\n",
    "        battery_capacity.append(capicityvalue)   \n",
    "        \n",
    "    sm_urls.append(oneurl) \n",
    "        \n",
    "\n",
    "sm_name\n",
    "sm_color\n",
    "sm_ram\n",
    "sm_rom\n",
    "p_camera\n",
    "s_camera\n",
    "display_size\n",
    "sm_price\n",
    "#battery_capacity\n",
    "sm_urls"
   ]
  },
  {
   "cell_type": "code",
   "execution_count": 72,
   "id": "b7fa5df7",
   "metadata": {},
   "outputs": [
    {
     "name": "stdout",
     "output_type": "stream",
     "text": [
      "5 5 5 5 5 5 5 5 5\n"
     ]
    }
   ],
   "source": [
    "print(len(sm_name),len(sm_color),len(sm_ram),len(sm_rom),len(p_camera),len(s_camera),len(display_size),len(sm_price),len(sm_urls))"
   ]
  },
  {
   "cell_type": "code",
   "execution_count": 74,
   "id": "614a22a5",
   "metadata": {},
   "outputs": [
    {
     "data": {
      "text/html": [
       "<div>\n",
       "<style scoped>\n",
       "    .dataframe tbody tr th:only-of-type {\n",
       "        vertical-align: middle;\n",
       "    }\n",
       "\n",
       "    .dataframe tbody tr th {\n",
       "        vertical-align: top;\n",
       "    }\n",
       "\n",
       "    .dataframe thead th {\n",
       "        text-align: right;\n",
       "    }\n",
       "</style>\n",
       "<table border=\"1\" class=\"dataframe\">\n",
       "  <thead>\n",
       "    <tr style=\"text-align: right;\">\n",
       "      <th></th>\n",
       "      <th>Name</th>\n",
       "      <th>Color</th>\n",
       "      <th>RAM</th>\n",
       "      <th>ROM</th>\n",
       "      <th>p_camera</th>\n",
       "      <th>s_camera</th>\n",
       "      <th>display_size</th>\n",
       "      <th>sm_price</th>\n",
       "      <th>sm_urls</th>\n",
       "    </tr>\n",
       "  </thead>\n",
       "  <tbody>\n",
       "    <tr>\n",
       "      <th>0</th>\n",
       "      <td>Google Pixel 8 Pro (Bay, 128 GB)  (12 GB RAM)</td>\n",
       "      <td>Bay</td>\n",
       "      <td>12 GB</td>\n",
       "      <td>128 GB</td>\n",
       "      <td>50MP + 48MP + 48MP</td>\n",
       "      <td>10.5MP Front Camera</td>\n",
       "      <td>17.02 cm (6.7 inch)</td>\n",
       "      <td>₹1,06,999</td>\n",
       "      <td>https://www.flipkart.com/google-pixel-8-pro-ba...</td>\n",
       "    </tr>\n",
       "    <tr>\n",
       "      <th>1</th>\n",
       "      <td>Google Pixel 8 Pro (Obsidian, 128 GB)  (12 GB ...</td>\n",
       "      <td>Obsidian</td>\n",
       "      <td>12 GB</td>\n",
       "      <td>128 GB</td>\n",
       "      <td>50MP + 48MP + 48MP</td>\n",
       "      <td>10.5MP Front Camera</td>\n",
       "      <td>17.02 cm (6.7 inch)</td>\n",
       "      <td>₹1,06,999</td>\n",
       "      <td>https://www.flipkart.com/google-pixel-8-pro-ob...</td>\n",
       "    </tr>\n",
       "    <tr>\n",
       "      <th>2</th>\n",
       "      <td>Google Pixel 7 (Lemongrass, 128 GB)  (8 GB RAM)</td>\n",
       "      <td>Lemongrass</td>\n",
       "      <td>8 GB</td>\n",
       "      <td>128 GB</td>\n",
       "      <td>50MP + 12MP</td>\n",
       "      <td>10.8MP Front Camera</td>\n",
       "      <td>16.0 cm (6.3 inch)</td>\n",
       "      <td>₹41,999</td>\n",
       "      <td>https://www.flipkart.com/google-pixel-7-lemong...</td>\n",
       "    </tr>\n",
       "    <tr>\n",
       "      <th>3</th>\n",
       "      <td>Google Pixel 7 (Snow, 128 GB)  (8 GB RAM)</td>\n",
       "      <td>Snow</td>\n",
       "      <td>8 GB</td>\n",
       "      <td>128 GB</td>\n",
       "      <td>50MP + 12MP</td>\n",
       "      <td>10.8MP Front Camera</td>\n",
       "      <td>16.0 cm (6.3 inch)</td>\n",
       "      <td>₹41,999</td>\n",
       "      <td>https://www.flipkart.com/google-pixel-7-snow-1...</td>\n",
       "    </tr>\n",
       "    <tr>\n",
       "      <th>4</th>\n",
       "      <td>MOTOROLA Edge 40 (Eclipse Black, 256 GB)  (8 G...</td>\n",
       "      <td>Eclipse Black</td>\n",
       "      <td>8 GB</td>\n",
       "      <td>256 GB</td>\n",
       "      <td>50MP + 13MP</td>\n",
       "      <td>32MP Front Camera</td>\n",
       "      <td>16.51 cm (6.5 inch)</td>\n",
       "      <td>₹29,999</td>\n",
       "      <td>https://www.flipkart.com/motorola-edge-40-ecli...</td>\n",
       "    </tr>\n",
       "  </tbody>\n",
       "</table>\n",
       "</div>"
      ],
      "text/plain": [
       "                                                Name          Color    RAM  \\\n",
       "0      Google Pixel 8 Pro (Bay, 128 GB)  (12 GB RAM)            Bay  12 GB   \n",
       "1  Google Pixel 8 Pro (Obsidian, 128 GB)  (12 GB ...       Obsidian  12 GB   \n",
       "2    Google Pixel 7 (Lemongrass, 128 GB)  (8 GB RAM)     Lemongrass   8 GB   \n",
       "3          Google Pixel 7 (Snow, 128 GB)  (8 GB RAM)           Snow   8 GB   \n",
       "4  MOTOROLA Edge 40 (Eclipse Black, 256 GB)  (8 G...  Eclipse Black   8 GB   \n",
       "\n",
       "      ROM            p_camera             s_camera         display_size  \\\n",
       "0  128 GB  50MP + 48MP + 48MP  10.5MP Front Camera  17.02 cm (6.7 inch)   \n",
       "1  128 GB  50MP + 48MP + 48MP  10.5MP Front Camera  17.02 cm (6.7 inch)   \n",
       "2  128 GB         50MP + 12MP  10.8MP Front Camera   16.0 cm (6.3 inch)   \n",
       "3  128 GB         50MP + 12MP  10.8MP Front Camera   16.0 cm (6.3 inch)   \n",
       "4  256 GB         50MP + 13MP    32MP Front Camera  16.51 cm (6.5 inch)   \n",
       "\n",
       "    sm_price                                            sm_urls  \n",
       "0  ₹1,06,999  https://www.flipkart.com/google-pixel-8-pro-ba...  \n",
       "1  ₹1,06,999  https://www.flipkart.com/google-pixel-8-pro-ob...  \n",
       "2    ₹41,999  https://www.flipkart.com/google-pixel-7-lemong...  \n",
       "3    ₹41,999  https://www.flipkart.com/google-pixel-7-snow-1...  \n",
       "4    ₹29,999  https://www.flipkart.com/motorola-edge-40-ecli...  "
      ]
     },
     "execution_count": 74,
     "metadata": {},
     "output_type": "execute_result"
    }
   ],
   "source": [
    "df = pd.DataFrame(\n",
    "    {\n",
    "        'Name':sm_name,\n",
    "        'Color':sm_color, \n",
    "        'RAM':sm_ram, \n",
    "        'ROM':sm_rom, \n",
    "        'p_camera':p_camera, \n",
    "        's_camera':s_camera,\n",
    "        'display_size':display_size,\n",
    "        'sm_price':sm_price,\n",
    "        'sm_urls':sm_urls\n",
    "    }\n",
    ")\n",
    "df"
   ]
  },
  {
   "cell_type": "code",
   "execution_count": 76,
   "id": "a2eb5f63",
   "metadata": {},
   "outputs": [],
   "source": [
    "df.to_csv(r'/home/webepower/Downloads/DataTrained/Assignment/smartphonedate.csv', index=False)"
   ]
  },
  {
   "cell_type": "markdown",
   "id": "3664a592",
   "metadata": {},
   "source": [
    "# Q5: Write a program to scrap geospatial coordinates (latitude, longitude) of a city searched on google maps"
   ]
  },
  {
   "cell_type": "code",
   "execution_count": 5,
   "id": "ce7fc699",
   "metadata": {},
   "outputs": [],
   "source": [
    "driver = webdriver.Chrome()\n",
    "driver.get(\"https://www.google.com/maps/\")"
   ]
  },
  {
   "cell_type": "code",
   "execution_count": 6,
   "id": "8799300c",
   "metadata": {},
   "outputs": [],
   "source": [
    "searchterms = driver.find_element(By.XPATH,'//input[@id=\"searchboxinput\"]')\n",
    "searchterms.send_keys('Jaipur')"
   ]
  },
  {
   "cell_type": "code",
   "execution_count": 7,
   "id": "11b1b8be",
   "metadata": {},
   "outputs": [],
   "source": [
    "search = driver.find_element(By.XPATH,'//button[@class=\"mL3xi google-symbols\"]')\n",
    "search.click()"
   ]
  },
  {
   "cell_type": "code",
   "execution_count": 19,
   "id": "fc0a5827",
   "metadata": {},
   "outputs": [
    {
     "name": "stdout",
     "output_type": "stream",
     "text": [
      "latitude of Jaipur is: 26.88534\n",
      "longitude of Jaipur is: 75.708157\n"
     ]
    }
   ],
   "source": [
    "get_url = driver.current_url\n",
    "string = get_url.split('@')\n",
    "finalstring = string[1].split(',')\n",
    "\n",
    "print(\"latitude of Jaipur is: \"+str(finalstring[0]))\n",
    "print(\"longitude of Jaipur is: \"+str(finalstring[1]))"
   ]
  },
  {
   "cell_type": "markdown",
   "id": "93f6a3a0",
   "metadata": {},
   "source": [
    "# Q6 :Write a program to scrap all the available details of best gaming laptops from digit.in."
   ]
  },
  {
   "cell_type": "code",
   "execution_count": 21,
   "id": "2bad508d",
   "metadata": {},
   "outputs": [],
   "source": [
    "driver = webdriver.Chrome()\n",
    "driver.get(\"https://www.digit.in/\")"
   ]
  },
  {
   "cell_type": "code",
   "execution_count": 22,
   "id": "e2168951",
   "metadata": {},
   "outputs": [],
   "source": [
    "clickitems = driver.find_element(By.XPATH,'/html/body/div[1]/div[3]/div/div/div/article/div[2]/div/div/div[4]/div/div[1]/div[2]/div[1]/div[2]/div[3]/div[1]/div[1]/a')\n",
    "clickitems.click()"
   ]
  },
  {
   "cell_type": "code",
   "execution_count": null,
   "id": "3cf9f52f",
   "metadata": {},
   "outputs": [],
   "source": []
  },
  {
   "cell_type": "code",
   "execution_count": null,
   "id": "2d83dd8f",
   "metadata": {},
   "outputs": [],
   "source": []
  },
  {
   "cell_type": "code",
   "execution_count": null,
   "id": "ea478f91",
   "metadata": {},
   "outputs": [],
   "source": []
  }
 ],
 "metadata": {
  "kernelspec": {
   "display_name": "Python 3 (ipykernel)",
   "language": "python",
   "name": "python3"
  },
  "language_info": {
   "codemirror_mode": {
    "name": "ipython",
    "version": 3
   },
   "file_extension": ".py",
   "mimetype": "text/x-python",
   "name": "python",
   "nbconvert_exporter": "python",
   "pygments_lexer": "ipython3",
   "version": "3.10.11"
  }
 },
 "nbformat": 4,
 "nbformat_minor": 5
}
