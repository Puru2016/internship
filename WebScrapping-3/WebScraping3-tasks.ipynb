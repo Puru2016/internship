{
 "cells": [
  {
   "cell_type": "markdown",
   "id": "fdacf01e",
   "metadata": {},
   "source": [
    "# Q1. Write a python program which searches all the product under a particular product from www.amazon.in. The product to be searched will be taken as input from user. For e.g. If user input is ‘guitar’. Then search for guitars."
   ]
  },
  {
   "cell_type": "code",
   "execution_count": 1,
   "id": "29b935e1",
   "metadata": {},
   "outputs": [
    {
     "name": "stdout",
     "output_type": "stream",
     "text": [
      "Requirement already satisfied: pandas in ./anaconda3/lib/python3.10/site-packages (2.0.3)\n",
      "Requirement already satisfied: python-dateutil>=2.8.2 in ./anaconda3/lib/python3.10/site-packages (from pandas) (2.8.2)\n",
      "Requirement already satisfied: tzdata>=2022.1 in ./anaconda3/lib/python3.10/site-packages (from pandas) (2023.3)\n",
      "Requirement already satisfied: pytz>=2020.1 in ./anaconda3/lib/python3.10/site-packages (from pandas) (2022.7)\n",
      "Requirement already satisfied: numpy>=1.21.0 in ./anaconda3/lib/python3.10/site-packages (from pandas) (1.25.2)\n",
      "Requirement already satisfied: six>=1.5 in ./anaconda3/lib/python3.10/site-packages (from python-dateutil>=2.8.2->pandas) (1.16.0)\n",
      "Note: you may need to restart the kernel to use updated packages.\n"
     ]
    }
   ],
   "source": [
    "pip install pandas"
   ]
  },
  {
   "cell_type": "code",
   "execution_count": 2,
   "id": "560be9ac",
   "metadata": {},
   "outputs": [
    {
     "name": "stdout",
     "output_type": "stream",
     "text": [
      "Requirement already satisfied: selenium in ./anaconda3/lib/python3.10/site-packages (4.13.0)\n",
      "Requirement already satisfied: trio-websocket~=0.9 in ./anaconda3/lib/python3.10/site-packages (from selenium) (0.10.4)\n",
      "Requirement already satisfied: urllib3[socks]<3,>=1.26 in ./anaconda3/lib/python3.10/site-packages (from selenium) (1.26.15)\n",
      "Requirement already satisfied: trio~=0.17 in ./anaconda3/lib/python3.10/site-packages (from selenium) (0.22.2)\n",
      "Requirement already satisfied: certifi>=2021.10.8 in ./anaconda3/lib/python3.10/site-packages (from selenium) (2023.7.22)\n",
      "Requirement already satisfied: outcome in ./anaconda3/lib/python3.10/site-packages (from trio~=0.17->selenium) (1.2.0)\n",
      "Requirement already satisfied: attrs>=20.1.0 in ./anaconda3/lib/python3.10/site-packages (from trio~=0.17->selenium) (22.1.0)\n",
      "Requirement already satisfied: idna in ./anaconda3/lib/python3.10/site-packages (from trio~=0.17->selenium) (3.4)\n",
      "Requirement already satisfied: sniffio in ./anaconda3/lib/python3.10/site-packages (from trio~=0.17->selenium) (1.2.0)\n",
      "Requirement already satisfied: exceptiongroup>=1.0.0rc9 in ./anaconda3/lib/python3.10/site-packages (from trio~=0.17->selenium) (1.1.3)\n",
      "Requirement already satisfied: sortedcontainers in ./anaconda3/lib/python3.10/site-packages (from trio~=0.17->selenium) (2.4.0)\n",
      "Requirement already satisfied: wsproto>=0.14 in ./anaconda3/lib/python3.10/site-packages (from trio-websocket~=0.9->selenium) (1.2.0)\n",
      "Requirement already satisfied: PySocks!=1.5.7,<2.0,>=1.5.6 in ./anaconda3/lib/python3.10/site-packages (from urllib3[socks]<3,>=1.26->selenium) (1.7.1)\n",
      "Requirement already satisfied: h11<1,>=0.9.0 in ./anaconda3/lib/python3.10/site-packages (from wsproto>=0.14->trio-websocket~=0.9->selenium) (0.14.0)\n",
      "Note: you may need to restart the kernel to use updated packages.\n"
     ]
    }
   ],
   "source": [
    "pip install --upgrade selenium"
   ]
  },
  {
   "cell_type": "code",
   "execution_count": 4,
   "id": "b1d92da1",
   "metadata": {},
   "outputs": [],
   "source": [
    "import selenium\n",
    "import pandas as pd\n",
    "from selenium import webdriver\n",
    "import warnings\n",
    "warnings.filterwarnings('ignore')\n",
    "from selenium.webdriver.common.by import By\n",
    "import urllib\n",
    "import time"
   ]
  },
  {
   "cell_type": "code",
   "execution_count": 3,
   "id": "42469bd6",
   "metadata": {},
   "outputs": [],
   "source": [
    "driver = webdriver.Chrome()\n",
    "driver.get(\"https://www.amazon.in/\")"
   ]
  },
  {
   "cell_type": "code",
   "execution_count": 8,
   "id": "adf7669b",
   "metadata": {},
   "outputs": [
    {
     "name": "stdout",
     "output_type": "stream",
     "text": [
      "Search Product here....guitar\n"
     ]
    }
   ],
   "source": [
    "val = input('Search Product here....')\n",
    "time.sleep(5)\n",
    "searchterms = driver.find_element(By.ID,\"twotabsearchtextbox\")\n",
    "searchterms.send_keys(val)"
   ]
  },
  {
   "cell_type": "code",
   "execution_count": 9,
   "id": "22496d68",
   "metadata": {},
   "outputs": [],
   "source": [
    "search = driver.find_element(By.ID,\"nav-search-submit-button\")\n",
    "search.click()"
   ]
  },
  {
   "cell_type": "markdown",
   "id": "dd46df69",
   "metadata": {},
   "source": [
    "# Q2"
   ]
  },
  {
   "cell_type": "code",
   "execution_count": 26,
   "id": "c1052bec",
   "metadata": {},
   "outputs": [
    {
     "data": {
      "text/plain": [
       "['https://www.amazon.in/sspa/click?ie=UTF8&spc=MToyODkyMzM1NDc2Nzk0NjM4OjE2OTYxNDY4MTc6c3BfYXRmOjMwMDAxNTUzNzk3OTIzMjo6MDo6&url=%2FKadence-Frontier-Acoustic-Guitar-Strings%2Fdp%2FB078GTJP5Y%2Fref%3Dsr_1_1_sspa%3Fcrid%3D1XSWHVATONQIH%26keywords%3Dguitar%26qid%3D1696146817%26sprefix%3Dguitar%252Caps%252C421%26sr%3D8-1-spons%26sp_csd%3Dd2lkZ2V0TmFtZT1zcF9hdGY%26psc%3D1',\n",
       " 'https://www.amazon.in/sspa/click?ie=UTF8&spc=MToyODkyMzM1NDc2Nzk0NjM4OjE2OTYxNDY4MTc6c3BfYXRmOjIwMDk2NjA4NzUwNDk4OjowOjo&url=%2FKadence-Frontier-Acoustic-Guitar-Strings%2Fdp%2FB01GDZ46AA%2Fref%3Dsr_1_2_sspa%3Fcrid%3D1XSWHVATONQIH%26keywords%3Dguitar%26qid%3D1696146817%26sprefix%3Dguitar%252Caps%252C421%26sr%3D8-2-spons%26sp_csd%3Dd2lkZ2V0TmFtZT1zcF9hdGY%26psc%3D1',\n",
       " 'https://www.amazon.in/sspa/click?ie=UTF8&spc=MToyODkyMzM1NDc2Nzk0NjM4OjE2OTYxNDY4MTc6c3BfYXRmOjIwMDg4NDY1ODE5NDA0OjowOjo&url=%2FHenrix-Acoustic-Guitar-Die-cast-Dual-action%2Fdp%2FB07VNDW6QF%2Fref%3Dsr_1_3_sspa%3Fcrid%3D1XSWHVATONQIH%26keywords%3Dguitar%26qid%3D1696146817%26sprefix%3Dguitar%252Caps%252C421%26sr%3D8-3-spons%26sp_csd%3Dd2lkZ2V0TmFtZT1zcF9hdGY%26psc%3D1',\n",
       " 'https://www.amazon.in/sspa/click?ie=UTF8&spc=MToyODkyMzM1NDc2Nzk0NjM4OjE2OTYxNDY4MTc6c3BfYXRmOjMwMDA1MTU4ODUxNjAzMjo6MDo6&url=%2FRevel-RVL-38C-LGP-BLS-Linden-Acoustic-Guitar%2Fdp%2FB085HWKDCY%2Fref%3Dsr_1_4_sspa%3Fcrid%3D1XSWHVATONQIH%26keywords%3Dguitar%26qid%3D1696146817%26sprefix%3Dguitar%252Caps%252C421%26sr%3D8-4-spons%26sp_csd%3Dd2lkZ2V0TmFtZT1zcF9hdGY%26psc%3D1',\n",
       " 'https://www.amazon.in/Juarez-Acoustic-Cutaway-038C-Strings/dp/B017NPCSLI/ref=sr_1_5?crid=1XSWHVATONQIH&keywords=guitar&qid=1696146817&sprefix=guitar%2Caps%2C421&sr=8-5',\n",
       " 'https://www.amazon.in/EA40TBK-Premium-Spruce-Top-Cutaway-Acoustic/dp/B0BW3QYHV1/ref=sr_1_6?crid=1XSWHVATONQIH&keywords=guitar&qid=1696146817&sprefix=guitar%2Caps%2C421&sr=8-6',\n",
       " 'https://www.amazon.in/Kadence-Frontier-Acoustic-Natural-Equalizer/dp/B01I50UJG6/ref=sr_1_7?crid=1XSWHVATONQIH&keywords=guitar&qid=1696146817&sprefix=guitar%2Caps%2C421&sr=8-7',\n",
       " 'https://www.amazon.in/Yamaha-F280-Acoustic-Guitar-Natural/dp/B08317Y4VP/ref=sr_1_8?crid=1XSWHVATONQIH&keywords=guitar&qid=1696146817&sprefix=guitar%2Caps%2C421&sr=8-8',\n",
       " 'https://www.amazon.in/Henrix-40-Inch-Cutaway-Acoustic-Guitar/dp/B0B46MGFXH/ref=sr_1_9?crid=1XSWHVATONQIH&keywords=guitar&qid=1696146817&sprefix=guitar%2Caps%2C421&sr=8-9',\n",
       " 'https://www.amazon.in/Intern-INT-38C-Acoustic-Guitar-Blue/dp/B073B5RZBV/ref=sr_1_10?crid=1XSWHVATONQIH&keywords=guitar&qid=1696146817&sprefix=guitar%2Caps%2C421&sr=8-10']"
      ]
     },
     "execution_count": 26,
     "metadata": {},
     "output_type": "execute_result"
    }
   ],
   "source": [
    "product_urls =[]\n",
    "\n",
    "urls = driver.find_elements(By.XPATH,'//a[@class=\"a-link-normal s-underline-text s-underline-link-text s-link-style a-text-normal\"]')\n",
    "\n",
    "for url in urls[0:10]:\n",
    "    #print(url.get_attribute(\"href\"))    \n",
    "    product_urls.append(url.get_attribute(\"href\"))\n",
    "    \n",
    "product_urls\n",
    "    \n",
    "    #time.sleep(5)\n",
    "    #driver.get(url.get_attribute(\"href\"))\n",
    "    \n",
    "    #guitars_brand = []\n",
    "\n",
    "    #brand = driver.find_elements(By.XPATH,'//span[@class=\"a-size-large product-title-word-break\"]')\n",
    "\n",
    "    #for i in brand:\n",
    "    #    brandvalue = i.text\n",
    "    #    guitars_brand.append(brandvalue)\n",
    "\n",
    "\n",
    "    #guitars_brand"
   ]
  },
  {
   "cell_type": "code",
   "execution_count": 27,
   "id": "e148c4e3",
   "metadata": {},
   "outputs": [
    {
     "data": {
      "text/plain": [
       "['7 days Replacement',\n",
       " '7 days Replacement',\n",
       " '7 days Replacement',\n",
       " '7 days Replacement',\n",
       " '7 days Replacement',\n",
       " '7 days Replacement',\n",
       " '7 days Replacement',\n",
       " '7 days Replacement',\n",
       " '7 days Replacement',\n",
       " '7 days Replacement']"
      ]
     },
     "execution_count": 27,
     "metadata": {},
     "output_type": "execute_result"
    }
   ],
   "source": [
    "guitars_brand = []\n",
    "guitars_name = []\n",
    "guitars_price = []\n",
    "guitars_availibility = []\n",
    "expected_delivery = []\n",
    "guitar_urls = []\n",
    "guitars_exchange = []\n",
    "\n",
    "delivery = None\n",
    "\n",
    "for oneurl in product_urls:\n",
    "    driver.get(oneurl)    \n",
    "    \n",
    "    brand = driver.find_elements(By.XPATH,'//*[@id=\"productOverview_feature_div\"]/div/table/tbody/tr[1]/td[2]/span')\n",
    "\n",
    "    for i in brand:\n",
    "        brandvalue = i.text\n",
    "        guitars_brand.append(brandvalue)\n",
    "        \n",
    "    description = driver.find_elements(By.XPATH,'//h1[@class=\"a-size-large a-spacing-none\"]')\n",
    "\n",
    "    for i in description:\n",
    "        descvalue = i.text\n",
    "        guitars_name.append(descvalue)\n",
    "    \n",
    "    price = driver.find_elements(By.XPATH,'//*[@id=\"corePriceDisplay_desktop_feature_div\"]/div[1]/span[2]/span[2]/span[2]')\n",
    "\n",
    "    for i in price:\n",
    "        pricevalue = i.text\n",
    "        guitars_price.append(pricevalue)\n",
    "        \n",
    "    avaibility = driver.find_elements(By.XPATH,'//span[@class=\"a-size-medium a-color-success\"]')\n",
    "\n",
    "    for i in avaibility:\n",
    "        avaibilityvalue = i.text\n",
    "        guitars_availibility.append(avaibilityvalue)\n",
    "        \n",
    "        \n",
    "    delivery = driver.find_elements(By.XPATH,'//*[@id=\"mir-layout-DELIVERY_BLOCK-slot-SECONDARY_DELIVERY_MESSAGE_LARGE\"]/span/span[1]')\n",
    "\n",
    "    if delivery is not None:\n",
    "        for i in delivery:\n",
    "            deliveryvalue = i.text\n",
    "            expected_delivery.append(deliveryvalue)\n",
    "            \n",
    "    p_url = driver.find_elements(By.XPATH,'//span[@class=\"a-size-large product-title-word-break\"]')\n",
    "    \n",
    "    for i in p_url:\n",
    "        pUrlvalue = oneurl #i.get_attribute(\"href\")\n",
    "        guitar_urls.append(pUrlvalue)   \n",
    "\n",
    "    exchange = driver.find_elements(By.XPATH,'//*[@id=\"RETURNS_POLICY\"]/span/div[2]/span')\n",
    "\n",
    "    for i in exchange:\n",
    "        excvalue = i.text\n",
    "        guitars_exchange.append(excvalue)\n",
    "\n",
    "guitars_brand\n",
    "guitars_name\n",
    "guitars_price\n",
    "guitars_availibility\n",
    "expected_delivery\n",
    "guitar_urls\n",
    "guitars_exchange"
   ]
  },
  {
   "cell_type": "code",
   "execution_count": 28,
   "id": "6dc32e72",
   "metadata": {},
   "outputs": [
    {
     "name": "stdout",
     "output_type": "stream",
     "text": [
      "10 10 10 10 8 10 10\n"
     ]
    }
   ],
   "source": [
    "print(len(guitars_brand),len(guitars_name),len(guitars_price),len(guitars_availibility),len(expected_delivery),len(guitar_urls),len(guitars_exchange))"
   ]
  },
  {
   "cell_type": "code",
   "execution_count": 30,
   "id": "c3d806da",
   "metadata": {},
   "outputs": [
    {
     "ename": "ValueError",
     "evalue": "All arrays must be of the same length",
     "output_type": "error",
     "traceback": [
      "\u001b[0;31m---------------------------------------------------------------------------\u001b[0m",
      "\u001b[0;31mValueError\u001b[0m                                Traceback (most recent call last)",
      "Cell \u001b[0;32mIn[30], line 2\u001b[0m\n\u001b[1;32m      1\u001b[0m \u001b[38;5;66;03m# Making Dataframe\u001b[39;00m\n\u001b[0;32m----> 2\u001b[0m df \u001b[38;5;241m=\u001b[39m \u001b[43mpd\u001b[49m\u001b[38;5;241;43m.\u001b[39;49m\u001b[43mDataFrame\u001b[49m\u001b[43m(\u001b[49m\u001b[43m{\u001b[49m\u001b[38;5;124;43m'\u001b[39;49m\u001b[38;5;124;43mBrand\u001b[39;49m\u001b[38;5;124;43m'\u001b[39;49m\u001b[43m:\u001b[49m\u001b[43mguitars_brand\u001b[49m\u001b[43m,\u001b[49m\u001b[43m \u001b[49m\u001b[38;5;124;43m'\u001b[39;49m\u001b[38;5;124;43mName\u001b[39;49m\u001b[38;5;124;43m'\u001b[39;49m\u001b[43m:\u001b[49m\u001b[43mguitars_name\u001b[49m\u001b[43m,\u001b[49m\u001b[43m \u001b[49m\u001b[38;5;124;43m'\u001b[39;49m\u001b[38;5;124;43mPrice\u001b[39;49m\u001b[38;5;124;43m'\u001b[39;49m\u001b[43m:\u001b[49m\u001b[43mguitars_price\u001b[49m\u001b[43m,\u001b[49m\u001b[43m \u001b[49m\u001b[38;5;124;43m'\u001b[39;49m\u001b[38;5;124;43mStock\u001b[39;49m\u001b[38;5;124;43m'\u001b[39;49m\u001b[43m:\u001b[49m\u001b[43mguitars_availibility\u001b[49m\u001b[43m,\u001b[49m\u001b[43m \u001b[49m\u001b[38;5;124;43m'\u001b[39;49m\u001b[38;5;124;43mExp Delivery\u001b[39;49m\u001b[38;5;124;43m'\u001b[39;49m\u001b[43m:\u001b[49m\u001b[43mexpected_delivery\u001b[49m\u001b[43m,\u001b[49m\u001b[43m \u001b[49m\u001b[38;5;124;43m'\u001b[39;49m\u001b[38;5;124;43mProduct URLs\u001b[39;49m\u001b[38;5;124;43m'\u001b[39;49m\u001b[43m:\u001b[49m\u001b[43mguitar_urls\u001b[49m\u001b[43m,\u001b[49m\u001b[43m \u001b[49m\u001b[38;5;124;43m'\u001b[39;49m\u001b[38;5;124;43mExchange\u001b[39;49m\u001b[38;5;124;43m'\u001b[39;49m\u001b[43m:\u001b[49m\u001b[43mguitars_exchange\u001b[49m\u001b[43m}\u001b[49m\u001b[43m)\u001b[49m\n\u001b[1;32m      3\u001b[0m df\n",
      "File \u001b[0;32m~/anaconda3/lib/python3.10/site-packages/pandas/core/frame.py:709\u001b[0m, in \u001b[0;36mDataFrame.__init__\u001b[0;34m(self, data, index, columns, dtype, copy)\u001b[0m\n\u001b[1;32m    703\u001b[0m     mgr \u001b[38;5;241m=\u001b[39m \u001b[38;5;28mself\u001b[39m\u001b[38;5;241m.\u001b[39m_init_mgr(\n\u001b[1;32m    704\u001b[0m         data, axes\u001b[38;5;241m=\u001b[39m{\u001b[38;5;124m\"\u001b[39m\u001b[38;5;124mindex\u001b[39m\u001b[38;5;124m\"\u001b[39m: index, \u001b[38;5;124m\"\u001b[39m\u001b[38;5;124mcolumns\u001b[39m\u001b[38;5;124m\"\u001b[39m: columns}, dtype\u001b[38;5;241m=\u001b[39mdtype, copy\u001b[38;5;241m=\u001b[39mcopy\n\u001b[1;32m    705\u001b[0m     )\n\u001b[1;32m    707\u001b[0m \u001b[38;5;28;01melif\u001b[39;00m \u001b[38;5;28misinstance\u001b[39m(data, \u001b[38;5;28mdict\u001b[39m):\n\u001b[1;32m    708\u001b[0m     \u001b[38;5;66;03m# GH#38939 de facto copy defaults to False only in non-dict cases\u001b[39;00m\n\u001b[0;32m--> 709\u001b[0m     mgr \u001b[38;5;241m=\u001b[39m \u001b[43mdict_to_mgr\u001b[49m\u001b[43m(\u001b[49m\u001b[43mdata\u001b[49m\u001b[43m,\u001b[49m\u001b[43m \u001b[49m\u001b[43mindex\u001b[49m\u001b[43m,\u001b[49m\u001b[43m \u001b[49m\u001b[43mcolumns\u001b[49m\u001b[43m,\u001b[49m\u001b[43m \u001b[49m\u001b[43mdtype\u001b[49m\u001b[38;5;241;43m=\u001b[39;49m\u001b[43mdtype\u001b[49m\u001b[43m,\u001b[49m\u001b[43m \u001b[49m\u001b[43mcopy\u001b[49m\u001b[38;5;241;43m=\u001b[39;49m\u001b[43mcopy\u001b[49m\u001b[43m,\u001b[49m\u001b[43m \u001b[49m\u001b[43mtyp\u001b[49m\u001b[38;5;241;43m=\u001b[39;49m\u001b[43mmanager\u001b[49m\u001b[43m)\u001b[49m\n\u001b[1;32m    710\u001b[0m \u001b[38;5;28;01melif\u001b[39;00m \u001b[38;5;28misinstance\u001b[39m(data, ma\u001b[38;5;241m.\u001b[39mMaskedArray):\n\u001b[1;32m    711\u001b[0m     \u001b[38;5;28;01mfrom\u001b[39;00m \u001b[38;5;21;01mnumpy\u001b[39;00m\u001b[38;5;21;01m.\u001b[39;00m\u001b[38;5;21;01mma\u001b[39;00m \u001b[38;5;28;01mimport\u001b[39;00m mrecords\n",
      "File \u001b[0;32m~/anaconda3/lib/python3.10/site-packages/pandas/core/internals/construction.py:481\u001b[0m, in \u001b[0;36mdict_to_mgr\u001b[0;34m(data, index, columns, dtype, typ, copy)\u001b[0m\n\u001b[1;32m    477\u001b[0m     \u001b[38;5;28;01melse\u001b[39;00m:\n\u001b[1;32m    478\u001b[0m         \u001b[38;5;66;03m# dtype check to exclude e.g. range objects, scalars\u001b[39;00m\n\u001b[1;32m    479\u001b[0m         arrays \u001b[38;5;241m=\u001b[39m [x\u001b[38;5;241m.\u001b[39mcopy() \u001b[38;5;28;01mif\u001b[39;00m \u001b[38;5;28mhasattr\u001b[39m(x, \u001b[38;5;124m\"\u001b[39m\u001b[38;5;124mdtype\u001b[39m\u001b[38;5;124m\"\u001b[39m) \u001b[38;5;28;01melse\u001b[39;00m x \u001b[38;5;28;01mfor\u001b[39;00m x \u001b[38;5;129;01min\u001b[39;00m arrays]\n\u001b[0;32m--> 481\u001b[0m \u001b[38;5;28;01mreturn\u001b[39;00m \u001b[43marrays_to_mgr\u001b[49m\u001b[43m(\u001b[49m\u001b[43marrays\u001b[49m\u001b[43m,\u001b[49m\u001b[43m \u001b[49m\u001b[43mcolumns\u001b[49m\u001b[43m,\u001b[49m\u001b[43m \u001b[49m\u001b[43mindex\u001b[49m\u001b[43m,\u001b[49m\u001b[43m \u001b[49m\u001b[43mdtype\u001b[49m\u001b[38;5;241;43m=\u001b[39;49m\u001b[43mdtype\u001b[49m\u001b[43m,\u001b[49m\u001b[43m \u001b[49m\u001b[43mtyp\u001b[49m\u001b[38;5;241;43m=\u001b[39;49m\u001b[43mtyp\u001b[49m\u001b[43m,\u001b[49m\u001b[43m \u001b[49m\u001b[43mconsolidate\u001b[49m\u001b[38;5;241;43m=\u001b[39;49m\u001b[43mcopy\u001b[49m\u001b[43m)\u001b[49m\n",
      "File \u001b[0;32m~/anaconda3/lib/python3.10/site-packages/pandas/core/internals/construction.py:115\u001b[0m, in \u001b[0;36marrays_to_mgr\u001b[0;34m(arrays, columns, index, dtype, verify_integrity, typ, consolidate)\u001b[0m\n\u001b[1;32m    112\u001b[0m \u001b[38;5;28;01mif\u001b[39;00m verify_integrity:\n\u001b[1;32m    113\u001b[0m     \u001b[38;5;66;03m# figure out the index, if necessary\u001b[39;00m\n\u001b[1;32m    114\u001b[0m     \u001b[38;5;28;01mif\u001b[39;00m index \u001b[38;5;129;01mis\u001b[39;00m \u001b[38;5;28;01mNone\u001b[39;00m:\n\u001b[0;32m--> 115\u001b[0m         index \u001b[38;5;241m=\u001b[39m \u001b[43m_extract_index\u001b[49m\u001b[43m(\u001b[49m\u001b[43marrays\u001b[49m\u001b[43m)\u001b[49m\n\u001b[1;32m    116\u001b[0m     \u001b[38;5;28;01melse\u001b[39;00m:\n\u001b[1;32m    117\u001b[0m         index \u001b[38;5;241m=\u001b[39m ensure_index(index)\n",
      "File \u001b[0;32m~/anaconda3/lib/python3.10/site-packages/pandas/core/internals/construction.py:655\u001b[0m, in \u001b[0;36m_extract_index\u001b[0;34m(data)\u001b[0m\n\u001b[1;32m    653\u001b[0m lengths \u001b[38;5;241m=\u001b[39m \u001b[38;5;28mlist\u001b[39m(\u001b[38;5;28mset\u001b[39m(raw_lengths))\n\u001b[1;32m    654\u001b[0m \u001b[38;5;28;01mif\u001b[39;00m \u001b[38;5;28mlen\u001b[39m(lengths) \u001b[38;5;241m>\u001b[39m \u001b[38;5;241m1\u001b[39m:\n\u001b[0;32m--> 655\u001b[0m     \u001b[38;5;28;01mraise\u001b[39;00m \u001b[38;5;167;01mValueError\u001b[39;00m(\u001b[38;5;124m\"\u001b[39m\u001b[38;5;124mAll arrays must be of the same length\u001b[39m\u001b[38;5;124m\"\u001b[39m)\n\u001b[1;32m    657\u001b[0m \u001b[38;5;28;01mif\u001b[39;00m have_dicts:\n\u001b[1;32m    658\u001b[0m     \u001b[38;5;28;01mraise\u001b[39;00m \u001b[38;5;167;01mValueError\u001b[39;00m(\n\u001b[1;32m    659\u001b[0m         \u001b[38;5;124m\"\u001b[39m\u001b[38;5;124mMixing dicts with non-Series may lead to ambiguous ordering.\u001b[39m\u001b[38;5;124m\"\u001b[39m\n\u001b[1;32m    660\u001b[0m     )\n",
      "\u001b[0;31mValueError\u001b[0m: All arrays must be of the same length"
     ]
    }
   ],
   "source": [
    "# Making Dataframe\n",
    "df = pd.DataFrame({'Brand':guitars_brand, 'Name':guitars_name, 'Price':guitars_price, 'Stock':guitars_availibility, 'Exp Delivery':expected_delivery, 'Product URLs':guitar_urls, 'Exchange':guitars_exchange})\n",
    "df"
   ]
  },
  {
   "cell_type": "markdown",
   "id": "3b956b82",
   "metadata": {},
   "source": [
    "# Q3"
   ]
  },
  {
   "cell_type": "code",
   "execution_count": 5,
   "id": "6d2f6362",
   "metadata": {},
   "outputs": [
    {
     "name": "stdout",
     "output_type": "stream",
     "text": [
      "Search Product here....fruits\n"
     ]
    }
   ],
   "source": [
    "driver = webdriver.Chrome()\n",
    "driver.get(\"https://images.google.com/\")\n",
    "\n",
    "val = input('Enter your search term here...')\n",
    "time.sleep(5)\n",
    "searchterms = driver.find_element(By.XPATH,'//textarea[@class=\"gLFyf\"]')\n",
    "searchterms.send_keys(val)"
   ]
  },
  {
   "cell_type": "code",
   "execution_count": 6,
   "id": "fe08c772",
   "metadata": {},
   "outputs": [],
   "source": [
    "search = driver.find_element(By.XPATH,'//button[@class=\"Tg7LZd\"]')\n",
    "search.click()"
   ]
  },
  {
   "cell_type": "code",
   "execution_count": 7,
   "id": "7e2f163a",
   "metadata": {},
   "outputs": [
    {
     "data": {
      "text/html": [
       "<div>\n",
       "<style scoped>\n",
       "    .dataframe tbody tr th:only-of-type {\n",
       "        vertical-align: middle;\n",
       "    }\n",
       "\n",
       "    .dataframe tbody tr th {\n",
       "        vertical-align: top;\n",
       "    }\n",
       "\n",
       "    .dataframe thead th {\n",
       "        text-align: right;\n",
       "    }\n",
       "</style>\n",
       "<table border=\"1\" class=\"dataframe\">\n",
       "  <thead>\n",
       "    <tr style=\"text-align: right;\">\n",
       "      <th></th>\n",
       "      <th>Brand</th>\n",
       "    </tr>\n",
       "  </thead>\n",
       "  <tbody>\n",
       "    <tr>\n",
       "      <th>0</th>\n",
       "      <td>data:image/jpeg;base64,/9j/4AAQSkZJRgABAQAAAQA...</td>\n",
       "    </tr>\n",
       "    <tr>\n",
       "      <th>1</th>\n",
       "      <td>data:image/jpeg;base64,/9j/4AAQSkZJRgABAQAAAQA...</td>\n",
       "    </tr>\n",
       "    <tr>\n",
       "      <th>2</th>\n",
       "      <td>data:image/jpeg;base64,/9j/4AAQSkZJRgABAQAAAQA...</td>\n",
       "    </tr>\n",
       "    <tr>\n",
       "      <th>3</th>\n",
       "      <td>data:image/jpeg;base64,/9j/4AAQSkZJRgABAQAAAQA...</td>\n",
       "    </tr>\n",
       "    <tr>\n",
       "      <th>4</th>\n",
       "      <td>data:image/jpeg;base64,/9j/4AAQSkZJRgABAQAAAQA...</td>\n",
       "    </tr>\n",
       "    <tr>\n",
       "      <th>5</th>\n",
       "      <td>data:image/png;base64,iVBORw0KGgoAAAANSUhEUgAA...</td>\n",
       "    </tr>\n",
       "    <tr>\n",
       "      <th>6</th>\n",
       "      <td>data:image/jpeg;base64,/9j/4AAQSkZJRgABAQAAAQA...</td>\n",
       "    </tr>\n",
       "    <tr>\n",
       "      <th>7</th>\n",
       "      <td>data:image/jpeg;base64,/9j/4AAQSkZJRgABAQAAAQA...</td>\n",
       "    </tr>\n",
       "    <tr>\n",
       "      <th>8</th>\n",
       "      <td>data:image/jpeg;base64,/9j/4AAQSkZJRgABAQAAAQA...</td>\n",
       "    </tr>\n",
       "    <tr>\n",
       "      <th>9</th>\n",
       "      <td>data:image/jpeg;base64,/9j/4AAQSkZJRgABAQAAAQA...</td>\n",
       "    </tr>\n",
       "  </tbody>\n",
       "</table>\n",
       "</div>"
      ],
      "text/plain": [
       "                                               Brand\n",
       "0  data:image/jpeg;base64,/9j/4AAQSkZJRgABAQAAAQA...\n",
       "1  data:image/jpeg;base64,/9j/4AAQSkZJRgABAQAAAQA...\n",
       "2  data:image/jpeg;base64,/9j/4AAQSkZJRgABAQAAAQA...\n",
       "3  data:image/jpeg;base64,/9j/4AAQSkZJRgABAQAAAQA...\n",
       "4  data:image/jpeg;base64,/9j/4AAQSkZJRgABAQAAAQA...\n",
       "5  data:image/png;base64,iVBORw0KGgoAAAANSUhEUgAA...\n",
       "6  data:image/jpeg;base64,/9j/4AAQSkZJRgABAQAAAQA...\n",
       "7  data:image/jpeg;base64,/9j/4AAQSkZJRgABAQAAAQA...\n",
       "8  data:image/jpeg;base64,/9j/4AAQSkZJRgABAQAAAQA...\n",
       "9  data:image/jpeg;base64,/9j/4AAQSkZJRgABAQAAAQA..."
      ]
     },
     "execution_count": 7,
     "metadata": {},
     "output_type": "execute_result"
    }
   ],
   "source": [
    "img_urls = []\n",
    "\n",
    "image = driver.find_elements(By.XPATH,'//img[@class=\"rg_i Q4LuWd\"]')\n",
    "\n",
    "for i in image[0:10]:\n",
    "    brandvalue = i.get_attribute(\"src\")\n",
    "    img_urls.append(brandvalue)\n",
    "\n",
    "#img_urls\n",
    "\n",
    "# Making Dataframe\n",
    "df = pd.DataFrame({'Brand':img_urls})\n",
    "df"
   ]
  },
  {
   "cell_type": "code",
   "execution_count": 8,
   "id": "1b3ed80a",
   "metadata": {},
   "outputs": [],
   "source": [
    "for i in range(10):\n",
    "    urllib.request.urlretrieve(str(img_urls[i]),\"/home/webepower/Downloads/DataTrained/sample_data/cakes{}.jpg\".format(i))"
   ]
  },
  {
   "cell_type": "markdown",
   "id": "f16fedfc",
   "metadata": {},
   "source": [
    "# Q4:"
   ]
  }
 ],
 "metadata": {
  "kernelspec": {
   "display_name": "Python 3 (ipykernel)",
   "language": "python",
   "name": "python3"
  },
  "language_info": {
   "codemirror_mode": {
    "name": "ipython",
    "version": 3
   },
   "file_extension": ".py",
   "mimetype": "text/x-python",
   "name": "python",
   "nbconvert_exporter": "python",
   "pygments_lexer": "ipython3",
   "version": "3.10.11"
  }
 },
 "nbformat": 4,
 "nbformat_minor": 5
}
