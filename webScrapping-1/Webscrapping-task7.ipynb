{
 "cells": [
  {
   "cell_type": "markdown",
   "id": "e1bb3715",
   "metadata": {},
   "source": [
    "# Write a python program to scrape mentioned details from dineout.co.in and make data frame-"
   ]
  },
  {
   "cell_type": "code",
   "execution_count": 1,
   "id": "3312e8f0",
   "metadata": {},
   "outputs": [],
   "source": [
    "#!pip install bs4\n",
    "#!pip install requests\n",
    "\n",
    "from bs4 import BeautifulSoup\n",
    "import requests\n",
    "import pandas as pd\n",
    "import re"
   ]
  },
  {
   "cell_type": "code",
   "execution_count": 3,
   "id": "36f027ca",
   "metadata": {},
   "outputs": [
    {
     "data": {
      "text/plain": [
       "[]"
      ]
     },
     "execution_count": 3,
     "metadata": {},
     "output_type": "execute_result"
    }
   ],
   "source": [
    "page = requests.get('https://www.dineout.co.in/delhi-restaurants/buffet-special')\n",
    "soup = BeautifulSoup(page.content)\n",
    "#print(soup.prettify())\n",
    "\n",
    "findtable = soup.find('div',class_=\"restnt-info cursor\")\n",
    "\n",
    "# Getting all rows\n",
    "data = []\n",
    "for row in findtable.find_all('tr'):\n",
    "    row_data = []\n",
    "    for cell in row.find_all('td'):\n",
    "        row_data.append(cell.text.replace(\"\\n\", \"\"))\n",
    "    data.append(row_data)\n",
    "\n",
    "data"
   ]
  },
  {
   "cell_type": "code",
   "execution_count": null,
   "id": "cc244575",
   "metadata": {},
   "outputs": [],
   "source": []
  }
 ],
 "metadata": {
  "kernelspec": {
   "display_name": "Python 3 (ipykernel)",
   "language": "python",
   "name": "python3"
  },
  "language_info": {
   "codemirror_mode": {
    "name": "ipython",
    "version": 3
   },
   "file_extension": ".py",
   "mimetype": "text/x-python",
   "name": "python",
   "nbconvert_exporter": "python",
   "pygments_lexer": "ipython3",
   "version": "3.10.11"
  }
 },
 "nbformat": 4,
 "nbformat_minor": 5
}
