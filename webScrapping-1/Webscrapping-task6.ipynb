{
 "cells": [
  {
   "cell_type": "markdown",
   "id": "e1bb3715",
   "metadata": {},
   "source": [
    "# Write a python program to scrape the details of most downloaded articles from AI in last 90 days.https://www.journals.elsevier.com/artificial-intelligence/most-downloaded-articles Scrape below mentioned details and make data frame-"
   ]
  },
  {
   "cell_type": "code",
   "execution_count": 13,
   "id": "3312e8f0",
   "metadata": {},
   "outputs": [],
   "source": [
    "#!pip install bs4\n",
    "#!pip install requests\n",
    "\n",
    "from bs4 import BeautifulSoup\n",
    "import requests\n",
    "import pandas as pd\n",
    "import re"
   ]
  },
  {
   "cell_type": "code",
   "execution_count": 20,
   "id": "db3324c6",
   "metadata": {},
   "outputs": [
    {
     "name": "stdout",
     "output_type": "stream",
     "text": [
      "Pre-Markets U.S. Markets Europe Markets China Markets Asia Markets World Markets Currencies Cryptocurrency Futures & Commodities Bonds Funds & ETFs "
     ]
    }
   ],
   "source": [
    "# importing the modules\n",
    "import requests\n",
    "from bs4 import BeautifulSoup\n",
    "  \n",
    "# providing url\n",
    "url = 'https://www.journals.elsevier.com/artificial-intelligence/most-downloaded-articles'\n",
    "  \n",
    "# creating request object\n",
    "req = requests.get(url)\n",
    "  \n",
    "# creating soup object\n",
    "data = BeautifulSoup(req.text, 'html')\n",
    "  \n",
    "# finding all li tags in ul and printing the text within it\n",
    "data1 = data.find('ul')\n",
    "for li in data1.find_all(\"li\"):\n",
    "    print(li.text, end=\" \")"
   ]
  },
  {
   "cell_type": "code",
   "execution_count": null,
   "id": "cc244575",
   "metadata": {},
   "outputs": [],
   "source": []
  }
 ],
 "metadata": {
  "kernelspec": {
   "display_name": "Python 3 (ipykernel)",
   "language": "python",
   "name": "python3"
  },
  "language_info": {
   "codemirror_mode": {
    "name": "ipython",
    "version": 3
   },
   "file_extension": ".py",
   "mimetype": "text/x-python",
   "name": "python",
   "nbconvert_exporter": "python",
   "pygments_lexer": "ipython3",
   "version": "3.10.11"
  }
 },
 "nbformat": 4,
 "nbformat_minor": 5
}
