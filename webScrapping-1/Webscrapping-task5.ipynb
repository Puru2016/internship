{
 "cells": [
  {
   "cell_type": "markdown",
   "id": "e1bb3715",
   "metadata": {},
   "source": [
    "# Write a python program to scrape mentioned news details from https://www.cnbc.com/world/?region=world and make data frame-"
   ]
  },
  {
   "cell_type": "code",
   "execution_count": 13,
   "id": "3312e8f0",
   "metadata": {},
   "outputs": [],
   "source": [
    "#!pip install bs4\n",
    "#!pip install requests\n",
    "\n",
    "from bs4 import BeautifulSoup\n",
    "import requests\n",
    "import pandas as pd\n",
    "import re"
   ]
  },
  {
   "cell_type": "code",
   "execution_count": 23,
   "id": "36f027ca",
   "metadata": {},
   "outputs": [
    {
     "name": "stdout",
     "output_type": "stream",
     "text": [
      "Pre-Markets <a class=\"nav-menu-subLink\" href=\"/us-markets/\" tabindex=\"-1\">U.S. Markets</a> <li data-text=\"Europe Markets\"><a class=\"nav-menu-subLink\" href=\"/markets-europe/\" tabindex=\"-1\">Europe Markets</a></li> Europe Markets <a class=\"nav-menu-subLink\" href=\"/china-markets/\" tabindex=\"-1\">China Markets</a> <li data-text=\"Asia Markets\"><a class=\"nav-menu-subLink\" href=\"/markets-asia-pacific/\" tabindex=\"-1\">Asia Markets</a></li> Asia Markets <a class=\"nav-menu-subLink\" href=\"/world-markets/\" tabindex=\"-1\">World Markets</a> <li data-text=\"Currencies\"><a class=\"nav-menu-subLink\" href=\"/currencies/\" tabindex=\"-1\">Currencies</a></li> Currencies <a class=\"nav-menu-subLink\" href=\"/cryptocurrency/\" tabindex=\"-1\">Cryptocurrency</a> <li data-text=\"Futures &amp; Commodities\"><a class=\"nav-menu-subLink\" href=\"/futures-and-commodities/\" tabindex=\"-1\">Futures &amp; Commodities</a></li> Futures & Commodities <a class=\"nav-menu-subLink\" href=\"/bonds/\" tabindex=\"-1\">Bonds</a> <li data-text=\"Funds &amp; ETFs\"><a class=\"nav-menu-subLink\" href=\"/funds-and-etfs/\" tabindex=\"-1\">Funds &amp; ETFs</a></li> Funds & ETFs "
     ]
    }
   ],
   "source": [
    "# providing url\n",
    "url = \"https://www.cnbc.com/world/?region=world\"\n",
    "  \n",
    "# creating requests object\n",
    "html = requests.get(url).content\n",
    "  \n",
    "# creating soup object\n",
    "data = BeautifulSoup(html, 'html.parser')\n",
    "  \n",
    "# finding parent <ul> tag\n",
    "parent = data.find(\"body\").find(\"ul\")\n",
    "  \n",
    "# finding all <li> tags\n",
    "text = list(parent.descendants)\n",
    "  \n",
    "# printing the content in <li> tag\n",
    "#print(text)\n",
    "for i in range(2, len(text), 2):\n",
    "    print(text[i], end=\" \")"
   ]
  },
  {
   "cell_type": "code",
   "execution_count": null,
   "id": "cc244575",
   "metadata": {},
   "outputs": [],
   "source": []
  }
 ],
 "metadata": {
  "kernelspec": {
   "display_name": "Python 3 (ipykernel)",
   "language": "python",
   "name": "python3"
  },
  "language_info": {
   "codemirror_mode": {
    "name": "ipython",
    "version": 3
   },
   "file_extension": ".py",
   "mimetype": "text/x-python",
   "name": "python",
   "nbconvert_exporter": "python",
   "pygments_lexer": "ipython3",
   "version": "3.10.11"
  }
 },
 "nbformat": 4,
 "nbformat_minor": 5
}
