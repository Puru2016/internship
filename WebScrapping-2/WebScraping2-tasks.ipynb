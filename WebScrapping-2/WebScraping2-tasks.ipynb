{
 "cells": [
  {
   "cell_type": "code",
   "execution_count": 2,
   "id": "29b935e1",
   "metadata": {},
   "outputs": [
    {
     "name": "stdout",
     "output_type": "stream",
     "text": [
      "Requirement already satisfied: pandas in ./anaconda3/lib/python3.10/site-packages (2.0.3)\n",
      "Requirement already satisfied: python-dateutil>=2.8.2 in ./anaconda3/lib/python3.10/site-packages (from pandas) (2.8.2)\n",
      "Requirement already satisfied: pytz>=2020.1 in ./anaconda3/lib/python3.10/site-packages (from pandas) (2022.7)\n",
      "Requirement already satisfied: numpy>=1.21.0 in ./anaconda3/lib/python3.10/site-packages (from pandas) (1.25.2)\n",
      "Requirement already satisfied: tzdata>=2022.1 in ./anaconda3/lib/python3.10/site-packages (from pandas) (2023.3)\n",
      "Requirement already satisfied: six>=1.5 in ./anaconda3/lib/python3.10/site-packages (from python-dateutil>=2.8.2->pandas) (1.16.0)\n",
      "Note: you may need to restart the kernel to use updated packages.\n"
     ]
    }
   ],
   "source": [
    "pip install pandas"
   ]
  },
  {
   "cell_type": "code",
   "execution_count": 3,
   "id": "560be9ac",
   "metadata": {},
   "outputs": [
    {
     "name": "stdout",
     "output_type": "stream",
     "text": [
      "Requirement already satisfied: selenium in ./anaconda3/lib/python3.10/site-packages (4.13.0)\n",
      "Requirement already satisfied: urllib3[socks]<3,>=1.26 in ./anaconda3/lib/python3.10/site-packages (from selenium) (1.26.15)\n",
      "Requirement already satisfied: trio-websocket~=0.9 in ./anaconda3/lib/python3.10/site-packages (from selenium) (0.10.4)\n",
      "Requirement already satisfied: trio~=0.17 in ./anaconda3/lib/python3.10/site-packages (from selenium) (0.22.2)\n",
      "Requirement already satisfied: certifi>=2021.10.8 in ./anaconda3/lib/python3.10/site-packages (from selenium) (2023.7.22)\n",
      "Requirement already satisfied: sortedcontainers in ./anaconda3/lib/python3.10/site-packages (from trio~=0.17->selenium) (2.4.0)\n",
      "Requirement already satisfied: idna in ./anaconda3/lib/python3.10/site-packages (from trio~=0.17->selenium) (3.4)\n",
      "Requirement already satisfied: outcome in ./anaconda3/lib/python3.10/site-packages (from trio~=0.17->selenium) (1.2.0)\n",
      "Requirement already satisfied: sniffio in ./anaconda3/lib/python3.10/site-packages (from trio~=0.17->selenium) (1.2.0)\n",
      "Requirement already satisfied: attrs>=20.1.0 in ./anaconda3/lib/python3.10/site-packages (from trio~=0.17->selenium) (22.1.0)\n",
      "Requirement already satisfied: exceptiongroup>=1.0.0rc9 in ./anaconda3/lib/python3.10/site-packages (from trio~=0.17->selenium) (1.1.3)\n",
      "Requirement already satisfied: wsproto>=0.14 in ./anaconda3/lib/python3.10/site-packages (from trio-websocket~=0.9->selenium) (1.2.0)\n",
      "Requirement already satisfied: PySocks!=1.5.7,<2.0,>=1.5.6 in ./anaconda3/lib/python3.10/site-packages (from urllib3[socks]<3,>=1.26->selenium) (1.7.1)\n",
      "Requirement already satisfied: h11<1,>=0.9.0 in ./anaconda3/lib/python3.10/site-packages (from wsproto>=0.14->trio-websocket~=0.9->selenium) (0.14.0)\n",
      "Note: you may need to restart the kernel to use updated packages.\n"
     ]
    }
   ],
   "source": [
    "pip install --upgrade selenium"
   ]
  },
  {
   "cell_type": "code",
   "execution_count": 4,
   "id": "b1d92da1",
   "metadata": {},
   "outputs": [],
   "source": [
    "import selenium\n",
    "import pandas as pd\n",
    "from selenium import webdriver\n",
    "import warnings\n",
    "warnings.filterwarnings('ignore')\n",
    "from selenium.webdriver.common.by import By\n",
    "import time"
   ]
  },
  {
   "cell_type": "markdown",
   "id": "49ebe4db",
   "metadata": {},
   "source": [
    "# Q1: Write a python program to scrape data for “Data Analyst” Job position in “Bangalore” location. You have to scrape the job-title, job-location, company_name, experience_required. You have to scrape first 10 jobs data."
   ]
  },
  {
   "cell_type": "code",
   "execution_count": 32,
   "id": "ea217da3",
   "metadata": {},
   "outputs": [],
   "source": [
    "driver = webdriver.Chrome()\n",
    "driver.get(\"https://www.shine.com/\")"
   ]
  },
  {
   "cell_type": "code",
   "execution_count": 33,
   "id": "60263094",
   "metadata": {},
   "outputs": [],
   "source": [
    "time.sleep(5)\n",
    "\n",
    "notificationallow = driver.find_element(By.XPATH,\"/html/body/div[1]/div[2]/div/div/div/div/button\")\n",
    "notificationallow.click()"
   ]
  },
  {
   "cell_type": "code",
   "execution_count": 34,
   "id": "04d2203f",
   "metadata": {},
   "outputs": [],
   "source": [
    "search = driver.find_element(By.XPATH,\"/html/body/div[1]/header[1]/div[3]/div/div/div[1]/div\")\n",
    "search.click()"
   ]
  },
  {
   "cell_type": "code",
   "execution_count": 35,
   "id": "884744d2",
   "metadata": {},
   "outputs": [],
   "source": [
    "designation = driver.find_element(By.ID,\"id_q\")\n",
    "designation.send_keys('Data Analyst')\n",
    "\n",
    "location = driver.find_element(By.ID,\"id_loc\")\n",
    "location.send_keys('Bangalore')\n",
    "\n",
    "searchclick = driver.find_element(By.XPATH,\"/html/body/div[1]/div[4]/div/div[2]/div[2]/div/form/div/div[2]/div/button\")\n",
    "searchclick.click()"
   ]
  },
  {
   "cell_type": "code",
   "execution_count": 36,
   "id": "d57e3914",
   "metadata": {},
   "outputs": [],
   "source": [
    "job_title = []\n",
    "job_location = []\n",
    "company_name = []\n",
    "experience_required = []"
   ]
  },
  {
   "cell_type": "code",
   "execution_count": 37,
   "id": "4474e15b",
   "metadata": {},
   "outputs": [
    {
     "data": {
      "text/plain": [
       "['Technical Data Analyst',\n",
       " 'opening data analyst -Bangalore',\n",
       " 'Data Entry Operator(data analyst work) REMOTE WORK',\n",
       " 'Hiring For Data Analyst',\n",
       " 'Senior Data Analyst',\n",
       " 'Data Analyst',\n",
       " 'Mobility Data Analyst - IN/MKR',\n",
       " 'Senior Data Analyst',\n",
       " 'hiring for data entry analyst ( position data entry ) w ...',\n",
       " 'hiring for data entry analyst ( position data entry ) w ...']"
      ]
     },
     "execution_count": 37,
     "metadata": {},
     "output_type": "execute_result"
    }
   ],
   "source": [
    "title_tags=driver.find_elements(By.XPATH,'//h2[@itemprop=\"name\"]')\n",
    "\n",
    "for i in title_tags[0:10]:\n",
    "    title = i.text\n",
    "    job_title.append(title)\n",
    "    \n",
    "job_title"
   ]
  },
  {
   "cell_type": "code",
   "execution_count": 38,
   "id": "c96060c0",
   "metadata": {},
   "outputs": [
    {
     "data": {
      "text/plain": [
       "['Bangalore\\n+9', 'Bangalore', 'Bangalore\\n+9', '', '', '', '', '', '', '']"
      ]
     },
     "execution_count": 38,
     "metadata": {},
     "output_type": "execute_result"
    }
   ],
   "source": [
    "location_tags=driver.find_elements(By.XPATH,'//div[@class=\" jobCard_jobCard_lists_item__YxRkV jobCard_locationIcon__zrWt2\"]')\n",
    "\n",
    "for i in location_tags[0:10]:\n",
    "    location = i.text\n",
    "    job_location.append(location)\n",
    "    \n",
    "job_location"
   ]
  },
  {
   "cell_type": "code",
   "execution_count": 39,
   "id": "c71d5071",
   "metadata": {},
   "outputs": [
    {
     "data": {
      "text/plain": [
       "['krishna consultancy.. hiring for co...',\n",
       " 'provizor it services pvt. ltd.',\n",
       " 'prime services..',\n",
       " '',\n",
       " '',\n",
       " '',\n",
       " '',\n",
       " '',\n",
       " '',\n",
       " '']"
      ]
     },
     "execution_count": 39,
     "metadata": {},
     "output_type": "execute_result"
    }
   ],
   "source": [
    "company_tags=driver.find_elements(By.XPATH,'//div[@class=\"jobCard_jobCard_cName__mYnow\"]')\n",
    "#company_tags=driver.find_elements(By.XPATH,'/html/body/div[1]/div[1]/div[5]/div/div[1]/div[1]/div/div/div[2]/div[1]/div[1]/div[2]/span')\n",
    "\n",
    "for i in company_tags[0:10]:\n",
    "    company = i.text\n",
    "    company_name.append(company)\n",
    "    \n",
    "company_name"
   ]
  },
  {
   "cell_type": "code",
   "execution_count": 40,
   "id": "ac89dab0",
   "metadata": {},
   "outputs": [
    {
     "data": {
      "text/plain": [
       "['4 to 9 Yrs', '2 to 5 Yrs', '0 to 1 Yr', '', '', '', '', '', '', '']"
      ]
     },
     "execution_count": 40,
     "metadata": {},
     "output_type": "execute_result"
    }
   ],
   "source": [
    "experience_tags=driver.find_elements(By.XPATH,'//div[@class=\" jobCard_jobCard_lists_item__YxRkV jobCard_jobIcon__3FB1t\"]')\n",
    "\n",
    "for i in experience_tags[0:10]:\n",
    "    experience = i.text\n",
    "    experience_required.append(experience)\n",
    "    \n",
    "experience_required"
   ]
  },
  {
   "cell_type": "code",
   "execution_count": 41,
   "id": "c1052bec",
   "metadata": {},
   "outputs": [
    {
     "name": "stdout",
     "output_type": "stream",
     "text": [
      "10 10 10 10\n"
     ]
    }
   ],
   "source": [
    "print(len(job_title),len(job_location),len(company_name),len(experience_required))"
   ]
  },
  {
   "cell_type": "code",
   "execution_count": 42,
   "id": "c3d806da",
   "metadata": {},
   "outputs": [
    {
     "data": {
      "text/html": [
       "<div>\n",
       "<style scoped>\n",
       "    .dataframe tbody tr th:only-of-type {\n",
       "        vertical-align: middle;\n",
       "    }\n",
       "\n",
       "    .dataframe tbody tr th {\n",
       "        vertical-align: top;\n",
       "    }\n",
       "\n",
       "    .dataframe thead th {\n",
       "        text-align: right;\n",
       "    }\n",
       "</style>\n",
       "<table border=\"1\" class=\"dataframe\">\n",
       "  <thead>\n",
       "    <tr style=\"text-align: right;\">\n",
       "      <th></th>\n",
       "      <th>job_title</th>\n",
       "      <th>job_location</th>\n",
       "      <th>company_name</th>\n",
       "      <th>experience_required</th>\n",
       "    </tr>\n",
       "  </thead>\n",
       "  <tbody>\n",
       "    <tr>\n",
       "      <th>0</th>\n",
       "      <td>Technical Data Analyst</td>\n",
       "      <td>Bangalore\\n+9</td>\n",
       "      <td>krishna consultancy.. hiring for co...</td>\n",
       "      <td>4 to 9 Yrs</td>\n",
       "    </tr>\n",
       "    <tr>\n",
       "      <th>1</th>\n",
       "      <td>opening data analyst -Bangalore</td>\n",
       "      <td>Bangalore</td>\n",
       "      <td>provizor it services pvt. ltd.</td>\n",
       "      <td>2 to 5 Yrs</td>\n",
       "    </tr>\n",
       "    <tr>\n",
       "      <th>2</th>\n",
       "      <td>Data Entry Operator(data analyst work) REMOTE ...</td>\n",
       "      <td>Bangalore\\n+9</td>\n",
       "      <td>prime services..</td>\n",
       "      <td>0 to 1 Yr</td>\n",
       "    </tr>\n",
       "    <tr>\n",
       "      <th>3</th>\n",
       "      <td>Hiring For Data Analyst</td>\n",
       "      <td></td>\n",
       "      <td></td>\n",
       "      <td></td>\n",
       "    </tr>\n",
       "    <tr>\n",
       "      <th>4</th>\n",
       "      <td>Senior Data Analyst</td>\n",
       "      <td></td>\n",
       "      <td></td>\n",
       "      <td></td>\n",
       "    </tr>\n",
       "    <tr>\n",
       "      <th>5</th>\n",
       "      <td>Data Analyst</td>\n",
       "      <td></td>\n",
       "      <td></td>\n",
       "      <td></td>\n",
       "    </tr>\n",
       "    <tr>\n",
       "      <th>6</th>\n",
       "      <td>Mobility Data Analyst - IN/MKR</td>\n",
       "      <td></td>\n",
       "      <td></td>\n",
       "      <td></td>\n",
       "    </tr>\n",
       "    <tr>\n",
       "      <th>7</th>\n",
       "      <td>Senior Data Analyst</td>\n",
       "      <td></td>\n",
       "      <td></td>\n",
       "      <td></td>\n",
       "    </tr>\n",
       "    <tr>\n",
       "      <th>8</th>\n",
       "      <td>hiring for data entry analyst ( position data ...</td>\n",
       "      <td></td>\n",
       "      <td></td>\n",
       "      <td></td>\n",
       "    </tr>\n",
       "    <tr>\n",
       "      <th>9</th>\n",
       "      <td>hiring for data entry analyst ( position data ...</td>\n",
       "      <td></td>\n",
       "      <td></td>\n",
       "      <td></td>\n",
       "    </tr>\n",
       "  </tbody>\n",
       "</table>\n",
       "</div>"
      ],
      "text/plain": [
       "                                           job_title   job_location  \\\n",
       "0                             Technical Data Analyst  Bangalore\\n+9   \n",
       "1                    opening data analyst -Bangalore      Bangalore   \n",
       "2  Data Entry Operator(data analyst work) REMOTE ...  Bangalore\\n+9   \n",
       "3                            Hiring For Data Analyst                  \n",
       "4                                Senior Data Analyst                  \n",
       "5                                       Data Analyst                  \n",
       "6                     Mobility Data Analyst - IN/MKR                  \n",
       "7                                Senior Data Analyst                  \n",
       "8  hiring for data entry analyst ( position data ...                  \n",
       "9  hiring for data entry analyst ( position data ...                  \n",
       "\n",
       "                             company_name experience_required  \n",
       "0  krishna consultancy.. hiring for co...          4 to 9 Yrs  \n",
       "1          provizor it services pvt. ltd.          2 to 5 Yrs  \n",
       "2                        prime services..           0 to 1 Yr  \n",
       "3                                                              \n",
       "4                                                              \n",
       "5                                                              \n",
       "6                                                              \n",
       "7                                                              \n",
       "8                                                              \n",
       "9                                                              "
      ]
     },
     "execution_count": 42,
     "metadata": {},
     "output_type": "execute_result"
    }
   ],
   "source": [
    "# Making Dataframe\n",
    "df = pd.DataFrame({'job_title':job_title, 'job_location':job_location, 'company_name':company_name, 'experience_required':experience_required})\n",
    "df"
   ]
  },
  {
   "cell_type": "markdown",
   "id": "f16fedfc",
   "metadata": {},
   "source": [
    "# Q2: Write a python program to scrape data for “Data Scientist” Job position in “Bangalore” location. You have to scrape the job-title, job-location, company_name. You have to scrape first 10 jobs data."
   ]
  },
  {
   "cell_type": "code",
   "execution_count": 44,
   "id": "11df503f",
   "metadata": {},
   "outputs": [],
   "source": [
    "driver = webdriver.Chrome()\n",
    "driver.get(\"https://www.shine.com/\")"
   ]
  },
  {
   "cell_type": "code",
   "execution_count": 45,
   "id": "ae8b9c35",
   "metadata": {},
   "outputs": [],
   "source": [
    "time.sleep(5)\n",
    "\n",
    "#notificationallow = driver.find_element(By.CLASS_NAME,\"btn btn-xs btn-secondary\")\n",
    "notificationallow = driver.find_element(By.XPATH,\"/html/body/div[1]/div[2]/div/div/div/div/button\")\n",
    "notificationallow.click()"
   ]
  },
  {
   "cell_type": "code",
   "execution_count": 48,
   "id": "a5307deb",
   "metadata": {},
   "outputs": [],
   "source": [
    "search = driver.find_element(By.XPATH,\"/html/body/div[1]/header[1]/div[3]/div/div/div[1]/div\")\n",
    "search.click()\n",
    "\n",
    "\n",
    "time.sleep(10)\n",
    "\n",
    "designation = driver.find_element(By.ID,\"id_q\")\n",
    "designation.send_keys('Data Scientist')\n",
    "\n",
    "location = driver.find_element(By.ID,\"id_loc\")\n",
    "location.send_keys('Bangalore')\n",
    "\n",
    "searchclick = driver.find_element(By.XPATH,\"/html/body/div[1]/div[4]/div/div[2]/div[2]/div/form/div/div[2]/div/button\")\n",
    "searchclick.click()"
   ]
  },
  {
   "cell_type": "code",
   "execution_count": 49,
   "id": "ff8eb838",
   "metadata": {},
   "outputs": [],
   "source": [
    "job_titles = []\n",
    "job_locations = []\n",
    "company_names = []"
   ]
  },
  {
   "cell_type": "code",
   "execution_count": 50,
   "id": "189f749a",
   "metadata": {},
   "outputs": [
    {
     "data": {
      "text/plain": [
       "['Data Scientist',\n",
       " 'SR. DATA SCIENTIST',\n",
       " 'Senior Data Scientist- ML Engineer',\n",
       " 'Data Scientist III',\n",
       " 'Data Scientist Hiring Fresher and Experience',\n",
       " 'Opening for Computer executive, data typing , entry dat ...',\n",
       " 'Data Scientist',\n",
       " 'Senior Data Scientist, AWS',\n",
       " 'Data Scientist Recruitment',\n",
       " 'Data Engineer II, Amazon WFM Tech Enterprise Data']"
      ]
     },
     "execution_count": 50,
     "metadata": {},
     "output_type": "execute_result"
    }
   ],
   "source": [
    "scientist_title = driver.find_elements(By.XPATH,'//h2[@itemprop=\"name\"]')\n",
    "\n",
    "for i in scientist_title[0:10]:\n",
    "    title = i.text\n",
    "    job_titles.append(title)\n",
    "    \n",
    "job_titles"
   ]
  },
  {
   "cell_type": "code",
   "execution_count": 51,
   "id": "f95ead70",
   "metadata": {},
   "outputs": [
    {
     "data": {
      "text/plain": [
       "['Bangalore',\n",
       " 'Bangalore',\n",
       " 'Bangalore',\n",
       " 'Bangalore',\n",
       " 'Bangalore\\n+17',\n",
       " 'Bangalore\\n+9',\n",
       " 'Bangalore\\n+6',\n",
       " 'Bangalore',\n",
       " 'Bangalore\\n+17',\n",
       " 'Bangalore']"
      ]
     },
     "execution_count": 51,
     "metadata": {},
     "output_type": "execute_result"
    }
   ],
   "source": [
    "scientist_location = driver.find_elements(By.XPATH,'//div[@class=\" jobCard_jobCard_lists_item__YxRkV jobCard_locationIcon__zrWt2\"]')\n",
    "\n",
    "for i in scientist_location[0:10]:\n",
    "    location = i.text\n",
    "    job_locations.append(location)\n",
    "    \n",
    "job_locations"
   ]
  },
  {
   "cell_type": "code",
   "execution_count": 52,
   "id": "b59dc820",
   "metadata": {},
   "outputs": [
    {
     "data": {
      "text/plain": [
       "['the fashion cosmo',\n",
       " 'te connectivity india pvt ltd',\n",
       " 'sap india pvt ltd',\n",
       " 'inmobi',\n",
       " 'kavya staffing solutions',\n",
       " 'realtech solutions',\n",
       " 'quiscon biotech',\n",
       " 'amazon',\n",
       " 'kavya staffing solutions',\n",
       " 'amazon']"
      ]
     },
     "execution_count": 52,
     "metadata": {},
     "output_type": "execute_result"
    }
   ],
   "source": [
    "scientist_company = driver.find_elements(By.XPATH,'//div[@class=\"jobCard_jobCard_cName__mYnow\"]')\n",
    "\n",
    "for i in scientist_company[0:10]:\n",
    "    company = i.text\n",
    "    company_names.append(company)\n",
    "    \n",
    "company_names"
   ]
  },
  {
   "cell_type": "code",
   "execution_count": 56,
   "id": "458bd41a",
   "metadata": {},
   "outputs": [
    {
     "name": "stdout",
     "output_type": "stream",
     "text": [
      "10 10 10\n"
     ]
    }
   ],
   "source": [
    "print(len(job_titles),len(job_locations),len(company_names))"
   ]
  },
  {
   "cell_type": "code",
   "execution_count": 57,
   "id": "971a222c",
   "metadata": {},
   "outputs": [
    {
     "data": {
      "text/html": [
       "<div>\n",
       "<style scoped>\n",
       "    .dataframe tbody tr th:only-of-type {\n",
       "        vertical-align: middle;\n",
       "    }\n",
       "\n",
       "    .dataframe tbody tr th {\n",
       "        vertical-align: top;\n",
       "    }\n",
       "\n",
       "    .dataframe thead th {\n",
       "        text-align: right;\n",
       "    }\n",
       "</style>\n",
       "<table border=\"1\" class=\"dataframe\">\n",
       "  <thead>\n",
       "    <tr style=\"text-align: right;\">\n",
       "      <th></th>\n",
       "      <th>job_title</th>\n",
       "      <th>job_location</th>\n",
       "      <th>company_name</th>\n",
       "    </tr>\n",
       "  </thead>\n",
       "  <tbody>\n",
       "    <tr>\n",
       "      <th>0</th>\n",
       "      <td>Data Scientist</td>\n",
       "      <td>Bangalore</td>\n",
       "      <td>the fashion cosmo</td>\n",
       "    </tr>\n",
       "    <tr>\n",
       "      <th>1</th>\n",
       "      <td>SR. DATA SCIENTIST</td>\n",
       "      <td>Bangalore</td>\n",
       "      <td>te connectivity india pvt ltd</td>\n",
       "    </tr>\n",
       "    <tr>\n",
       "      <th>2</th>\n",
       "      <td>Senior Data Scientist- ML Engineer</td>\n",
       "      <td>Bangalore</td>\n",
       "      <td>sap india pvt ltd</td>\n",
       "    </tr>\n",
       "    <tr>\n",
       "      <th>3</th>\n",
       "      <td>Data Scientist III</td>\n",
       "      <td>Bangalore</td>\n",
       "      <td>inmobi</td>\n",
       "    </tr>\n",
       "    <tr>\n",
       "      <th>4</th>\n",
       "      <td>Data Scientist Hiring Fresher and Experience</td>\n",
       "      <td>Bangalore\\n+17</td>\n",
       "      <td>kavya staffing solutions</td>\n",
       "    </tr>\n",
       "    <tr>\n",
       "      <th>5</th>\n",
       "      <td>Opening for Computer executive, data typing , ...</td>\n",
       "      <td>Bangalore\\n+9</td>\n",
       "      <td>realtech solutions</td>\n",
       "    </tr>\n",
       "    <tr>\n",
       "      <th>6</th>\n",
       "      <td>Data Scientist</td>\n",
       "      <td>Bangalore\\n+6</td>\n",
       "      <td>quiscon biotech</td>\n",
       "    </tr>\n",
       "    <tr>\n",
       "      <th>7</th>\n",
       "      <td>Senior Data Scientist, AWS</td>\n",
       "      <td>Bangalore</td>\n",
       "      <td>amazon</td>\n",
       "    </tr>\n",
       "    <tr>\n",
       "      <th>8</th>\n",
       "      <td>Data Scientist Recruitment</td>\n",
       "      <td>Bangalore\\n+17</td>\n",
       "      <td>kavya staffing solutions</td>\n",
       "    </tr>\n",
       "    <tr>\n",
       "      <th>9</th>\n",
       "      <td>Data Engineer II, Amazon WFM Tech Enterprise Data</td>\n",
       "      <td>Bangalore</td>\n",
       "      <td>amazon</td>\n",
       "    </tr>\n",
       "  </tbody>\n",
       "</table>\n",
       "</div>"
      ],
      "text/plain": [
       "                                           job_title    job_location  \\\n",
       "0                                     Data Scientist       Bangalore   \n",
       "1                                 SR. DATA SCIENTIST       Bangalore   \n",
       "2                 Senior Data Scientist- ML Engineer       Bangalore   \n",
       "3                                 Data Scientist III       Bangalore   \n",
       "4       Data Scientist Hiring Fresher and Experience  Bangalore\\n+17   \n",
       "5  Opening for Computer executive, data typing , ...   Bangalore\\n+9   \n",
       "6                                     Data Scientist   Bangalore\\n+6   \n",
       "7                         Senior Data Scientist, AWS       Bangalore   \n",
       "8                         Data Scientist Recruitment  Bangalore\\n+17   \n",
       "9  Data Engineer II, Amazon WFM Tech Enterprise Data       Bangalore   \n",
       "\n",
       "                    company_name  \n",
       "0              the fashion cosmo  \n",
       "1  te connectivity india pvt ltd  \n",
       "2              sap india pvt ltd  \n",
       "3                         inmobi  \n",
       "4       kavya staffing solutions  \n",
       "5             realtech solutions  \n",
       "6                quiscon biotech  \n",
       "7                         amazon  \n",
       "8       kavya staffing solutions  \n",
       "9                         amazon  "
      ]
     },
     "execution_count": 57,
     "metadata": {},
     "output_type": "execute_result"
    }
   ],
   "source": [
    "# Making Dataframe\n",
    "df = pd.DataFrame({'job_title':job_titles, 'job_location':job_locations, 'company_name':company_names})\n",
    "df"
   ]
  },
  {
   "cell_type": "code",
   "execution_count": 53,
   "id": "cbe7677e",
   "metadata": {},
   "outputs": [
    {
     "data": {
      "text/plain": [
       "['0 to 4 Yrs',\n",
       " '5 to 7 Yrs',\n",
       " '5 to 7 Yrs',\n",
       " '7 to 9 Yrs',\n",
       " '0 to 4 Yrs',\n",
       " '0 to 1 Yr',\n",
       " '0 to 1 Yr',\n",
       " '10 to 12 Yrs',\n",
       " '0 to 4 Yrs',\n",
       " '3 to 5 Yrs']"
      ]
     },
     "execution_count": 53,
     "metadata": {},
     "output_type": "execute_result"
    }
   ],
   "source": [
    "scientist_experience = driver.find_elements(By.XPATH,'//div[@class=\" jobCard_jobCard_lists_item__YxRkV jobCard_jobIcon__3FB1t\"]')\n",
    "\n",
    "for i in scientist_experience[0:10]:\n",
    "    experience = i.text\n",
    "    experience_require.append(experience)\n",
    "    \n",
    "experience_require"
   ]
  },
  {
   "cell_type": "markdown",
   "id": "3b956b82",
   "metadata": {},
   "source": [
    "# Q3: In this question you have to scrape data using the filters available on the webpage You have to use the location and salary filter."
   ]
  },
  {
   "cell_type": "code",
   "execution_count": 59,
   "id": "d313cbf2",
   "metadata": {},
   "outputs": [],
   "source": [
    "driver = webdriver.Chrome()\n",
    "driver.get(\"https://www.shine.com/\")"
   ]
  },
  {
   "cell_type": "code",
   "execution_count": 60,
   "id": "6945c0e5",
   "metadata": {},
   "outputs": [],
   "source": [
    "time.sleep(5)\n",
    "\n",
    "#notificationallow = driver.find_element(By.CLASS_NAME,\"btn btn-xs btn-secondary\")\n",
    "notificationallow = driver.find_element(By.XPATH,\"/html/body/div[1]/div[2]/div/div/div/div/button\")\n",
    "notificationallow.click()"
   ]
  },
  {
   "cell_type": "code",
   "execution_count": 61,
   "id": "ad370dbf",
   "metadata": {},
   "outputs": [],
   "source": [
    "search = driver.find_element(By.XPATH,\"/html/body/div[1]/header[1]/div[3]/div/div/div[1]/div\")\n",
    "search.click()\n",
    "\n",
    "\n",
    "time.sleep(10)\n",
    "\n",
    "designation = driver.find_element(By.ID,\"id_q\")\n",
    "designation.send_keys('Data Scientist')\n",
    "\n",
    "searchclick = driver.find_element(By.XPATH,\"/html/body/div[1]/div[4]/div/div[2]/div[2]/div/form/div/div[2]/div/button\")\n",
    "searchclick.click()"
   ]
  },
  {
   "cell_type": "code",
   "execution_count": 78,
   "id": "e3944979",
   "metadata": {},
   "outputs": [],
   "source": [
    "location_filter = driver.find_element(By.XPATH,'//*[@id=\"__next\"]/div[1]/div[4]/div/div[1]/div/div[2]/div/ul/li[1]/button')\n",
    "location_filter.click()"
   ]
  },
  {
   "cell_type": "code",
   "execution_count": 83,
   "id": "edf80f1d",
   "metadata": {},
   "outputs": [
    {
     "ename": "ElementClickInterceptedException",
     "evalue": "Message: element click intercepted: Element <input class=\"styled-checkbox\" id=\"filter_jFLoc_406\" type=\"checkbox\" name=\"location\" readonly=\"\" value=\"406\"> is not clickable at point (476, 361). Other element would receive the click: <label class=\"filter_filter_option_label__v_iAW\" for=\"filter_jFLoc_406\">...</label>\n  (Session info: chrome=117.0.5938.92)\nStacktrace:\n#0 0x55b6f758a6b3 <unknown>\n#1 0x55b6f72601e7 <unknown>\n#2 0x55b6f72ad65d <unknown>\n#3 0x55b6f72ab9fd <unknown>\n#4 0x55b6f72a97b8 <unknown>\n#5 0x55b6f72a8827 <unknown>\n#6 0x55b6f729d4f9 <unknown>\n#7 0x55b6f72c90c2 <unknown>\n#8 0x55b6f729cf16 <unknown>\n#9 0x55b6f72c928e <unknown>\n#10 0x55b6f72e2322 <unknown>\n#11 0x55b6f72c8e93 <unknown>\n#12 0x55b6f729b934 <unknown>\n#13 0x55b6f729c71e <unknown>\n#14 0x55b6f754fcb8 <unknown>\n#15 0x55b6f7553bf0 <unknown>\n#16 0x55b6f755e19c <unknown>\n#17 0x55b6f7554808 <unknown>\n#18 0x55b6f752127f <unknown>\n#19 0x55b6f7578e88 <unknown>\n#20 0x55b6f7579059 <unknown>\n#21 0x55b6f7589843 <unknown>\n#22 0x7fd572f95609 start_thread\n",
     "output_type": "error",
     "traceback": [
      "\u001b[0;31m---------------------------------------------------------------------------\u001b[0m",
      "\u001b[0;31mElementClickInterceptedException\u001b[0m          Traceback (most recent call last)",
      "Cell \u001b[0;32mIn[83], line 7\u001b[0m\n\u001b[1;32m      4\u001b[0m select_location \u001b[38;5;241m=\u001b[39m driver\u001b[38;5;241m.\u001b[39mfind_element(By\u001b[38;5;241m.\u001b[39mXPATH,\u001b[38;5;124m'\u001b[39m\u001b[38;5;124m//input[@id=\u001b[39m\u001b[38;5;124m\"\u001b[39m\u001b[38;5;124mfilter_jFLoc_406\u001b[39m\u001b[38;5;124m\"\u001b[39m\u001b[38;5;124m]\u001b[39m\u001b[38;5;124m'\u001b[39m)\n\u001b[1;32m      6\u001b[0m \u001b[38;5;66;03m#select_location = driver.find_element(By.ID,'filter_jFLoc_406')\u001b[39;00m\n\u001b[0;32m----> 7\u001b[0m \u001b[43mselect_location\u001b[49m\u001b[38;5;241;43m.\u001b[39;49m\u001b[43mclick\u001b[49m\u001b[43m(\u001b[49m\u001b[43m)\u001b[49m\n",
      "File \u001b[0;32m~/anaconda3/lib/python3.10/site-packages/selenium/webdriver/remote/webelement.py:93\u001b[0m, in \u001b[0;36mWebElement.click\u001b[0;34m(self)\u001b[0m\n\u001b[1;32m     91\u001b[0m \u001b[38;5;28;01mdef\u001b[39;00m \u001b[38;5;21mclick\u001b[39m(\u001b[38;5;28mself\u001b[39m) \u001b[38;5;241m-\u001b[39m\u001b[38;5;241m>\u001b[39m \u001b[38;5;28;01mNone\u001b[39;00m:\n\u001b[1;32m     92\u001b[0m \u001b[38;5;250m    \u001b[39m\u001b[38;5;124;03m\"\"\"Clicks the element.\"\"\"\u001b[39;00m\n\u001b[0;32m---> 93\u001b[0m     \u001b[38;5;28;43mself\u001b[39;49m\u001b[38;5;241;43m.\u001b[39;49m\u001b[43m_execute\u001b[49m\u001b[43m(\u001b[49m\u001b[43mCommand\u001b[49m\u001b[38;5;241;43m.\u001b[39;49m\u001b[43mCLICK_ELEMENT\u001b[49m\u001b[43m)\u001b[49m\n",
      "File \u001b[0;32m~/anaconda3/lib/python3.10/site-packages/selenium/webdriver/remote/webelement.py:394\u001b[0m, in \u001b[0;36mWebElement._execute\u001b[0;34m(self, command, params)\u001b[0m\n\u001b[1;32m    392\u001b[0m     params \u001b[38;5;241m=\u001b[39m {}\n\u001b[1;32m    393\u001b[0m params[\u001b[38;5;124m\"\u001b[39m\u001b[38;5;124mid\u001b[39m\u001b[38;5;124m\"\u001b[39m] \u001b[38;5;241m=\u001b[39m \u001b[38;5;28mself\u001b[39m\u001b[38;5;241m.\u001b[39m_id\n\u001b[0;32m--> 394\u001b[0m \u001b[38;5;28;01mreturn\u001b[39;00m \u001b[38;5;28;43mself\u001b[39;49m\u001b[38;5;241;43m.\u001b[39;49m\u001b[43m_parent\u001b[49m\u001b[38;5;241;43m.\u001b[39;49m\u001b[43mexecute\u001b[49m\u001b[43m(\u001b[49m\u001b[43mcommand\u001b[49m\u001b[43m,\u001b[49m\u001b[43m \u001b[49m\u001b[43mparams\u001b[49m\u001b[43m)\u001b[49m\n",
      "File \u001b[0;32m~/anaconda3/lib/python3.10/site-packages/selenium/webdriver/remote/webdriver.py:344\u001b[0m, in \u001b[0;36mWebDriver.execute\u001b[0;34m(self, driver_command, params)\u001b[0m\n\u001b[1;32m    342\u001b[0m response \u001b[38;5;241m=\u001b[39m \u001b[38;5;28mself\u001b[39m\u001b[38;5;241m.\u001b[39mcommand_executor\u001b[38;5;241m.\u001b[39mexecute(driver_command, params)\n\u001b[1;32m    343\u001b[0m \u001b[38;5;28;01mif\u001b[39;00m response:\n\u001b[0;32m--> 344\u001b[0m     \u001b[38;5;28;43mself\u001b[39;49m\u001b[38;5;241;43m.\u001b[39;49m\u001b[43merror_handler\u001b[49m\u001b[38;5;241;43m.\u001b[39;49m\u001b[43mcheck_response\u001b[49m\u001b[43m(\u001b[49m\u001b[43mresponse\u001b[49m\u001b[43m)\u001b[49m\n\u001b[1;32m    345\u001b[0m     response[\u001b[38;5;124m\"\u001b[39m\u001b[38;5;124mvalue\u001b[39m\u001b[38;5;124m\"\u001b[39m] \u001b[38;5;241m=\u001b[39m \u001b[38;5;28mself\u001b[39m\u001b[38;5;241m.\u001b[39m_unwrap_value(response\u001b[38;5;241m.\u001b[39mget(\u001b[38;5;124m\"\u001b[39m\u001b[38;5;124mvalue\u001b[39m\u001b[38;5;124m\"\u001b[39m, \u001b[38;5;28;01mNone\u001b[39;00m))\n\u001b[1;32m    346\u001b[0m     \u001b[38;5;28;01mreturn\u001b[39;00m response\n",
      "File \u001b[0;32m~/anaconda3/lib/python3.10/site-packages/selenium/webdriver/remote/errorhandler.py:229\u001b[0m, in \u001b[0;36mErrorHandler.check_response\u001b[0;34m(self, response)\u001b[0m\n\u001b[1;32m    227\u001b[0m         alert_text \u001b[38;5;241m=\u001b[39m value[\u001b[38;5;124m\"\u001b[39m\u001b[38;5;124malert\u001b[39m\u001b[38;5;124m\"\u001b[39m]\u001b[38;5;241m.\u001b[39mget(\u001b[38;5;124m\"\u001b[39m\u001b[38;5;124mtext\u001b[39m\u001b[38;5;124m\"\u001b[39m)\n\u001b[1;32m    228\u001b[0m     \u001b[38;5;28;01mraise\u001b[39;00m exception_class(message, screen, stacktrace, alert_text)  \u001b[38;5;66;03m# type: ignore[call-arg]  # mypy is not smart enough here\u001b[39;00m\n\u001b[0;32m--> 229\u001b[0m \u001b[38;5;28;01mraise\u001b[39;00m exception_class(message, screen, stacktrace)\n",
      "\u001b[0;31mElementClickInterceptedException\u001b[0m: Message: element click intercepted: Element <input class=\"styled-checkbox\" id=\"filter_jFLoc_406\" type=\"checkbox\" name=\"location\" readonly=\"\" value=\"406\"> is not clickable at point (476, 361). Other element would receive the click: <label class=\"filter_filter_option_label__v_iAW\" for=\"filter_jFLoc_406\">...</label>\n  (Session info: chrome=117.0.5938.92)\nStacktrace:\n#0 0x55b6f758a6b3 <unknown>\n#1 0x55b6f72601e7 <unknown>\n#2 0x55b6f72ad65d <unknown>\n#3 0x55b6f72ab9fd <unknown>\n#4 0x55b6f72a97b8 <unknown>\n#5 0x55b6f72a8827 <unknown>\n#6 0x55b6f729d4f9 <unknown>\n#7 0x55b6f72c90c2 <unknown>\n#8 0x55b6f729cf16 <unknown>\n#9 0x55b6f72c928e <unknown>\n#10 0x55b6f72e2322 <unknown>\n#11 0x55b6f72c8e93 <unknown>\n#12 0x55b6f729b934 <unknown>\n#13 0x55b6f729c71e <unknown>\n#14 0x55b6f754fcb8 <unknown>\n#15 0x55b6f7553bf0 <unknown>\n#16 0x55b6f755e19c <unknown>\n#17 0x55b6f7554808 <unknown>\n#18 0x55b6f752127f <unknown>\n#19 0x55b6f7578e88 <unknown>\n#20 0x55b6f7579059 <unknown>\n#21 0x55b6f7589843 <unknown>\n#22 0x7fd572f95609 start_thread\n"
     ]
    }
   ],
   "source": [
    "#select_location = driver.find_element(By.XPATH,'//*[@id=\"filter_jFLoc_406\"]')\n",
    "#select_location = driver.find_element(By.XPATH,'/html/body/div[1]/div[1]/div[4]/div/div[1]/div/div[2]/div[2]/div/div/div/div[3]/div/div/div/ul/li[8]/span/input')\n",
    "\n",
    "select_location = driver.find_element(By.XPATH,'//input[@id=\"filter_jFLoc_406\"]')\n",
    "\n",
    "#select_location = driver.find_element(By.ID,'filter_jFLoc_406')\n",
    "select_location.click()"
   ]
  },
  {
   "cell_type": "markdown",
   "id": "9f37bf7d",
   "metadata": {},
   "source": [
    "# Q4: Scrape data of first 100 sunglasses listings on flipkart.com. You have to scrape four attributes: a. Brand b. Product Description c. Price d. Discount"
   ]
  },
  {
   "cell_type": "code",
   "execution_count": 5,
   "id": "11537672",
   "metadata": {},
   "outputs": [],
   "source": [
    "driver = webdriver.Chrome()\n",
    "driver.get(\"http://www.flipkart.com/\")"
   ]
  },
  {
   "cell_type": "code",
   "execution_count": 6,
   "id": "3207fa08",
   "metadata": {},
   "outputs": [],
   "source": [
    "time.sleep(5)\n",
    "\n",
    "closepopup = driver.find_element(By.CLASS_NAME,\"_30XB9F\")\n",
    "closepopup.click()\n",
    "\n",
    "searchterms = driver.find_element(By.CLASS_NAME,\"Pke_EE\")\n",
    "searchterms.send_keys('sunglasses')\n",
    "\n",
    "search = driver.find_element(By.CLASS_NAME,\"_2iLD__\")\n",
    "search.click()"
   ]
  },
  {
   "cell_type": "code",
   "execution_count": 7,
   "id": "a160c461",
   "metadata": {},
   "outputs": [],
   "source": [
    "sunglass_brand = []\n",
    "sunglass_desc = []\n",
    "sunglass_price = []\n",
    "sunglass_discount = []"
   ]
  },
  {
   "cell_type": "code",
   "execution_count": 8,
   "id": "fd09da6b",
   "metadata": {},
   "outputs": [
    {
     "data": {
      "text/plain": [
       "['76% off',\n",
       " '69% off',\n",
       " '88% off',\n",
       " '87% off',\n",
       " '30% off',\n",
       " '30% off',\n",
       " '73% off',\n",
       " '62% off',\n",
       " '75% off',\n",
       " '84% off',\n",
       " '74% off',\n",
       " '69% off',\n",
       " '73% off',\n",
       " '77% off',\n",
       " '86% off',\n",
       " '69% off',\n",
       " '76% off',\n",
       " '69% off',\n",
       " '77% off',\n",
       " '30% off',\n",
       " '70% off',\n",
       " '80% off',\n",
       " '30% off',\n",
       " '30% off',\n",
       " '70% off',\n",
       " '64% off',\n",
       " '69% off',\n",
       " '62% off',\n",
       " '77% off',\n",
       " '30% off',\n",
       " '65% off',\n",
       " '71% off',\n",
       " '60% off',\n",
       " '77% off',\n",
       " '63% off',\n",
       " '67% off',\n",
       " '82% off',\n",
       " '71% off',\n",
       " '88% off',\n",
       " '30% off',\n",
       " '62% off',\n",
       " '64% off',\n",
       " '30% off',\n",
       " '87% off',\n",
       " '88% off',\n",
       " '30% off',\n",
       " '73% off',\n",
       " '65% off',\n",
       " '30% off',\n",
       " '86% off',\n",
       " '72% off',\n",
       " '52% off',\n",
       " '79% off',\n",
       " '84% off',\n",
       " '84% off',\n",
       " '30% off',\n",
       " '73% off',\n",
       " '73% off',\n",
       " '30% off',\n",
       " '78% off',\n",
       " '70% off',\n",
       " '72% off',\n",
       " '70% off',\n",
       " '83% off',\n",
       " '85% off',\n",
       " '79% off',\n",
       " '67% off',\n",
       " '65% off',\n",
       " '79% off',\n",
       " '80% off',\n",
       " '67% off',\n",
       " '67% off',\n",
       " '62% off',\n",
       " '77% off',\n",
       " '90% off',\n",
       " '58% off',\n",
       " '67% off',\n",
       " '67% off',\n",
       " '69% off',\n",
       " '88% off',\n",
       " '76% off',\n",
       " '69% off',\n",
       " '88% off',\n",
       " '87% off',\n",
       " '30% off',\n",
       " '30% off',\n",
       " '73% off',\n",
       " '62% off',\n",
       " '75% off',\n",
       " '84% off',\n",
       " '74% off',\n",
       " '69% off',\n",
       " '73% off',\n",
       " '77% off',\n",
       " '86% off',\n",
       " '69% off',\n",
       " '76% off',\n",
       " '69% off',\n",
       " '77% off',\n",
       " '30% off',\n",
       " '70% off',\n",
       " '69% off',\n",
       " '30% off',\n",
       " '30% off',\n",
       " '70% off',\n",
       " '64% off',\n",
       " '80% off',\n",
       " '62% off',\n",
       " '77% off',\n",
       " '30% off',\n",
       " '65% off',\n",
       " '71% off',\n",
       " '60% off',\n",
       " '77% off',\n",
       " '63% off',\n",
       " '67% off',\n",
       " '77% off',\n",
       " '82% off',\n",
       " '88% off',\n",
       " '30% off']"
      ]
     },
     "execution_count": 8,
     "metadata": {},
     "output_type": "execute_result"
    }
   ],
   "source": [
    "start=0\n",
    "end=3\n",
    "\n",
    "for pages in range(start,end):\n",
    "    brand = driver.find_elements(By.XPATH,'//div[@class=\"_2WkVRV\"]')\n",
    "\n",
    "    for i in brand:\n",
    "        brandvalue = i.text\n",
    "        sunglass_brand.append(brandvalue)\n",
    "        \n",
    "    description = driver.find_elements(By.XPATH,'//a[@class=\"IRpwTa\"]')\n",
    "\n",
    "    for i in description:\n",
    "        descvalue = i.text\n",
    "        sunglass_desc.append(descvalue)\n",
    "        \n",
    "    price = driver.find_elements(By.XPATH,'//div[@class=\"_30jeq3\"]')\n",
    "\n",
    "    for i in price:\n",
    "        pricevalue = i.text\n",
    "        sunglass_price.append(pricevalue)    \n",
    "    \n",
    "    discount = driver.find_elements(By.XPATH,'//div[@class=\"_3Ay6Sb\"]')\n",
    "\n",
    "    for i in discount:\n",
    "        brandvalue = i.text\n",
    "        sunglass_discount.append(brandvalue)\n",
    "    next_button = driver.find_element(By.XPATH, '//a[@class=\"_1LKTO3\"]')\n",
    "    next_button.click()\n",
    "    time.sleep(15) \n",
    "\n",
    "#sunglass_brand\n",
    "#sunglass_desc\n",
    "#sunglass_price\n",
    "#sunglass_discount"
   ]
  },
  {
   "cell_type": "code",
   "execution_count": 16,
   "id": "a4966b85",
   "metadata": {},
   "outputs": [
    {
     "name": "stdout",
     "output_type": "stream",
     "text": [
      "120 120 120 120\n"
     ]
    }
   ],
   "source": [
    "print(len(sunglass_brand),len(sunglass_desc),len(sunglass_price),len(sunglass_discount))"
   ]
  },
  {
   "cell_type": "code",
   "execution_count": 17,
   "id": "dda290a6",
   "metadata": {},
   "outputs": [
    {
     "data": {
      "text/html": [
       "<div>\n",
       "<style scoped>\n",
       "    .dataframe tbody tr th:only-of-type {\n",
       "        vertical-align: middle;\n",
       "    }\n",
       "\n",
       "    .dataframe tbody tr th {\n",
       "        vertical-align: top;\n",
       "    }\n",
       "\n",
       "    .dataframe thead th {\n",
       "        text-align: right;\n",
       "    }\n",
       "</style>\n",
       "<table border=\"1\" class=\"dataframe\">\n",
       "  <thead>\n",
       "    <tr style=\"text-align: right;\">\n",
       "      <th></th>\n",
       "      <th>Brand</th>\n",
       "      <th>Description</th>\n",
       "      <th>Price</th>\n",
       "      <th>Discount</th>\n",
       "    </tr>\n",
       "  </thead>\n",
       "  <tbody>\n",
       "    <tr>\n",
       "      <th>0</th>\n",
       "      <td>VINCENT CHASE</td>\n",
       "      <td>UV Protection Wayfarer Sunglasses (59)</td>\n",
       "      <td>₹479</td>\n",
       "      <td>76% off</td>\n",
       "    </tr>\n",
       "    <tr>\n",
       "      <th>1</th>\n",
       "      <td>VINCENT CHASE</td>\n",
       "      <td>Polarized, UV Protection Round Sunglasses (50)</td>\n",
       "      <td>₹609</td>\n",
       "      <td>69% off</td>\n",
       "    </tr>\n",
       "    <tr>\n",
       "      <th>2</th>\n",
       "      <td>SRPM</td>\n",
       "      <td>UV Protection Wayfarer Sunglasses (50)</td>\n",
       "      <td>₹149</td>\n",
       "      <td>88% off</td>\n",
       "    </tr>\n",
       "    <tr>\n",
       "      <th>3</th>\n",
       "      <td>Elligator</td>\n",
       "      <td>UV Protection Aviator, Wayfarer Sunglasses (54)</td>\n",
       "      <td>₹159</td>\n",
       "      <td>87% off</td>\n",
       "    </tr>\n",
       "    <tr>\n",
       "      <th>4</th>\n",
       "      <td>Fastrack</td>\n",
       "      <td>UV Protection Wayfarer Sunglasses (58)</td>\n",
       "      <td>₹769</td>\n",
       "      <td>30% off</td>\n",
       "    </tr>\n",
       "    <tr>\n",
       "      <th>...</th>\n",
       "      <td>...</td>\n",
       "      <td>...</td>\n",
       "      <td>...</td>\n",
       "      <td>...</td>\n",
       "    </tr>\n",
       "    <tr>\n",
       "      <th>95</th>\n",
       "      <td>Rich Club</td>\n",
       "      <td>UV Protection Retro Square Sunglasses (54)</td>\n",
       "      <td>₹399</td>\n",
       "      <td>69% off</td>\n",
       "    </tr>\n",
       "    <tr>\n",
       "      <th>96</th>\n",
       "      <td>ROYAL SON</td>\n",
       "      <td>Mirrored Aviator Sunglasses (58)</td>\n",
       "      <td>₹359</td>\n",
       "      <td>76% off</td>\n",
       "    </tr>\n",
       "    <tr>\n",
       "      <th>97</th>\n",
       "      <td>VINCENT CHASE</td>\n",
       "      <td>by Lenskart Polarized, UV Protection Rectangul...</td>\n",
       "      <td>₹609</td>\n",
       "      <td>69% off</td>\n",
       "    </tr>\n",
       "    <tr>\n",
       "      <th>98</th>\n",
       "      <td>cleardekho</td>\n",
       "      <td>UV Protection Cat-eye Sunglasses (Free Size)</td>\n",
       "      <td>₹374</td>\n",
       "      <td>77% off</td>\n",
       "    </tr>\n",
       "    <tr>\n",
       "      <th>99</th>\n",
       "      <td>Fastrack</td>\n",
       "      <td>UV Protection Aviator Sunglasses (58)</td>\n",
       "      <td>₹979</td>\n",
       "      <td>30% off</td>\n",
       "    </tr>\n",
       "  </tbody>\n",
       "</table>\n",
       "<p>100 rows × 4 columns</p>\n",
       "</div>"
      ],
      "text/plain": [
       "            Brand                                        Description Price  \\\n",
       "0   VINCENT CHASE             UV Protection Wayfarer Sunglasses (59)  ₹479   \n",
       "1   VINCENT CHASE     Polarized, UV Protection Round Sunglasses (50)  ₹609   \n",
       "2            SRPM             UV Protection Wayfarer Sunglasses (50)  ₹149   \n",
       "3       Elligator    UV Protection Aviator, Wayfarer Sunglasses (54)  ₹159   \n",
       "4        Fastrack             UV Protection Wayfarer Sunglasses (58)  ₹769   \n",
       "..            ...                                                ...   ...   \n",
       "95      Rich Club         UV Protection Retro Square Sunglasses (54)  ₹399   \n",
       "96      ROYAL SON                   Mirrored Aviator Sunglasses (58)  ₹359   \n",
       "97  VINCENT CHASE  by Lenskart Polarized, UV Protection Rectangul...  ₹609   \n",
       "98     cleardekho       UV Protection Cat-eye Sunglasses (Free Size)  ₹374   \n",
       "99       Fastrack              UV Protection Aviator Sunglasses (58)  ₹979   \n",
       "\n",
       "   Discount  \n",
       "0   76% off  \n",
       "1   69% off  \n",
       "2   88% off  \n",
       "3   87% off  \n",
       "4   30% off  \n",
       "..      ...  \n",
       "95  69% off  \n",
       "96  76% off  \n",
       "97  69% off  \n",
       "98  77% off  \n",
       "99  30% off  \n",
       "\n",
       "[100 rows x 4 columns]"
      ]
     },
     "execution_count": 17,
     "metadata": {},
     "output_type": "execute_result"
    }
   ],
   "source": [
    "# Making Dataframe\n",
    "df = pd.DataFrame({'Brand':sunglass_brand, 'Description':sunglass_desc, 'Price':sunglass_price, 'Discount':sunglass_discount})\n",
    "df = df.head(100)\n",
    "df"
   ]
  },
  {
   "cell_type": "markdown",
   "id": "8efe9d9a",
   "metadata": {},
   "source": [
    "# Q5: Scrape 100 reviews data from flipkart.com for iphone11 phone. You have to go the link: https://www.flipkart.com/apple-iphone-11-black-64-gb/product-reviews/itm4e5041ba101fd?pid=MOBFWQ6BXGJCEYNY&lid=LSTMOBFWQ6BXGJCEYNYZXSHRJ&marketplace=FLIPKART "
   ]
  },
  {
   "cell_type": "code",
   "execution_count": 4,
   "id": "2d6b49da",
   "metadata": {},
   "outputs": [],
   "source": [
    "driver = webdriver.Chrome()\n",
    "driver.get(\"https://www.flipkart.com/apple-iphone-11-black-64-gb/product-reviews/itm4e5041ba101fd?pid=MOBFWQ6BXGJCEYNY&lid=LSTMOBFWQ6BXGJCEYNYZXSHRJ&marketplace=FLIPKART\")"
   ]
  },
  {
   "cell_type": "code",
   "execution_count": 19,
   "id": "b9c1a627",
   "metadata": {},
   "outputs": [],
   "source": [
    "review_summary = []\n",
    "product_rating = []\n",
    "review_description = []"
   ]
  },
  {
   "cell_type": "code",
   "execution_count": 20,
   "id": "330e365e",
   "metadata": {},
   "outputs": [
    {
     "name": "stdout",
     "output_type": "stream",
     "text": [
      "100 100 100\n"
     ]
    }
   ],
   "source": [
    "start=0\n",
    "end=10\n",
    "\n",
    "for pages in range(start,end):\n",
    "    rating = driver.find_elements(By.XPATH,'//p[@class=\"_2-N8zT\"]')\n",
    "\n",
    "    for i in rating:\n",
    "        ratingvalue = i.text\n",
    "        review_summary.append(ratingvalue)\n",
    "        \n",
    "    reviewdesc = driver.find_elements(By.XPATH,'//div[@class=\"t-ZTKy\"]')\n",
    "\n",
    "    for i in reviewdesc:\n",
    "        descvalue = i.text\n",
    "        review_description.append(descvalue)\n",
    "        \n",
    "    rating = driver.find_elements(By.XPATH,'//div[@class=\"_3LWZlK _1BLPMq\"]')\n",
    "\n",
    "    for i in rating:\n",
    "        ratingvalue = i.text\n",
    "        product_rating.append(ratingvalue)\n",
    "\n",
    "    product_rating\n",
    "\n",
    "    next_button = driver.find_element(By.XPATH, '//a[@class=\"_1LKTO3\"]')\n",
    "    next_button.click()\n",
    "    time.sleep(15)\n",
    "\n",
    "print(len(product_rating), len(review_summary), len(review_description))"
   ]
  },
  {
   "cell_type": "code",
   "execution_count": 15,
   "id": "84ccc635",
   "metadata": {},
   "outputs": [
    {
     "name": "stdout",
     "output_type": "stream",
     "text": [
      "100\n"
     ]
    }
   ],
   "source": [
    "print(len(product_rating))"
   ]
  },
  {
   "cell_type": "code",
   "execution_count": 21,
   "id": "880b65e1",
   "metadata": {},
   "outputs": [
    {
     "data": {
      "text/html": [
       "<div>\n",
       "<style scoped>\n",
       "    .dataframe tbody tr th:only-of-type {\n",
       "        vertical-align: middle;\n",
       "    }\n",
       "\n",
       "    .dataframe tbody tr th {\n",
       "        vertical-align: top;\n",
       "    }\n",
       "\n",
       "    .dataframe thead th {\n",
       "        text-align: right;\n",
       "    }\n",
       "</style>\n",
       "<table border=\"1\" class=\"dataframe\">\n",
       "  <thead>\n",
       "    <tr style=\"text-align: right;\">\n",
       "      <th></th>\n",
       "      <th>Raring</th>\n",
       "      <th>Review Summary</th>\n",
       "      <th>Review Desc</th>\n",
       "    </tr>\n",
       "  </thead>\n",
       "  <tbody>\n",
       "    <tr>\n",
       "      <th>0</th>\n",
       "      <td>5</td>\n",
       "      <td>Brilliant</td>\n",
       "      <td>Excellent Phone.</td>\n",
       "    </tr>\n",
       "    <tr>\n",
       "      <th>1</th>\n",
       "      <td>5</td>\n",
       "      <td>Fabulous!</td>\n",
       "      <td>Super🔥 and good performance 👌❤️</td>\n",
       "    </tr>\n",
       "    <tr>\n",
       "      <th>2</th>\n",
       "      <td>5</td>\n",
       "      <td>Super!</td>\n",
       "      <td>Good product 👌I love iPhone</td>\n",
       "    </tr>\n",
       "    <tr>\n",
       "      <th>3</th>\n",
       "      <td>5</td>\n",
       "      <td>Perfect product!</td>\n",
       "      <td>V Good all</td>\n",
       "    </tr>\n",
       "    <tr>\n",
       "      <th>4</th>\n",
       "      <td>5</td>\n",
       "      <td>Great product</td>\n",
       "      <td>Purple is best</td>\n",
       "    </tr>\n",
       "    <tr>\n",
       "      <th>...</th>\n",
       "      <td>...</td>\n",
       "      <td>...</td>\n",
       "      <td>...</td>\n",
       "    </tr>\n",
       "    <tr>\n",
       "      <th>95</th>\n",
       "      <td>5</td>\n",
       "      <td>Classy product</td>\n",
       "      <td>Photos super</td>\n",
       "    </tr>\n",
       "    <tr>\n",
       "      <th>96</th>\n",
       "      <td>5</td>\n",
       "      <td>Just wow!</td>\n",
       "      <td>Perfect Product!!</td>\n",
       "    </tr>\n",
       "    <tr>\n",
       "      <th>97</th>\n",
       "      <td>5</td>\n",
       "      <td>Must buy!</td>\n",
       "      <td>It’s really awesome</td>\n",
       "    </tr>\n",
       "    <tr>\n",
       "      <th>98</th>\n",
       "      <td>5</td>\n",
       "      <td>Wonderful</td>\n",
       "      <td>This is amazing at all</td>\n",
       "    </tr>\n",
       "    <tr>\n",
       "      <th>99</th>\n",
       "      <td>5</td>\n",
       "      <td>Terrific purchase</td>\n",
       "      <td>Value for money 😍</td>\n",
       "    </tr>\n",
       "  </tbody>\n",
       "</table>\n",
       "<p>100 rows × 3 columns</p>\n",
       "</div>"
      ],
      "text/plain": [
       "   Raring     Review Summary                      Review Desc\n",
       "0       5          Brilliant                 Excellent Phone.\n",
       "1       5          Fabulous!  Super🔥 and good performance 👌❤️\n",
       "2       5             Super!      Good product 👌I love iPhone\n",
       "3       5   Perfect product!                       V Good all\n",
       "4       5      Great product                   Purple is best\n",
       "..    ...                ...                              ...\n",
       "95      5     Classy product                     Photos super\n",
       "96      5          Just wow!                Perfect Product!!\n",
       "97      5          Must buy!              It’s really awesome\n",
       "98      5          Wonderful           This is amazing at all\n",
       "99      5  Terrific purchase                Value for money 😍\n",
       "\n",
       "[100 rows x 3 columns]"
      ]
     },
     "execution_count": 21,
     "metadata": {},
     "output_type": "execute_result"
    }
   ],
   "source": [
    "# Making Dataframe\n",
    "df = pd.DataFrame({'Raring':product_rating, 'Review Summary':review_summary, 'Review Desc':review_description})\n",
    "df"
   ]
  },
  {
   "cell_type": "markdown",
   "id": "70469c07",
   "metadata": {},
   "source": [
    "# Q6: Scrape data for first 100 sneakers you find when you visit flipkart.com and search for “sneakers” in the search field"
   ]
  },
  {
   "cell_type": "code",
   "execution_count": 19,
   "id": "54117dfe",
   "metadata": {},
   "outputs": [],
   "source": [
    "driver = webdriver.Chrome()\n",
    "driver.get(\"http://www.flipkart.com/\")"
   ]
  },
  {
   "cell_type": "code",
   "execution_count": 20,
   "id": "c9238c5a",
   "metadata": {},
   "outputs": [],
   "source": [
    "time.sleep(5)\n",
    "\n",
    "closepopup = driver.find_element(By.CLASS_NAME,\"_30XB9F\")\n",
    "closepopup.click()\n",
    "\n",
    "searchterms = driver.find_element(By.CLASS_NAME,\"Pke_EE\")\n",
    "searchterms.send_keys('sneakers')\n",
    "\n",
    "search = driver.find_element(By.CLASS_NAME,\"_2iLD__\")\n",
    "search.click()"
   ]
  },
  {
   "cell_type": "code",
   "execution_count": 21,
   "id": "3a312f2a",
   "metadata": {},
   "outputs": [],
   "source": [
    "sneaker_brand = []\n",
    "sneaker_desc = []\n",
    "sneaker_price = []"
   ]
  },
  {
   "cell_type": "code",
   "execution_count": 25,
   "id": "0f1a7583",
   "metadata": {},
   "outputs": [
    {
     "name": "stdout",
     "output_type": "stream",
     "text": [
      "240 237 240\n"
     ]
    }
   ],
   "source": [
    "start=0\n",
    "end=3\n",
    "\n",
    "for pages in range(start,end):\n",
    "    brand = driver.find_elements(By.XPATH,'//div[@class=\"_2WkVRV\"]')\n",
    "\n",
    "    for i in brand:\n",
    "        brandvalue = i.text\n",
    "        sneaker_brand.append(brandvalue)\n",
    "        \n",
    "    description = driver.find_elements(By.XPATH,'//a[@class=\"IRpwTa\"]')\n",
    "\n",
    "    for i in description:\n",
    "        descvalue = i.text\n",
    "        sneaker_desc.append(descvalue)\n",
    "        \n",
    "    price = driver.find_elements(By.XPATH,'//div[@class=\"_30jeq3\"]')\n",
    "\n",
    "    for i in price:\n",
    "        pricevalue = i.text\n",
    "        sneaker_price.append(pricevalue)    \n",
    "    \n",
    "    next_button = driver.find_element(By.XPATH, '//a[@class=\"_1LKTO3\"]')\n",
    "    next_button.click()\n",
    "    time.sleep(15)\n",
    "    \n",
    "    \n",
    "print(len(sneaker_brand),len(sneaker_desc),len(sneaker_price))"
   ]
  },
  {
   "cell_type": "code",
   "execution_count": 27,
   "id": "53cc6918",
   "metadata": {},
   "outputs": [
    {
     "ename": "ValueError",
     "evalue": "All arrays must be of the same length",
     "output_type": "error",
     "traceback": [
      "\u001b[0;31m---------------------------------------------------------------------------\u001b[0m",
      "\u001b[0;31mValueError\u001b[0m                                Traceback (most recent call last)",
      "Cell \u001b[0;32mIn[27], line 2\u001b[0m\n\u001b[1;32m      1\u001b[0m \u001b[38;5;66;03m# Making Dataframe\u001b[39;00m\n\u001b[0;32m----> 2\u001b[0m df \u001b[38;5;241m=\u001b[39m \u001b[43mpd\u001b[49m\u001b[38;5;241;43m.\u001b[39;49m\u001b[43mDataFrame\u001b[49m\u001b[43m(\u001b[49m\u001b[43m{\u001b[49m\u001b[38;5;124;43m'\u001b[39;49m\u001b[38;5;124;43mRaring\u001b[39;49m\u001b[38;5;124;43m'\u001b[39;49m\u001b[43m:\u001b[49m\u001b[43msneaker_brand\u001b[49m\u001b[43m,\u001b[49m\u001b[43m \u001b[49m\u001b[38;5;124;43m'\u001b[39;49m\u001b[38;5;124;43mReview Summary\u001b[39;49m\u001b[38;5;124;43m'\u001b[39;49m\u001b[43m:\u001b[49m\u001b[43msneaker_desc\u001b[49m\u001b[43m,\u001b[49m\u001b[43m \u001b[49m\u001b[38;5;124;43m'\u001b[39;49m\u001b[38;5;124;43mReview Desc\u001b[39;49m\u001b[38;5;124;43m'\u001b[39;49m\u001b[43m:\u001b[49m\u001b[43msneaker_price\u001b[49m\u001b[43m}\u001b[49m\u001b[43m)\u001b[49m\n\u001b[1;32m      3\u001b[0m df \u001b[38;5;241m=\u001b[39m pd\u001b[38;5;241m.\u001b[39mhead(\u001b[38;5;241m100\u001b[39m)\n\u001b[1;32m      4\u001b[0m df\n",
      "File \u001b[0;32m~/anaconda3/lib/python3.10/site-packages/pandas/core/frame.py:709\u001b[0m, in \u001b[0;36mDataFrame.__init__\u001b[0;34m(self, data, index, columns, dtype, copy)\u001b[0m\n\u001b[1;32m    703\u001b[0m     mgr \u001b[38;5;241m=\u001b[39m \u001b[38;5;28mself\u001b[39m\u001b[38;5;241m.\u001b[39m_init_mgr(\n\u001b[1;32m    704\u001b[0m         data, axes\u001b[38;5;241m=\u001b[39m{\u001b[38;5;124m\"\u001b[39m\u001b[38;5;124mindex\u001b[39m\u001b[38;5;124m\"\u001b[39m: index, \u001b[38;5;124m\"\u001b[39m\u001b[38;5;124mcolumns\u001b[39m\u001b[38;5;124m\"\u001b[39m: columns}, dtype\u001b[38;5;241m=\u001b[39mdtype, copy\u001b[38;5;241m=\u001b[39mcopy\n\u001b[1;32m    705\u001b[0m     )\n\u001b[1;32m    707\u001b[0m \u001b[38;5;28;01melif\u001b[39;00m \u001b[38;5;28misinstance\u001b[39m(data, \u001b[38;5;28mdict\u001b[39m):\n\u001b[1;32m    708\u001b[0m     \u001b[38;5;66;03m# GH#38939 de facto copy defaults to False only in non-dict cases\u001b[39;00m\n\u001b[0;32m--> 709\u001b[0m     mgr \u001b[38;5;241m=\u001b[39m \u001b[43mdict_to_mgr\u001b[49m\u001b[43m(\u001b[49m\u001b[43mdata\u001b[49m\u001b[43m,\u001b[49m\u001b[43m \u001b[49m\u001b[43mindex\u001b[49m\u001b[43m,\u001b[49m\u001b[43m \u001b[49m\u001b[43mcolumns\u001b[49m\u001b[43m,\u001b[49m\u001b[43m \u001b[49m\u001b[43mdtype\u001b[49m\u001b[38;5;241;43m=\u001b[39;49m\u001b[43mdtype\u001b[49m\u001b[43m,\u001b[49m\u001b[43m \u001b[49m\u001b[43mcopy\u001b[49m\u001b[38;5;241;43m=\u001b[39;49m\u001b[43mcopy\u001b[49m\u001b[43m,\u001b[49m\u001b[43m \u001b[49m\u001b[43mtyp\u001b[49m\u001b[38;5;241;43m=\u001b[39;49m\u001b[43mmanager\u001b[49m\u001b[43m)\u001b[49m\n\u001b[1;32m    710\u001b[0m \u001b[38;5;28;01melif\u001b[39;00m \u001b[38;5;28misinstance\u001b[39m(data, ma\u001b[38;5;241m.\u001b[39mMaskedArray):\n\u001b[1;32m    711\u001b[0m     \u001b[38;5;28;01mfrom\u001b[39;00m \u001b[38;5;21;01mnumpy\u001b[39;00m\u001b[38;5;21;01m.\u001b[39;00m\u001b[38;5;21;01mma\u001b[39;00m \u001b[38;5;28;01mimport\u001b[39;00m mrecords\n",
      "File \u001b[0;32m~/anaconda3/lib/python3.10/site-packages/pandas/core/internals/construction.py:481\u001b[0m, in \u001b[0;36mdict_to_mgr\u001b[0;34m(data, index, columns, dtype, typ, copy)\u001b[0m\n\u001b[1;32m    477\u001b[0m     \u001b[38;5;28;01melse\u001b[39;00m:\n\u001b[1;32m    478\u001b[0m         \u001b[38;5;66;03m# dtype check to exclude e.g. range objects, scalars\u001b[39;00m\n\u001b[1;32m    479\u001b[0m         arrays \u001b[38;5;241m=\u001b[39m [x\u001b[38;5;241m.\u001b[39mcopy() \u001b[38;5;28;01mif\u001b[39;00m \u001b[38;5;28mhasattr\u001b[39m(x, \u001b[38;5;124m\"\u001b[39m\u001b[38;5;124mdtype\u001b[39m\u001b[38;5;124m\"\u001b[39m) \u001b[38;5;28;01melse\u001b[39;00m x \u001b[38;5;28;01mfor\u001b[39;00m x \u001b[38;5;129;01min\u001b[39;00m arrays]\n\u001b[0;32m--> 481\u001b[0m \u001b[38;5;28;01mreturn\u001b[39;00m \u001b[43marrays_to_mgr\u001b[49m\u001b[43m(\u001b[49m\u001b[43marrays\u001b[49m\u001b[43m,\u001b[49m\u001b[43m \u001b[49m\u001b[43mcolumns\u001b[49m\u001b[43m,\u001b[49m\u001b[43m \u001b[49m\u001b[43mindex\u001b[49m\u001b[43m,\u001b[49m\u001b[43m \u001b[49m\u001b[43mdtype\u001b[49m\u001b[38;5;241;43m=\u001b[39;49m\u001b[43mdtype\u001b[49m\u001b[43m,\u001b[49m\u001b[43m \u001b[49m\u001b[43mtyp\u001b[49m\u001b[38;5;241;43m=\u001b[39;49m\u001b[43mtyp\u001b[49m\u001b[43m,\u001b[49m\u001b[43m \u001b[49m\u001b[43mconsolidate\u001b[49m\u001b[38;5;241;43m=\u001b[39;49m\u001b[43mcopy\u001b[49m\u001b[43m)\u001b[49m\n",
      "File \u001b[0;32m~/anaconda3/lib/python3.10/site-packages/pandas/core/internals/construction.py:115\u001b[0m, in \u001b[0;36marrays_to_mgr\u001b[0;34m(arrays, columns, index, dtype, verify_integrity, typ, consolidate)\u001b[0m\n\u001b[1;32m    112\u001b[0m \u001b[38;5;28;01mif\u001b[39;00m verify_integrity:\n\u001b[1;32m    113\u001b[0m     \u001b[38;5;66;03m# figure out the index, if necessary\u001b[39;00m\n\u001b[1;32m    114\u001b[0m     \u001b[38;5;28;01mif\u001b[39;00m index \u001b[38;5;129;01mis\u001b[39;00m \u001b[38;5;28;01mNone\u001b[39;00m:\n\u001b[0;32m--> 115\u001b[0m         index \u001b[38;5;241m=\u001b[39m \u001b[43m_extract_index\u001b[49m\u001b[43m(\u001b[49m\u001b[43marrays\u001b[49m\u001b[43m)\u001b[49m\n\u001b[1;32m    116\u001b[0m     \u001b[38;5;28;01melse\u001b[39;00m:\n\u001b[1;32m    117\u001b[0m         index \u001b[38;5;241m=\u001b[39m ensure_index(index)\n",
      "File \u001b[0;32m~/anaconda3/lib/python3.10/site-packages/pandas/core/internals/construction.py:655\u001b[0m, in \u001b[0;36m_extract_index\u001b[0;34m(data)\u001b[0m\n\u001b[1;32m    653\u001b[0m lengths \u001b[38;5;241m=\u001b[39m \u001b[38;5;28mlist\u001b[39m(\u001b[38;5;28mset\u001b[39m(raw_lengths))\n\u001b[1;32m    654\u001b[0m \u001b[38;5;28;01mif\u001b[39;00m \u001b[38;5;28mlen\u001b[39m(lengths) \u001b[38;5;241m>\u001b[39m \u001b[38;5;241m1\u001b[39m:\n\u001b[0;32m--> 655\u001b[0m     \u001b[38;5;28;01mraise\u001b[39;00m \u001b[38;5;167;01mValueError\u001b[39;00m(\u001b[38;5;124m\"\u001b[39m\u001b[38;5;124mAll arrays must be of the same length\u001b[39m\u001b[38;5;124m\"\u001b[39m)\n\u001b[1;32m    657\u001b[0m \u001b[38;5;28;01mif\u001b[39;00m have_dicts:\n\u001b[1;32m    658\u001b[0m     \u001b[38;5;28;01mraise\u001b[39;00m \u001b[38;5;167;01mValueError\u001b[39;00m(\n\u001b[1;32m    659\u001b[0m         \u001b[38;5;124m\"\u001b[39m\u001b[38;5;124mMixing dicts with non-Series may lead to ambiguous ordering.\u001b[39m\u001b[38;5;124m\"\u001b[39m\n\u001b[1;32m    660\u001b[0m     )\n",
      "\u001b[0;31mValueError\u001b[0m: All arrays must be of the same length"
     ]
    }
   ],
   "source": [
    "# Making Dataframe\n",
    "df = pd.DataFrame({'Raring':sneaker_brand, 'Review Summary':sneaker_desc, 'Review Desc':sneaker_price})\n",
    "df = pd.head(100)\n",
    "df"
   ]
  },
  {
   "cell_type": "markdown",
   "id": "6120c28d",
   "metadata": {},
   "source": [
    "# Q7: Go to webpage https://www.amazon.in/ Enter “Laptop” in the search field and then click the search icon. Then set CPU Type filter to “Intel Core i7” as shown in the below image:"
   ]
  },
  {
   "cell_type": "markdown",
   "id": "6dd69156",
   "metadata": {},
   "source": [
    "Waiting for solution"
   ]
  },
  {
   "cell_type": "markdown",
   "id": "69ca55b5",
   "metadata": {},
   "source": [
    "# Q8: Write a python program to scrape data for Top 1000 Quotes of All Time."
   ]
  },
  {
   "cell_type": "code",
   "execution_count": 4,
   "id": "fda3188b",
   "metadata": {},
   "outputs": [],
   "source": [
    "driver = webdriver.Chrome()\n",
    "driver.get(\"https://www.azquotes.com/\")"
   ]
  },
  {
   "cell_type": "code",
   "execution_count": 5,
   "id": "047994ff",
   "metadata": {},
   "outputs": [],
   "source": [
    "time.sleep(5)\n",
    "\n",
    "clicktopquotes = driver.find_element(By.XPATH,\"/html/body/div[1]/div[1]/div[1]/div/div[3]/ul/li[5]/a\")\n",
    "clicktopquotes.click()"
   ]
  },
  {
   "cell_type": "code",
   "execution_count": 6,
   "id": "9aa8739f",
   "metadata": {},
   "outputs": [],
   "source": [
    "quotearray = []\n",
    "authorarray = []\n",
    "quotetypearry = []"
   ]
  },
  {
   "cell_type": "code",
   "execution_count": 11,
   "id": "f6425d86",
   "metadata": {},
   "outputs": [
    {
     "name": "stdout",
     "output_type": "stream",
     "text": [
      "1200 1200 1200\n"
     ]
    }
   ],
   "source": [
    "start=0\n",
    "end=9\n",
    "\n",
    "for pages in range(start,end):\n",
    "    quotes = driver.find_elements(By.XPATH,'//a[@class=\"title\"]')\n",
    "\n",
    "    for i in quotes:\n",
    "        quotevalue = i.text\n",
    "        quotearray.append(quotevalue)\n",
    "        \n",
    "    authors = driver.find_elements(By.XPATH,'//div[@class=\"author\"]')\n",
    "\n",
    "    for i in authors:\n",
    "        authorvalue = i.text\n",
    "        authorarray.append(authorvalue)\n",
    "        \n",
    "    types = driver.find_elements(By.XPATH,'//div[@class=\"tags\"]')\n",
    "\n",
    "    for i in types:\n",
    "        typevalue = i.text\n",
    "        quotetypearry.append(typevalue)\n",
    "    \n",
    "    next_button = driver.find_element(By.XPATH, '//li[@class=\"next\"]')\n",
    "    next_button.click()\n",
    "    time.sleep(15)\n",
    "    \n",
    "    \n",
    "print(len(quotearray),len(authorarray),len(quotetypearry))"
   ]
  },
  {
   "cell_type": "code",
   "execution_count": 12,
   "id": "254041b1",
   "metadata": {},
   "outputs": [
    {
     "data": {
      "text/html": [
       "<div>\n",
       "<style scoped>\n",
       "    .dataframe tbody tr th:only-of-type {\n",
       "        vertical-align: middle;\n",
       "    }\n",
       "\n",
       "    .dataframe tbody tr th {\n",
       "        vertical-align: top;\n",
       "    }\n",
       "\n",
       "    .dataframe thead th {\n",
       "        text-align: right;\n",
       "    }\n",
       "</style>\n",
       "<table border=\"1\" class=\"dataframe\">\n",
       "  <thead>\n",
       "    <tr style=\"text-align: right;\">\n",
       "      <th></th>\n",
       "      <th>Quotes</th>\n",
       "      <th>Authors</th>\n",
       "      <th>Type Of Quotes</th>\n",
       "    </tr>\n",
       "  </thead>\n",
       "  <tbody>\n",
       "    <tr>\n",
       "      <th>0</th>\n",
       "      <td>The essence of strategy is choosing what not t...</td>\n",
       "      <td>Michael Porter</td>\n",
       "      <td>Essence, Deep Thought, Transcendentalism</td>\n",
       "    </tr>\n",
       "    <tr>\n",
       "      <th>1</th>\n",
       "      <td>One cannot and must not try to erase the past ...</td>\n",
       "      <td>Golda Meir</td>\n",
       "      <td>Inspiration, Past, Trying</td>\n",
       "    </tr>\n",
       "    <tr>\n",
       "      <th>2</th>\n",
       "      <td>Patriotism means to stand by the country. It d...</td>\n",
       "      <td>Theodore Roosevelt</td>\n",
       "      <td>Country, Peace, War</td>\n",
       "    </tr>\n",
       "    <tr>\n",
       "      <th>3</th>\n",
       "      <td>Death is something inevitable. When a man has ...</td>\n",
       "      <td>Nelson Mandela</td>\n",
       "      <td>Inspirational, Motivational, Death</td>\n",
       "    </tr>\n",
       "    <tr>\n",
       "      <th>4</th>\n",
       "      <td>You have to love a nation that celebrates its ...</td>\n",
       "      <td>Erma Bombeck</td>\n",
       "      <td>4th Of July, Food, Patriotic</td>\n",
       "    </tr>\n",
       "    <tr>\n",
       "      <th>...</th>\n",
       "      <td>...</td>\n",
       "      <td>...</td>\n",
       "      <td>...</td>\n",
       "    </tr>\n",
       "    <tr>\n",
       "      <th>995</th>\n",
       "      <td>All things are difficult before they are easy.</td>\n",
       "      <td>Thomas Fuller</td>\n",
       "      <td>Inspirational, Motivational, Positive</td>\n",
       "    </tr>\n",
       "    <tr>\n",
       "      <th>996</th>\n",
       "      <td>People ask the difference between a leader and...</td>\n",
       "      <td>Theodore Roosevelt</td>\n",
       "      <td>Leadership, Differences, People</td>\n",
       "    </tr>\n",
       "    <tr>\n",
       "      <th>997</th>\n",
       "      <td>The thing that is really hard, and really amaz...</td>\n",
       "      <td>Anna Quindlen</td>\n",
       "      <td>Confidence, Letting Go, Being Yourself</td>\n",
       "    </tr>\n",
       "    <tr>\n",
       "      <th>998</th>\n",
       "      <td>Love is the ability and willingness to allow t...</td>\n",
       "      <td>Wayne Dyer</td>\n",
       "      <td>Love, Anxiety, Self Improvement</td>\n",
       "    </tr>\n",
       "    <tr>\n",
       "      <th>999</th>\n",
       "      <td>Sooner or later, those who win are those who t...</td>\n",
       "      <td>Paul Tournier</td>\n",
       "      <td>Positive, Sports, Confidence</td>\n",
       "    </tr>\n",
       "  </tbody>\n",
       "</table>\n",
       "<p>1000 rows × 3 columns</p>\n",
       "</div>"
      ],
      "text/plain": [
       "                                                Quotes             Authors  \\\n",
       "0    The essence of strategy is choosing what not t...      Michael Porter   \n",
       "1    One cannot and must not try to erase the past ...          Golda Meir   \n",
       "2    Patriotism means to stand by the country. It d...  Theodore Roosevelt   \n",
       "3    Death is something inevitable. When a man has ...      Nelson Mandela   \n",
       "4    You have to love a nation that celebrates its ...        Erma Bombeck   \n",
       "..                                                 ...                 ...   \n",
       "995     All things are difficult before they are easy.       Thomas Fuller   \n",
       "996  People ask the difference between a leader and...  Theodore Roosevelt   \n",
       "997  The thing that is really hard, and really amaz...       Anna Quindlen   \n",
       "998  Love is the ability and willingness to allow t...          Wayne Dyer   \n",
       "999  Sooner or later, those who win are those who t...       Paul Tournier   \n",
       "\n",
       "                               Type Of Quotes  \n",
       "0    Essence, Deep Thought, Transcendentalism  \n",
       "1                   Inspiration, Past, Trying  \n",
       "2                         Country, Peace, War  \n",
       "3          Inspirational, Motivational, Death  \n",
       "4                4th Of July, Food, Patriotic  \n",
       "..                                        ...  \n",
       "995     Inspirational, Motivational, Positive  \n",
       "996           Leadership, Differences, People  \n",
       "997    Confidence, Letting Go, Being Yourself  \n",
       "998           Love, Anxiety, Self Improvement  \n",
       "999              Positive, Sports, Confidence  \n",
       "\n",
       "[1000 rows x 3 columns]"
      ]
     },
     "execution_count": 12,
     "metadata": {},
     "output_type": "execute_result"
    }
   ],
   "source": [
    "# Making Dataframe\n",
    "df = pd.DataFrame({'Quotes':quotearray, 'Authors':authorarray, 'Type Of Quotes':quotetypearry})\n",
    "df = df.head(1000)\n",
    "df"
   ]
  },
  {
   "cell_type": "markdown",
   "id": "a5631af8",
   "metadata": {},
   "source": [
    "# Q9: Write a python program to display list of respected former Prime Ministers of India(i.e. Name, Born-Dead, Term of office, Remarks) from https://www.jagranjosh.com/."
   ]
  },
  {
   "cell_type": "code",
   "execution_count": 6,
   "id": "0cf0cbcb",
   "metadata": {},
   "outputs": [],
   "source": [
    "driver = webdriver.Chrome()\n",
    "driver.get(\"https://www.jagranjosh.com/\")"
   ]
  },
  {
   "cell_type": "code",
   "execution_count": 7,
   "id": "f4f41655",
   "metadata": {},
   "outputs": [],
   "source": [
    "clicktogk = driver.find_element(By.XPATH,'//*[@id=\"__next\"]/header/nav/div/div/div[3]/ul/li[3]')\n",
    "clicktogk.click()"
   ]
  },
  {
   "cell_type": "code",
   "execution_count": 8,
   "id": "7fae668d",
   "metadata": {},
   "outputs": [],
   "source": [
    "time.sleep(2)\n",
    "clicktlist = driver.find_element(By.XPATH,'/html/body/div[1]/div/div/div[2]/div/div[10]/div/div/ul/li[2]')\n",
    "clicktlist.click()"
   ]
  },
  {
   "cell_type": "code",
   "execution_count": 11,
   "id": "d224f4e3",
   "metadata": {},
   "outputs": [
    {
     "ename": "NameError",
     "evalue": "name 'soup2' is not defined",
     "output_type": "error",
     "traceback": [
      "\u001b[0;31m---------------------------------------------------------------------------\u001b[0m",
      "\u001b[0;31mNameError\u001b[0m                                 Traceback (most recent call last)",
      "Cell \u001b[0;32mIn[11], line 6\u001b[0m\n\u001b[1;32m      4\u001b[0m page2 \u001b[38;5;241m=\u001b[39m driver\u001b[38;5;241m.\u001b[39mget(\u001b[38;5;124m'\u001b[39m\u001b[38;5;124mhttps://www.jagranjosh.com/general-knowledge/list-of-all-prime-ministers-of-india-1473165149-1\u001b[39m\u001b[38;5;124m'\u001b[39m)\n\u001b[1;32m      5\u001b[0m \u001b[38;5;66;03m#soup2 = BeautifulSoup(page2.content)\u001b[39;00m\n\u001b[0;32m----> 6\u001b[0m \u001b[38;5;28mprint\u001b[39m(\u001b[43msoup2\u001b[49m\u001b[38;5;241m.\u001b[39mprettify())\n",
      "\u001b[0;31mNameError\u001b[0m: name 'soup2' is not defined"
     ]
    }
   ],
   "source": [
    "from bs4 import BeautifulSoup\n",
    "import requests\n",
    "\n",
    "page2 = driver.get('https://www.jagranjosh.com/general-knowledge/list-of-all-prime-ministers-of-india-1473165149-1')\n",
    "soup2 = BeautifulSoup(page2.content)\n",
    "print(soup2.prettify())\n",
    "\n",
    "#import re\n",
    "#findtable = soup2.find('table-box') \n",
    "\n",
    "#contents = []\n",
    "\n",
    "# Getting all rows\n",
    "#for row in findtable.find_all('tr'): \n",
    "#    contents.append(re.split('\\n', row.text))\n",
    "    #contents.append(row.text)\n",
    "    \n",
    "#contents"
   ]
  },
  {
   "cell_type": "code",
   "execution_count": 1,
   "id": "80b4f05e",
   "metadata": {},
   "outputs": [
    {
     "ename": "SyntaxError",
     "evalue": "invalid syntax (2140203645.py, line 1)",
     "output_type": "error",
     "traceback": [
      "\u001b[0;36m  Cell \u001b[0;32mIn[1], line 1\u001b[0;36m\u001b[0m\n\u001b[0;31m    pip install bs4\u001b[0m\n\u001b[0m        ^\u001b[0m\n\u001b[0;31mSyntaxError\u001b[0m\u001b[0;31m:\u001b[0m invalid syntax\n"
     ]
    }
   ],
   "source": []
  },
  {
   "cell_type": "code",
   "execution_count": 20,
   "id": "95fac917",
   "metadata": {},
   "outputs": [
    {
     "data": {
      "text/plain": [
       "['Amelia Earhart',\n",
       " 'Ludwig von Mises',\n",
       " 'Elizabeth Cady Stanton',\n",
       " 'Benjamin Spock',\n",
       " 'Michael Jordan',\n",
       " 'Charles Kettering',\n",
       " 'B.K.S. Iyengar',\n",
       " 'Michael Caine',\n",
       " 'Billy Graham',\n",
       " 'Jim Rohn',\n",
       " 'William Arthur Ward',\n",
       " 'Thomas A. Edison',\n",
       " 'Thomas Merton',\n",
       " 'George Mason',\n",
       " 'Michael Chang',\n",
       " 'Jim Rohn',\n",
       " 'Leo Buscaglia',\n",
       " 'Richard Harding Davis',\n",
       " 'Benjamin Franklin',\n",
       " 'Bob Marley',\n",
       " 'Friedrich Nietzsche',\n",
       " 'Larry Eisenberg',\n",
       " 'Robert A. Heinlein',\n",
       " 'Pablo Picasso',\n",
       " 'William Ellery Channing',\n",
       " 'Confucius',\n",
       " 'George A. Sheehan',\n",
       " 'William Arthur Ward',\n",
       " 'Helen Hayes',\n",
       " 'Robert W. Service',\n",
       " 'Henry Wadsworth Longfellow',\n",
       " 'Bruce Lee',\n",
       " 'Voltaire',\n",
       " 'Lewis Carroll',\n",
       " 'Miles Davis',\n",
       " 'Jim Morrison',\n",
       " 'Mark Twain',\n",
       " 'Malcolm Forbes',\n",
       " 'Eckhart Tolle',\n",
       " 'Albert Einstein',\n",
       " 'Robert E. Cushman, Jr.',\n",
       " 'Flip Wilson',\n",
       " 'Claude Bernard',\n",
       " 'Plato',\n",
       " 'Franklin D. Roosevelt',\n",
       " 'Maya Angelou',\n",
       " 'Vince Lombardi',\n",
       " 'Willie Nelson',\n",
       " 'George Washington Carver',\n",
       " 'Mario',\n",
       " 'Rabindranath Tagore',\n",
       " 'Mother Teresa',\n",
       " 'Jim Rohn',\n",
       " 'Tony Robbins',\n",
       " 'Norman Vincent Peale',\n",
       " 'Franklin D. Roosevelt',\n",
       " 'Winston Churchill',\n",
       " 'Steve Jobs',\n",
       " 'Norman Vincent Peale',\n",
       " 'John Burroughs',\n",
       " 'Albert Einstein',\n",
       " 'Edward R. Murrow',\n",
       " 'Sam Walton',\n",
       " 'R. Buckminster Fuller',\n",
       " 'Loretta Young',\n",
       " 'Marvin Minsky',\n",
       " 'Nancy Lopez',\n",
       " 'Jesse Owens',\n",
       " 'Jane Austen',\n",
       " 'Al Neuharth',\n",
       " 'Lillian Hellman',\n",
       " 'Nhat Hanh',\n",
       " 'Daniel J. Boorstin',\n",
       " 'Judy Garland',\n",
       " 'Og Mandino',\n",
       " 'John Bingham',\n",
       " 'Albert Einstein',\n",
       " 'William James',\n",
       " 'Rita Mae Brown',\n",
       " 'John Dewey',\n",
       " 'Desmond Tutu',\n",
       " 'Margaret Thatcher',\n",
       " 'Eckhart Tolle',\n",
       " 'Ayn Rand',\n",
       " 'Calvin Coolidge',\n",
       " 'Leo Buscaglia',\n",
       " 'Rumi',\n",
       " 'Mark Twain',\n",
       " 'Friedrich Nietzsche',\n",
       " 'Giorgio Armani',\n",
       " 'Aesop',\n",
       " 'Jane Austen',\n",
       " 'Samuel Johnson',\n",
       " 'Elie Wiesel',\n",
       " 'John C. Maxwell',\n",
       " 'Sydney J. Harris',\n",
       " 'Hunter S. Thompson',\n",
       " 'Jim Rohn',\n",
       " 'Ram Dass',\n",
       " 'Plutarch']"
      ]
     },
     "execution_count": 20,
     "metadata": {},
     "output_type": "execute_result"
    }
   ],
   "source": [
    "authorarray = []\n",
    "\n",
    "authors = driver.find_elements(By.XPATH,'//div[@class=\"author\"]')\n",
    "\n",
    "for i in authors:\n",
    "    authorvalue = i.text\n",
    "    authorarray.append(authorvalue)\n",
    "        \n",
    "authorarray"
   ]
  },
  {
   "cell_type": "code",
   "execution_count": 21,
   "id": "b4efe5c8",
   "metadata": {},
   "outputs": [
    {
     "name": "stdout",
     "output_type": "stream",
     "text": [
      "100\n"
     ]
    }
   ],
   "source": [
    "print(len(authorarray))"
   ]
  }
 ],
 "metadata": {
  "kernelspec": {
   "display_name": "Python 3 (ipykernel)",
   "language": "python",
   "name": "python3"
  },
  "language_info": {
   "codemirror_mode": {
    "name": "ipython",
    "version": 3
   },
   "file_extension": ".py",
   "mimetype": "text/x-python",
   "name": "python",
   "nbconvert_exporter": "python",
   "pygments_lexer": "ipython3",
   "version": "3.10.11"
  }
 },
 "nbformat": 4,
 "nbformat_minor": 5
}
